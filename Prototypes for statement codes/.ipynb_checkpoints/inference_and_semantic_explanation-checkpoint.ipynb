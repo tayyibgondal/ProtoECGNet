{
 "cells": [
  {
   "cell_type": "code",
   "execution_count": 5,
   "id": "263dbcf3-210b-41dd-acaf-2ca518cee467",
   "metadata": {},
   "outputs": [],
   "source": [
    "import torch\n",
    "import torch.nn as nn\n",
    "from tqdm import tqdm\n",
    "import numpy as np\n",
    "import matplotlib.pyplot as plt\n",
    "\n",
    "from sklearn.metrics import roc_auc_score\n",
    "import numpy as np\n",
    "from torchvision import transforms\n",
    "from PIL import Image\n",
    "\n",
    "# book keeping namings and code\n",
    "from settings import img_size, prototype_shape, num_classes, \\\n",
    "                     prototype_activation_function, \\\n",
    "                     add_on_layers_type, test_information\n",
    "\n",
    "import model_for_superclasses as model\n",
    "\n",
    "# Set device\n",
    "device = torch.device('cuda' if torch.cuda.is_available() else 'cpu')"
   ]
  },
  {
   "cell_type": "code",
   "execution_count": 6,
   "id": "52095495-abb3-41e4-a82c-1e90f17718ca",
   "metadata": {},
   "outputs": [],
   "source": [
    "saved_model_path = 'saved_models/vgg11/15/10_14pushAUROC_0.9006.pth'"
   ]
  },
  {
   "cell_type": "code",
   "execution_count": 7,
   "id": "69d6bd45-c637-4831-b0ba-506fec49b9a6",
   "metadata": {},
   "outputs": [],
   "source": [
    "# construct the model\n",
    "base_architecture = 'vgg11'\n",
    "ppnet = model.construct_PPNet(base_architecture=base_architecture,\n",
    "                              pretrained=True, img_size=img_size,\n",
    "                              prototype_shape=prototype_shape,\n",
    "                              num_classes=num_classes,\n",
    "                              prototype_activation_function=prototype_activation_function,\n",
    "                              add_on_layers_type=add_on_layers_type)\n",
    "ppnet = ppnet.to('cuda')"
   ]
  },
  {
   "cell_type": "code",
   "execution_count": 8,
   "id": "8158b055-0127-4ee8-a951-7e477fa260c9",
   "metadata": {},
   "outputs": [
    {
     "name": "stderr",
     "output_type": "stream",
     "text": [
      "/tmp/ipykernel_2881765/322098558.py:2: FutureWarning: You are using `torch.load` with `weights_only=False` (the current default value), which uses the default pickle module implicitly. It is possible to construct malicious pickle data which will execute arbitrary code during unpickling (See https://github.com/pytorch/pytorch/blob/main/SECURITY.md#untrusted-models for more details). In a future release, the default value for `weights_only` will be flipped to `True`. This limits the functions that could be executed during unpickling. Arbitrary objects will no longer be allowed to be loaded via this mode unless they are explicitly allowlisted by the user via `torch.serialization.add_safe_globals`. We recommend you start setting `weights_only=True` for any use case where you don't have full control of the loaded file. Please open an issue on GitHub for any issues related to this experimental feature.\n",
      "  ppnet.load_state_dict(torch.load(saved_model_path))\n"
     ]
    },
    {
     "data": {
      "text/plain": [
       "PPNet(\n",
       "\tfeatures: VGG11, batch_norm=False,\n",
       "\timg_size: 224,\n",
       "\tprototype_shape: (2272, 128, 1, 1),\n",
       "\tproto_layer_rf_info: [7, 32, 150, 16.0],\n",
       "\tnum_classes: 5,\n",
       "\tepsilon: 0.0001\n",
       ")"
      ]
     },
     "execution_count": 8,
     "metadata": {},
     "output_type": "execute_result"
    }
   ],
   "source": [
    "# Load the model\n",
    "ppnet.load_state_dict(torch.load(saved_model_path))\n",
    "ppnet.eval()"
   ]
  },
  {
   "cell_type": "code",
   "execution_count": 9,
   "id": "9cd648d0-d804-46a4-b56e-ae54f6a5a461",
   "metadata": {},
   "outputs": [],
   "source": [
    "ecg_path = \"../../../../../data/padmalab_external/special_project/physionet.org/files/ptb-xl/1.0.3/records100_ground_truth/records100_ground_truth_00000/00009_lr-0.png\""
   ]
  },
  {
   "cell_type": "code",
   "execution_count": 10,
   "id": "6679df9b-1b79-446b-9c2b-e07ec2e9ebb4",
   "metadata": {},
   "outputs": [],
   "source": [
    "# Define transformations\n",
    "normalize = transforms.Normalize(mean=[0.485, 0.456, 0.406], std=[0.229, 0.224, 0.225])\n",
    "transform = transforms.Compose([\n",
    "    transforms.Resize((img_size, img_size)),\n",
    "    transforms.ToTensor(),\n",
    "    normalize,\n",
    "])"
   ]
  },
  {
   "cell_type": "code",
   "execution_count": 11,
   "id": "70dd85c3-5e24-4780-b161-a51e1fb734fe",
   "metadata": {},
   "outputs": [],
   "source": [
    "image = Image.open(ecg_path).convert('RGB')\n",
    "image = transform(image)\n",
    "image = image.unsqueeze(0).cuda()"
   ]
  },
  {
   "cell_type": "code",
   "execution_count": 12,
   "id": "45a9b316-6641-4c16-bb4a-55cee6472abc",
   "metadata": {},
   "outputs": [
    {
     "data": {
      "text/plain": [
       "torch.Size([1, 3, 224, 224])"
      ]
     },
     "execution_count": 12,
     "metadata": {},
     "output_type": "execute_result"
    }
   ],
   "source": [
    "image.shape"
   ]
  },
  {
   "cell_type": "code",
   "execution_count": 13,
   "id": "f27a5147-542c-4ed6-b068-796269097502",
   "metadata": {},
   "outputs": [],
   "source": [
    "logits, min_distances = ppnet(image)"
   ]
  },
  {
   "cell_type": "code",
   "execution_count": 14,
   "id": "c0fb2a4a-7609-44fe-843f-5627b324e44f",
   "metadata": {},
   "outputs": [
    {
     "data": {
      "text/plain": [
       "tensor([[0, 0, 0, 1, 0]], device='cuda:0', dtype=torch.int32)"
      ]
     },
     "execution_count": 14,
     "metadata": {},
     "output_type": "execute_result"
    }
   ],
   "source": [
    "labels = (torch.sigmoid(logits) > 0.5).int()\n",
    "labels"
   ]
  },
  {
   "cell_type": "code",
   "execution_count": 15,
   "id": "ee9e76a8-2e69-4007-8e1a-1e0d5b192dc8",
   "metadata": {},
   "outputs": [
    {
     "data": {
      "text/plain": [
       "tensor(4.3232, device='cuda:0', grad_fn=<MaxBackward1>)"
      ]
     },
     "execution_count": 15,
     "metadata": {},
     "output_type": "execute_result"
    }
   ],
   "source": [
    "torch.max(min_distances)"
   ]
  },
  {
   "cell_type": "code",
   "execution_count": 16,
   "id": "8f23b906-d76c-4cd7-84e0-601f44d79f62",
   "metadata": {},
   "outputs": [
    {
     "data": {
      "text/plain": [
       "tensor([[0.7552, 2.5508, 0.4991,  ..., 1.2664, 1.4957, 1.8655]],\n",
       "       device='cuda:0', grad_fn=<LogBackward0>)"
      ]
     },
     "execution_count": 16,
     "metadata": {},
     "output_type": "execute_result"
    }
   ],
   "source": [
    "prototype_activations = ppnet.distance_2_similarity(min_distances)\n",
    "prototype_activations"
   ]
  },
  {
   "cell_type": "code",
   "execution_count": 17,
   "id": "e1cf0107-68bc-41f9-9a61-0e4b5f032a4c",
   "metadata": {},
   "outputs": [
    {
     "data": {
      "text/plain": [
       "tensor(5.2453, device='cuda:0', grad_fn=<MaxBackward1>)"
      ]
     },
     "execution_count": 17,
     "metadata": {},
     "output_type": "execute_result"
    }
   ],
   "source": [
    "torch.max(prototype_activations)"
   ]
  },
  {
   "cell_type": "code",
   "execution_count": 18,
   "id": "3fa6945c-6dc8-4a03-929e-868017fed9a2",
   "metadata": {},
   "outputs": [],
   "source": [
    "import matplotlib.pyplot as plt\n",
    "import seaborn as sns"
   ]
  },
  {
   "cell_type": "code",
   "execution_count": 19,
   "id": "b793dd97-5c0c-49e9-a343-c2975551ea7f",
   "metadata": {},
   "outputs": [
    {
     "data": {
      "image/png": "[encoded data removed]",
      "text/plain": [
       "<Figure size 1500x200 with 2 Axes>"
      ]
     },
     "metadata": {},
     "output_type": "display_data"
    }
   ],
   "source": [
    "# Convert the tensor to a NumPy array\n",
    "data = prototype_activations.detach().cpu().numpy()\n",
    "\n",
    "# Generate the heatmap\n",
    "plt.figure(figsize=(15, 2))  # Adjust the figure size as needed\n",
    "sns.heatmap(data, cmap='viridis', cbar=True)\n",
    "\n",
    "# Display the heatmap\n",
    "plt.show()"
   ]
  },
  {
   "cell_type": "code",
   "execution_count": 20,
   "id": "80e44e00-5af9-48ea-a328-6200a70498b4",
   "metadata": {},
   "outputs": [
    {
     "data": {
      "text/plain": [
       "(1, 2272)"
      ]
     },
     "execution_count": 20,
     "metadata": {},
     "output_type": "execute_result"
    }
   ],
   "source": [
    "data.shape"
   ]
  },
  {
   "cell_type": "code",
   "execution_count": 21,
   "id": "e33bbcd0-576a-420f-b504-a00065866e34",
   "metadata": {},
   "outputs": [
    {
     "data": {
      "text/plain": [
       "71.0"
      ]
     },
     "execution_count": 21,
     "metadata": {},
     "output_type": "execute_result"
    }
   ],
   "source": [
    "2272/32"
   ]
  },
  {
   "cell_type": "code",
   "execution_count": 25,
   "id": "0b47766a-05d2-4f76-9a36-9c16d3a91971",
   "metadata": {},
   "outputs": [
    {
     "name": "stdout",
     "output_type": "stream",
     "text": [
      "Most activated bin indices: tensor([[31, 43, 41,  6, 36, 44, 38, 13, 59, 48, 18,  0, 57,  1,  9, 58,  3, 34,\n",
      "         33, 37,  7,  5, 17, 30, 51, 45, 20, 42, 52, 32, 24, 40, 61, 10, 49,  8,\n",
      "         65, 63, 23, 62, 69, 27, 56, 39, 14, 55, 50, 70, 11, 28, 35,  2, 21, 16,\n",
      "         25, 47, 22,  4, 68, 12, 54, 53, 19, 46, 29, 67, 26, 64, 66, 15, 60]],\n",
      "       device='cuda:0')\n",
      "Corresponding activation values: tensor([65.0448, 62.0520, 61.6152, 59.7585, 59.2356, 59.0876, 56.9472, 56.7372,\n",
      "        55.6710, 55.4191, 55.3335, 55.1196, 55.0018, 54.7072, 54.3891, 54.2022,\n",
      "        53.7126, 53.3340, 53.1772, 52.7912, 52.5676, 52.5594, 51.9578, 51.8999,\n",
      "        51.2081, 51.2064, 50.9346, 50.9119, 50.2663, 50.1454, 50.0039, 49.9660,\n",
      "        49.8956, 49.8684, 49.8307, 49.8227, 49.7412, 49.6359, 49.5411, 49.3050,\n",
      "        48.9147, 48.6121, 48.5887, 48.5059, 48.2705, 48.1784, 48.1275, 48.0152,\n",
      "        48.0064, 48.0045, 48.0000, 47.8763, 47.8141, 47.4155, 47.3790, 47.2887,\n",
      "        47.1339, 46.6857, 46.4285, 45.8299, 45.8217, 45.4308, 45.3906, 44.5831,\n",
      "        44.5791, 44.2361, 43.7263, 42.2740, 42.0804, 40.7414, 39.9975],\n",
      "       device='cuda:0', grad_fn=<IndexBackward0>)\n"
     ]
    }
   ],
   "source": [
    "# Define the bin size\n",
    "num_prototypes_for_each_class = 32\n",
    "\n",
    "# Calculate the number of bins\n",
    "num_bins = data.shape[1] // num_prototypes_for_each_class\n",
    "\n",
    "# Reshape the tensor into bins and sum across each bin\n",
    "binned_tensor = prototype_activations.view(1, num_bins, num_prototypes_for_each_class).sum(dim=2)\n",
    "\n",
    "# Get the indices of the most activated bins (sorted in descending order)\n",
    "most_activated_bins = torch.argsort(binned_tensor, dim=1, descending=True)\n",
    "\n",
    "# Get the values of the most activated bins\n",
    "most_activated_values = binned_tensor[0, most_activated_bins[0]]\n",
    "\n",
    "print(\"Most activated bin indices:\", most_activated_bins)\n",
    "print(\"Corresponding activation values:\", most_activated_values)"
   ]
  },
  {
   "cell_type": "code",
   "execution_count": 26,
   "id": "64b2d0c6-3783-44d8-8126-6db499100590",
   "metadata": {},
   "outputs": [
    {
     "data": {
      "text/plain": [
       "tensor([31, 43, 41,  6, 36], device='cuda:0')"
      ]
     },
     "execution_count": 26,
     "metadata": {},
     "output_type": "execute_result"
    }
   ],
   "source": [
    "most_activated_bins[0][:5]"
   ]
  },
  {
   "cell_type": "code",
   "execution_count": 27,
   "id": "3294daad-467f-452b-b996-a05cf12f41a4",
   "metadata": {},
   "outputs": [
    {
     "data": {
      "text/plain": [
       "tensor([65.0448, 62.0520, 61.6152, 59.7585, 59.2356], device='cuda:0',\n",
       "       grad_fn=<SliceBackward0>)"
      ]
     },
     "execution_count": 27,
     "metadata": {},
     "output_type": "execute_result"
    }
   ],
   "source": [
    "most_activated_values[0:5]"
   ]
  },
  {
   "cell_type": "code",
   "execution_count": 28,
   "id": "97cd1ccf-30be-4b56-8e68-dc3f61b63e29",
   "metadata": {},
   "outputs": [
    {
     "data": {
      "text/plain": [
       "71"
      ]
     },
     "execution_count": 28,
     "metadata": {},
     "output_type": "execute_result"
    }
   ],
   "source": [
    "len(most_activated_bins[0])"
   ]
  },
  {
   "cell_type": "code",
   "execution_count": 29,
   "id": "b7c3b3a3-dec8-407c-8da5-3d6044f56b7f",
   "metadata": {},
   "outputs": [],
   "source": [
    "### TODO: should i use softmaxed probs rather than similarities?"
   ]
  },
  {
   "cell_type": "markdown",
   "id": "98318c7f-4d4b-4acf-bebf-d24f797849ce",
   "metadata": {},
   "source": [
    "# number to scp label"
   ]
  },
  {
   "cell_type": "code",
   "execution_count": 30,
   "id": "b7f7ff8d-2761-4853-b906-7abc754a1e2d",
   "metadata": {},
   "outputs": [
    {
     "name": "stdout",
     "output_type": "stream",
     "text": [
      "Diagnostic Class Mappings: {'0': 'CD', '1': 'HYP', '2': 'MI', '3': 'NORM', '4': 'STTC'}\n",
      "SCP Label Mappings: {'0': '1AVB', '1': '2AVB', '2': '3AVB', '3': 'ABQRS', '4': 'AFIB', '5': 'AFLT', '6': 'ALMI', '7': 'AMI', '8': 'ANEUR', '9': 'ASMI', '10': 'BIGU', '11': 'CLBBB', '12': 'CRBBB', '13': 'DIG', '14': 'EL', '15': 'HVOLT', '16': 'ILBBB', '17': 'ILMI', '18': 'IMI', '19': 'INJAL', '20': 'INJAS', '21': 'INJIL', '22': 'INJIN', '23': 'INJLA', '24': 'INVT', '25': 'IPLMI', '26': 'IPMI', '27': 'IRBBB', '28': 'ISCAL', '29': 'ISCAN', '30': 'ISCAS', '31': 'ISCIL', '32': 'ISCIN', '33': 'ISCLA', '34': 'ISC_', '35': 'IVCD', '36': 'LAFB', '37': 'LAO/LAE', '38': 'LMI', '39': 'LNGQT', '40': 'LOWT', '41': 'LPFB', '42': 'LPR', '43': 'LVH', '44': 'LVOLT', '45': 'NDT', '46': 'NORM', '47': 'NST_', '48': 'NT_', '49': 'PAC', '50': 'PACE', '51': 'PMI', '52': 'PRC(S)', '53': 'PSVT', '54': 'PVC', '55': 'QWAVE', '56': 'RAO/RAE', '57': 'RVH', '58': 'SARRH', '59': 'SBRAD', '60': 'SEHYP', '61': 'SR', '62': 'STACH', '63': 'STD_', '64': 'STE_', '65': 'SVARR', '66': 'SVTAC', '67': 'TAB_', '68': 'TRIGU', '69': 'VCLVH', '70': 'WPW'}\n"
     ]
    }
   ],
   "source": [
    "def extract_mappings(file_path):\n",
    "    diagnostic_mapping = {}\n",
    "    scp_mapping = {}\n",
    "\n",
    "    # Open the file and read its lines\n",
    "    with open(file_path, 'r') as file:\n",
    "        lines = file.readlines()\n",
    "\n",
    "    # Set the flag to track which mapping section is being processed\n",
    "    processing_diagnostic = True\n",
    "\n",
    "    # Loop through each line to extract mappings\n",
    "    for line in lines:\n",
    "        # Check if the line is empty or starts with a comment\n",
    "        if not line.strip() or line.startswith(\"#\"):\n",
    "            continue\n",
    "        \n",
    "        # Check if the line is a separator between sections\n",
    "        if \"SCP Labels Mappings\" in line:\n",
    "            processing_diagnostic = False\n",
    "            continue\n",
    "        \n",
    "        # Split the line by the colon to extract the class name and code\n",
    "        if ':' in line:\n",
    "            label, number = line.split(':')\n",
    "            label = label.strip()\n",
    "            number = number.strip()\n",
    "\n",
    "            # Add the mapping to the appropriate dictionary\n",
    "            if processing_diagnostic:\n",
    "                diagnostic_mapping[number] = label\n",
    "            else:\n",
    "                scp_mapping[number] = label\n",
    "\n",
    "    # Pop the first item in diagnostic_mapping\n",
    "    first_key = next(iter(diagnostic_mapping))  # Get the first key\n",
    "    first_value = diagnostic_mapping.pop(first_key)  # Remove the item\n",
    "\n",
    "    return diagnostic_mapping, scp_mapping\n",
    "\n",
    "# Specify the file path\n",
    "file_path = 'label_mappings.txt'\n",
    "\n",
    "# Extract mappings from the file\n",
    "diagnostic_mapping, scp_mapping = extract_mappings(file_path)\n",
    "\n",
    "# Print the extracted mappings\n",
    "print(\"Diagnostic Class Mappings:\", diagnostic_mapping)\n",
    "print(\"SCP Label Mappings:\", scp_mapping)\n"
   ]
  },
  {
   "cell_type": "code",
   "execution_count": 31,
   "id": "ce8db259-2638-4fc3-a645-71b1fc8d7254",
   "metadata": {},
   "outputs": [
    {
     "data": {
      "text/plain": [
       "'ISCIL'"
      ]
     },
     "execution_count": 31,
     "metadata": {},
     "output_type": "execute_result"
    }
   ],
   "source": [
    "scp_mapping['31']"
   ]
  },
  {
   "cell_type": "markdown",
   "id": "681bb7aa-11ed-49a6-b6ee-4bcd9c4a271c",
   "metadata": {},
   "source": [
    "# sample from a triangular distribution\n"
   ]
  },
  {
   "cell_type": "code",
   "execution_count": 32,
   "id": "faf22278-cd00-4e2c-877d-9cd454f9f726",
   "metadata": {},
   "outputs": [],
   "source": [
    "# see the predictions of model\n",
    "# compute global min, global max, and average of mode.\n",
    "# sample from this distribution"
   ]
  },
  {
   "cell_type": "code",
   "execution_count": 33,
   "id": "9ce12691-e499-4846-b1a9-505c525ac6ee",
   "metadata": {},
   "outputs": [
    {
     "data": {
      "image/png": "[encoded data removed]",
      "text/plain": [
       "<Figure size 640x480 with 1 Axes>"
      ]
     },
     "metadata": {},
     "output_type": "display_data"
    }
   ],
   "source": [
    "# Parameters for the triangular distribution\n",
    "min_value = 1   # minimum value\n",
    "mode_value = 2  # mode value (most frequent)\n",
    "max_value = 9  # maximum value\n",
    "\n",
    "# Number of samples you want to generate\n",
    "num_samples = 1000\n",
    "\n",
    "# Generate samples using triangular distribution and convert to integers\n",
    "samples = np.random.triangular(min_value, mode_value, max_value, num_samples)\n",
    "int_samples = np.round(samples).astype(int)\n",
    "\n",
    "# Plot the distribution to visualize\n",
    "plt.hist(int_samples, bins=range(min_value, max_value + 2), density=True, alpha=0.6, color='g', edgecolor='black')\n",
    "plt.xlabel('Value')\n",
    "plt.ylabel('Density')\n",
    "plt.title('Triangular Distribution (Integer Samples)')\n",
    "plt.xticks(range(min_value, max_value + 1))\n",
    "plt.show()\n"
   ]
  },
  {
   "cell_type": "code",
   "execution_count": 55,
   "id": "401b6c0f-4677-4e9f-9c29-23155da6c1c9",
   "metadata": {},
   "outputs": [
    {
     "name": "stdout",
     "output_type": "stream",
     "text": [
      "Sampled Integer Value: 1\n"
     ]
    }
   ],
   "source": [
    "import numpy as np\n",
    "\n",
    "def sample_triangular_integer(min_value, mode_value, max_value):\n",
    "    \"\"\"\n",
    "    Samples a single integer value from a triangular distribution.\n",
    "    \n",
    "    Parameters:\n",
    "    min_value (int): The minimum value of the distribution.\n",
    "    mode_value (int): The mode value (most frequent) of the distribution.\n",
    "    max_value (int): The maximum value of the distribution.\n",
    "    \n",
    "    Returns:\n",
    "    int: A sampled integer value from the triangular distribution.\n",
    "    \"\"\"\n",
    "    # Generate a sample using triangular distribution\n",
    "    sample = np.random.triangular(min_value, mode_value, max_value)\n",
    "    \n",
    "    # Round the sample to the nearest integer\n",
    "    int_sample = int(round(sample))\n",
    "    \n",
    "    # Ensure the integer falls within the specified range\n",
    "    if int_sample < min_value:\n",
    "        int_sample = min_value\n",
    "    elif int_sample > max_value:\n",
    "        int_sample = max_value\n",
    "    \n",
    "    return int_sample\n",
    "\n",
    "# Example usage\n",
    "min_value = 1\n",
    "mode_value = 2\n",
    "max_value = 3\n",
    "\n",
    "sampled_value = sample_triangular_integer(min_value, mode_value, max_value)\n",
    "print(f\"Sampled Integer Value: {sampled_value}\")\n"
   ]
  },
  {
   "cell_type": "markdown",
   "id": "6b1989f1-cd76-4e71-b9f8-1c2916bc6693",
   "metadata": {},
   "source": [
    "## Save the distribution plots for each label"
   ]
  },
  {
   "cell_type": "code",
   "execution_count": 35,
   "id": "e15449ab-3b59-4a40-a0e7-8db06646d008",
   "metadata": {},
   "outputs": [
    {
     "name": "stdout",
     "output_type": "stream",
     "text": [
      "Plots saved in the \"images\" folder.\n"
     ]
    }
   ],
   "source": [
    "import pandas as pd\n",
    "import numpy as np\n",
    "import matplotlib.pyplot as plt\n",
    "import os\n",
    "\n",
    "# Load the DataFrame from the CSV file\n",
    "stats_df = pd.read_csv('scp_codes_activation_stats_lookup.csv')\n",
    "\n",
    "# Directory to save the plots\n",
    "images_folder = 'images'\n",
    "os.makedirs(images_folder, exist_ok=True)\n",
    "\n",
    "# Function to generate and save triangular distribution plot\n",
    "def plot_triangular_distribution(min_value, mode_value, max_value, diagnostic_class):\n",
    "    # Number of samples you want to generate\n",
    "    num_samples = 10000000\n",
    "\n",
    "    # Generate samples using triangular distribution and convert to integers\n",
    "    samples = np.random.triangular(min_value, mode_value, max_value, num_samples)\n",
    "    int_samples = np.round(samples).astype(int)\n",
    "\n",
    "    # Plot the distribution\n",
    "    plt.figure(figsize=(10, 6))\n",
    "    plt.hist(int_samples, bins=range(min_value, max_value + 2), density=True, alpha=0.6, color='g', edgecolor='black')\n",
    "    plt.xlabel('Value')\n",
    "    plt.ylabel('Density')\n",
    "    plt.title(f'Triangular Distribution (Integer Samples) - {diagnostic_class}')\n",
    "    plt.xticks(range(min_value, max_value + 1))\n",
    "    \n",
    "    # Save the plot\n",
    "    plt.savefig(os.path.join(images_folder, f'{diagnostic_class}_triangular_distribution.png'))\n",
    "    plt.close()\n",
    "\n",
    "# Iterate through each row in the DataFrame and generate plots\n",
    "for _, row in stats_df.iterrows():\n",
    "    diag_class = row['Diagnostic Class']\n",
    "    min_scp = row['Min SCP Codes']\n",
    "    mode_scp = row['Mode SCP Codes']\n",
    "    max_scp = row['Max SCP Codes']\n",
    "    \n",
    "    plot_triangular_distribution(min_scp, mode_scp, max_scp, diag_class)\n",
    "\n",
    "print('Plots saved in the \"images\" folder.')\n"
   ]
  },
  {
   "cell_type": "markdown",
   "id": "406e2ff9-c6dd-4eee-889d-5efb9e6b3e3c",
   "metadata": {},
   "source": [
    "# disease label return"
   ]
  },
  {
   "cell_type": "code",
   "execution_count": 37,
   "id": "78e632c9-e4fb-4463-a4ac-db1abdee0115",
   "metadata": {},
   "outputs": [
    {
     "data": {
      "text/plain": [
       "['NORM']"
      ]
     },
     "execution_count": 37,
     "metadata": {},
     "output_type": "execute_result"
    }
   ],
   "source": [
    "def predicted_diseases(one_hot_prediction, disease_mapper):\n",
    "    # Convert the one-hot vector to a list of predicted diseases\n",
    "    diseases = [i for i, val in enumerate(one_hot_prediction) if val == 1]\n",
    "    return [disease_mapper[str(idx)] for idx in diseases]\n",
    "\n",
    "predicted_diseases(labels[0], diagnostic_mapping)\n"
   ]
  },
  {
   "cell_type": "markdown",
   "id": "b9d48809-c436-44d4-ad71-d593f7e6d3d2",
   "metadata": {},
   "source": [
    "# Top statement codes return"
   ]
  },
  {
   "cell_type": "code",
   "execution_count": 80,
   "id": "50e39d89-4d4b-40fb-bc1c-32f72bade46e",
   "metadata": {},
   "outputs": [
    {
     "name": "stdout",
     "output_type": "stream",
     "text": [
      "Top SCP Codes: ['ISCIL', 'LVH']\n"
     ]
    }
   ],
   "source": [
    "# Function to process model output\n",
    "def process_model_output(predicted_one_hot, max_proto_activations, stats_df_path, scp_mapping):\n",
    "    # Load the statistics DataFrame\n",
    "    stats_df = pd.read_csv(stats_df_path)\n",
    "    \n",
    "    # Convert the one-hot vector to a list of predicted diseases\n",
    "    diseases = [i for i, val in enumerate(predicted_one_hot) if val == 1]\n",
    "    \n",
    "    if not diseases:\n",
    "        raise ValueError(\"No diseases predicted in the one-hot vector.\")\n",
    "    \n",
    "    # Initialize lists to hold the max, min, and mode values for each disease\n",
    "    max_values = []\n",
    "    min_values = []\n",
    "    mode_values = []\n",
    "\n",
    "    for disease in diseases:\n",
    "        # Get the disease name from the DataFrame\n",
    "        disease_name = stats_df.iloc[disease]['Diagnostic Class']\n",
    "        \n",
    "        # Find the corresponding statistics for this disease\n",
    "        stats_row = stats_df[stats_df['Diagnostic Class'] == disease_name].iloc[0]\n",
    "        \n",
    "        # Append the max, min, and mode values to the lists\n",
    "        max_values.append(stats_row['Max SCP Codes'])\n",
    "        min_values.append(stats_row['Min SCP Codes'])\n",
    "        mode_values.append(stats_row['Mode SCP Codes'])\n",
    "    \n",
    "    # Calculate the average of the max, min, and mode values\n",
    "    max_value = np.max(max_values)\n",
    "    min_value = np.min(min_values)\n",
    "    mode_value = int(round(np.mean(mode_values)))\n",
    "    \n",
    "    # sample an integer\n",
    "    sampled_integer = sample_triangular_integer(min_value, mode_value, max_value)\n",
    "    \n",
    "    # if ecg is normal, then only print 'mode' number of scp codes\n",
    "    if 3 in diseases:  \n",
    "        # Get the SCP code activations from the model output\n",
    "        scp_codes_indices = max_proto_activations[0][:2]   # 2 is the mode for scp activations of normal class\n",
    "    else:\n",
    "        # Get the SCP code activations from the model output\n",
    "        scp_codes_indices = max_proto_activations[0][:sampled_integer]  \n",
    "\n",
    "    scp_codes = [scp_mapping[str(idx.item())] for idx in scp_codes_indices]\n",
    "    \n",
    "    # Return the first 'sampled_integer' number of SCP code activations\n",
    "    return scp_codes\n",
    "\n",
    "# Example usage\n",
    "predicted_one_hot = labels[0]  # Example one-hot vector for predicted diseases\n",
    "max_proto_activations = most_activated_bins\n",
    "stats_df_path = 'scp_codes_activation_stats_lookup.csv'\n",
    "\n",
    "result = process_model_output(predicted_one_hot, max_proto_activations, stats_df_path, scp_mapping)\n",
    "print(\"Top SCP Codes:\", result)\n"
   ]
  },
  {
   "cell_type": "markdown",
   "id": "a1b2b1a8-1032-4b17-8618-e67280fbdfed",
   "metadata": {},
   "source": [
    "# Prompt"
   ]
  },
  {
   "cell_type": "code",
   "execution_count": 83,
   "id": "93ebfb96-13a1-4d41-a725-1cc837799c88",
   "metadata": {},
   "outputs": [
    {
     "data": {
      "text/plain": [
       "\"Suppose you are a cardiologist. You looked at the ECG of a patient, and you observed the statement codes: ['ISCIL', 'LVH']. Then you diagnosed disease to be: tensor([0, 0, 0, 1, 0], device='cuda:0', dtype=torch.int32). \\n\\nNow tell me your reasoning process for this that you can give to another doctor. \\n\\nThe output should be in following format: First you tell why the statement codes (SCP codes) you diagnosed. And then tell how they lead to the presence or absence of a disease which you predicted.\""
      ]
     },
     "execution_count": 83,
     "metadata": {},
     "output_type": "execute_result"
    }
   ],
   "source": [
    "f\"\"\"Suppose you are a cardiologist. You looked at the ECG of a patient, and you observed the statement codes: {result}. Then you diagnosed disease to be: {labels[0]}. \n",
    "\n",
    "Now tell me your reasoning process for this that you can give to another doctor. \n",
    "\n",
    "The output should be in following format: First you tell why the statement codes (SCP codes) you diagnosed. And then tell how they lead to the presence or absence of a disease which you predicted.\"\"\" "
   ]
  },
  {
   "cell_type": "markdown",
   "id": "7c6a1f97-8a00-4799-9716-8b442646a928",
   "metadata": {},
   "source": [
    "# clinical report/reasoning generation"
   ]
  },
  {
   "cell_type": "code",
   "execution_count": null,
   "id": "e2966bd2-fdf8-4a5f-8cf1-1f30bc248ebf",
   "metadata": {},
   "outputs": [],
   "source": [
    "# used gpt3.5 for it, so the result: \n",
    "# https://chatgpt.com/share/443b225e-626e-41d9-869a-d28f362b7235"
   ]
  },
  {
   "cell_type": "code",
   "execution_count": 84,
   "id": "42bb506d-f633-40d6-a524-38b9c7822eeb",
   "metadata": {},
   "outputs": [],
   "source": [
    "# Use medllama\n",
    "import ollama"
   ]
  },
  {
   "cell_type": "code",
   "execution_count": 85,
   "id": "9b0bb881-ab28-430f-b9e8-36b7785cba42",
   "metadata": {},
   "outputs": [
    {
     "ename": "ConnectError",
     "evalue": "[Errno 111] Connection refused",
     "output_type": "error",
     "traceback": [
      "\u001b[0;31m---------------------------------------------------------------------------\u001b[0m",
      "\u001b[0;31mConnectError\u001b[0m                              Traceback (most recent call last)",
      "File \u001b[0;32m~/anaconda3/envs/ecg_diagnosis_models/lib/python3.9/site-packages/httpx/_transports/default.py:69\u001b[0m, in \u001b[0;36mmap_httpcore_exceptions\u001b[0;34m()\u001b[0m\n\u001b[1;32m     68\u001b[0m \u001b[38;5;28;01mtry\u001b[39;00m:\n\u001b[0;32m---> 69\u001b[0m     \u001b[38;5;28;01myield\u001b[39;00m\n\u001b[1;32m     70\u001b[0m \u001b[38;5;28;01mexcept\u001b[39;00m \u001b[38;5;167;01mException\u001b[39;00m \u001b[38;5;28;01mas\u001b[39;00m exc:\n",
      "File \u001b[0;32m~/anaconda3/envs/ecg_diagnosis_models/lib/python3.9/site-packages/httpx/_transports/default.py:233\u001b[0m, in \u001b[0;36mHTTPTransport.handle_request\u001b[0;34m(self, request)\u001b[0m\n\u001b[1;32m    232\u001b[0m \u001b[38;5;28;01mwith\u001b[39;00m map_httpcore_exceptions():\n\u001b[0;32m--> 233\u001b[0m     resp \u001b[38;5;241m=\u001b[39m \u001b[38;5;28;43mself\u001b[39;49m\u001b[38;5;241;43m.\u001b[39;49m\u001b[43m_pool\u001b[49m\u001b[38;5;241;43m.\u001b[39;49m\u001b[43mhandle_request\u001b[49m\u001b[43m(\u001b[49m\u001b[43mreq\u001b[49m\u001b[43m)\u001b[49m\n\u001b[1;32m    235\u001b[0m \u001b[38;5;28;01massert\u001b[39;00m \u001b[38;5;28misinstance\u001b[39m(resp\u001b[38;5;241m.\u001b[39mstream, typing\u001b[38;5;241m.\u001b[39mIterable)\n",
      "File \u001b[0;32m~/anaconda3/envs/ecg_diagnosis_models/lib/python3.9/site-packages/httpcore/_sync/connection_pool.py:216\u001b[0m, in \u001b[0;36mConnectionPool.handle_request\u001b[0;34m(self, request)\u001b[0m\n\u001b[1;32m    215\u001b[0m     \u001b[38;5;28mself\u001b[39m\u001b[38;5;241m.\u001b[39m_close_connections(closing)\n\u001b[0;32m--> 216\u001b[0m     \u001b[38;5;28;01mraise\u001b[39;00m exc \u001b[38;5;28;01mfrom\u001b[39;00m \u001b[38;5;28;01mNone\u001b[39;00m\n\u001b[1;32m    218\u001b[0m \u001b[38;5;66;03m# Return the response. Note that in this case we still have to manage\u001b[39;00m\n\u001b[1;32m    219\u001b[0m \u001b[38;5;66;03m# the point at which the response is closed.\u001b[39;00m\n",
      "File \u001b[0;32m~/anaconda3/envs/ecg_diagnosis_models/lib/python3.9/site-packages/httpcore/_sync/connection_pool.py:196\u001b[0m, in \u001b[0;36mConnectionPool.handle_request\u001b[0;34m(self, request)\u001b[0m\n\u001b[1;32m    194\u001b[0m \u001b[38;5;28;01mtry\u001b[39;00m:\n\u001b[1;32m    195\u001b[0m     \u001b[38;5;66;03m# Send the request on the assigned connection.\u001b[39;00m\n\u001b[0;32m--> 196\u001b[0m     response \u001b[38;5;241m=\u001b[39m \u001b[43mconnection\u001b[49m\u001b[38;5;241;43m.\u001b[39;49m\u001b[43mhandle_request\u001b[49m\u001b[43m(\u001b[49m\n\u001b[1;32m    197\u001b[0m \u001b[43m        \u001b[49m\u001b[43mpool_request\u001b[49m\u001b[38;5;241;43m.\u001b[39;49m\u001b[43mrequest\u001b[49m\n\u001b[1;32m    198\u001b[0m \u001b[43m    \u001b[49m\u001b[43m)\u001b[49m\n\u001b[1;32m    199\u001b[0m \u001b[38;5;28;01mexcept\u001b[39;00m ConnectionNotAvailable:\n\u001b[1;32m    200\u001b[0m     \u001b[38;5;66;03m# In some cases a connection may initially be available to\u001b[39;00m\n\u001b[1;32m    201\u001b[0m     \u001b[38;5;66;03m# handle a request, but then become unavailable.\u001b[39;00m\n\u001b[1;32m    202\u001b[0m     \u001b[38;5;66;03m#\u001b[39;00m\n\u001b[1;32m    203\u001b[0m     \u001b[38;5;66;03m# In this case we clear the connection and try again.\u001b[39;00m\n",
      "File \u001b[0;32m~/anaconda3/envs/ecg_diagnosis_models/lib/python3.9/site-packages/httpcore/_sync/connection.py:99\u001b[0m, in \u001b[0;36mHTTPConnection.handle_request\u001b[0;34m(self, request)\u001b[0m\n\u001b[1;32m     98\u001b[0m     \u001b[38;5;28mself\u001b[39m\u001b[38;5;241m.\u001b[39m_connect_failed \u001b[38;5;241m=\u001b[39m \u001b[38;5;28;01mTrue\u001b[39;00m\n\u001b[0;32m---> 99\u001b[0m     \u001b[38;5;28;01mraise\u001b[39;00m exc\n\u001b[1;32m    101\u001b[0m \u001b[38;5;28;01mreturn\u001b[39;00m \u001b[38;5;28mself\u001b[39m\u001b[38;5;241m.\u001b[39m_connection\u001b[38;5;241m.\u001b[39mhandle_request(request)\n",
      "File \u001b[0;32m~/anaconda3/envs/ecg_diagnosis_models/lib/python3.9/site-packages/httpcore/_sync/connection.py:76\u001b[0m, in \u001b[0;36mHTTPConnection.handle_request\u001b[0;34m(self, request)\u001b[0m\n\u001b[1;32m     75\u001b[0m \u001b[38;5;28;01mif\u001b[39;00m \u001b[38;5;28mself\u001b[39m\u001b[38;5;241m.\u001b[39m_connection \u001b[38;5;129;01mis\u001b[39;00m \u001b[38;5;28;01mNone\u001b[39;00m:\n\u001b[0;32m---> 76\u001b[0m     stream \u001b[38;5;241m=\u001b[39m \u001b[38;5;28;43mself\u001b[39;49m\u001b[38;5;241;43m.\u001b[39;49m\u001b[43m_connect\u001b[49m\u001b[43m(\u001b[49m\u001b[43mrequest\u001b[49m\u001b[43m)\u001b[49m\n\u001b[1;32m     78\u001b[0m     ssl_object \u001b[38;5;241m=\u001b[39m stream\u001b[38;5;241m.\u001b[39mget_extra_info(\u001b[38;5;124m\"\u001b[39m\u001b[38;5;124mssl_object\u001b[39m\u001b[38;5;124m\"\u001b[39m)\n",
      "File \u001b[0;32m~/anaconda3/envs/ecg_diagnosis_models/lib/python3.9/site-packages/httpcore/_sync/connection.py:122\u001b[0m, in \u001b[0;36mHTTPConnection._connect\u001b[0;34m(self, request)\u001b[0m\n\u001b[1;32m    121\u001b[0m \u001b[38;5;28;01mwith\u001b[39;00m Trace(\u001b[38;5;124m\"\u001b[39m\u001b[38;5;124mconnect_tcp\u001b[39m\u001b[38;5;124m\"\u001b[39m, logger, request, kwargs) \u001b[38;5;28;01mas\u001b[39;00m trace:\n\u001b[0;32m--> 122\u001b[0m     stream \u001b[38;5;241m=\u001b[39m \u001b[38;5;28;43mself\u001b[39;49m\u001b[38;5;241;43m.\u001b[39;49m\u001b[43m_network_backend\u001b[49m\u001b[38;5;241;43m.\u001b[39;49m\u001b[43mconnect_tcp\u001b[49m\u001b[43m(\u001b[49m\u001b[38;5;241;43m*\u001b[39;49m\u001b[38;5;241;43m*\u001b[39;49m\u001b[43mkwargs\u001b[49m\u001b[43m)\u001b[49m\n\u001b[1;32m    123\u001b[0m     trace\u001b[38;5;241m.\u001b[39mreturn_value \u001b[38;5;241m=\u001b[39m stream\n",
      "File \u001b[0;32m~/anaconda3/envs/ecg_diagnosis_models/lib/python3.9/site-packages/httpcore/_backends/sync.py:213\u001b[0m, in \u001b[0;36mSyncBackend.connect_tcp\u001b[0;34m(self, host, port, timeout, local_address, socket_options)\u001b[0m\n\u001b[1;32m    212\u001b[0m         sock\u001b[38;5;241m.\u001b[39msetsockopt(\u001b[38;5;241m*\u001b[39moption)  \u001b[38;5;66;03m# pragma: no cover\u001b[39;00m\n\u001b[0;32m--> 213\u001b[0m     sock\u001b[38;5;241m.\u001b[39msetsockopt(socket\u001b[38;5;241m.\u001b[39mIPPROTO_TCP, socket\u001b[38;5;241m.\u001b[39mTCP_NODELAY, \u001b[38;5;241m1\u001b[39m)\n\u001b[1;32m    214\u001b[0m \u001b[38;5;28;01mreturn\u001b[39;00m SyncStream(sock)\n",
      "File \u001b[0;32m~/anaconda3/envs/ecg_diagnosis_models/lib/python3.9/contextlib.py:137\u001b[0m, in \u001b[0;36m_GeneratorContextManager.__exit__\u001b[0;34m(self, typ, value, traceback)\u001b[0m\n\u001b[1;32m    136\u001b[0m \u001b[38;5;28;01mtry\u001b[39;00m:\n\u001b[0;32m--> 137\u001b[0m     \u001b[38;5;28;43mself\u001b[39;49m\u001b[38;5;241;43m.\u001b[39;49m\u001b[43mgen\u001b[49m\u001b[38;5;241;43m.\u001b[39;49m\u001b[43mthrow\u001b[49m\u001b[43m(\u001b[49m\u001b[43mtyp\u001b[49m\u001b[43m,\u001b[49m\u001b[43m \u001b[49m\u001b[43mvalue\u001b[49m\u001b[43m,\u001b[49m\u001b[43m \u001b[49m\u001b[43mtraceback\u001b[49m\u001b[43m)\u001b[49m\n\u001b[1;32m    138\u001b[0m \u001b[38;5;28;01mexcept\u001b[39;00m \u001b[38;5;167;01mStopIteration\u001b[39;00m \u001b[38;5;28;01mas\u001b[39;00m exc:\n\u001b[1;32m    139\u001b[0m     \u001b[38;5;66;03m# Suppress StopIteration *unless* it's the same exception that\u001b[39;00m\n\u001b[1;32m    140\u001b[0m     \u001b[38;5;66;03m# was passed to throw().  This prevents a StopIteration\u001b[39;00m\n\u001b[1;32m    141\u001b[0m     \u001b[38;5;66;03m# raised inside the \"with\" statement from being suppressed.\u001b[39;00m\n",
      "File \u001b[0;32m~/anaconda3/envs/ecg_diagnosis_models/lib/python3.9/site-packages/httpcore/_exceptions.py:14\u001b[0m, in \u001b[0;36mmap_exceptions\u001b[0;34m(map)\u001b[0m\n\u001b[1;32m     13\u001b[0m     \u001b[38;5;28;01mif\u001b[39;00m \u001b[38;5;28misinstance\u001b[39m(exc, from_exc):\n\u001b[0;32m---> 14\u001b[0m         \u001b[38;5;28;01mraise\u001b[39;00m to_exc(exc) \u001b[38;5;28;01mfrom\u001b[39;00m \u001b[38;5;21;01mexc\u001b[39;00m\n\u001b[1;32m     15\u001b[0m \u001b[38;5;28;01mraise\u001b[39;00m\n",
      "\u001b[0;31mConnectError\u001b[0m: [Errno 111] Connection refused",
      "\nThe above exception was the direct cause of the following exception:\n",
      "\u001b[0;31mConnectError\u001b[0m                              Traceback (most recent call last)",
      "Cell \u001b[0;32mIn[85], line 1\u001b[0m\n\u001b[0;32m----> 1\u001b[0m response \u001b[38;5;241m=\u001b[39m \u001b[43mollama\u001b[49m\u001b[38;5;241;43m.\u001b[39;49m\u001b[43mchat\u001b[49m\u001b[43m(\u001b[49m\u001b[43mmodel\u001b[49m\u001b[38;5;241;43m=\u001b[39;49m\u001b[38;5;124;43m'\u001b[39;49m\u001b[38;5;124;43mmedllama2\u001b[39;49m\u001b[38;5;124;43m'\u001b[39;49m\u001b[43m,\u001b[49m\u001b[43m \u001b[49m\u001b[43mmessages\u001b[49m\u001b[38;5;241;43m=\u001b[39;49m\u001b[43m[\u001b[49m\n\u001b[1;32m      2\u001b[0m \u001b[43m  \u001b[49m\u001b[43m{\u001b[49m\n\u001b[1;32m      3\u001b[0m \u001b[43m    \u001b[49m\u001b[38;5;124;43m'\u001b[39;49m\u001b[38;5;124;43mrole\u001b[39;49m\u001b[38;5;124;43m'\u001b[39;49m\u001b[43m:\u001b[49m\u001b[43m \u001b[49m\u001b[38;5;124;43m'\u001b[39;49m\u001b[38;5;124;43muser\u001b[39;49m\u001b[38;5;124;43m'\u001b[39;49m\u001b[43m,\u001b[49m\n\u001b[1;32m      4\u001b[0m \u001b[43m    \u001b[49m\u001b[38;5;124;43m'\u001b[39;49m\u001b[38;5;124;43mcontent\u001b[39;49m\u001b[38;5;124;43m'\u001b[39;49m\u001b[43m:\u001b[49m\u001b[43m \u001b[49m\u001b[38;5;124;43m'\u001b[39;49m\u001b[38;5;124;43mWhy is the sky blue?\u001b[39;49m\u001b[38;5;124;43m'\u001b[39;49m\u001b[43m,\u001b[49m\n\u001b[1;32m      5\u001b[0m \u001b[43m  \u001b[49m\u001b[43m}\u001b[49m\u001b[43m,\u001b[49m\n\u001b[1;32m      6\u001b[0m \u001b[43m]\u001b[49m\u001b[43m)\u001b[49m\n\u001b[1;32m      7\u001b[0m \u001b[38;5;28mprint\u001b[39m(response[\u001b[38;5;124m'\u001b[39m\u001b[38;5;124mmessage\u001b[39m\u001b[38;5;124m'\u001b[39m][\u001b[38;5;124m'\u001b[39m\u001b[38;5;124mcontent\u001b[39m\u001b[38;5;124m'\u001b[39m])\n",
      "File \u001b[0;32m~/anaconda3/envs/ecg_diagnosis_models/lib/python3.9/site-packages/ollama/_client.py:235\u001b[0m, in \u001b[0;36mClient.chat\u001b[0;34m(self, model, messages, tools, stream, format, options, keep_alive)\u001b[0m\n\u001b[1;32m    232\u001b[0m   \u001b[38;5;28;01mif\u001b[39;00m images \u001b[38;5;241m:=\u001b[39m message\u001b[38;5;241m.\u001b[39mget(\u001b[38;5;124m'\u001b[39m\u001b[38;5;124mimages\u001b[39m\u001b[38;5;124m'\u001b[39m):\n\u001b[1;32m    233\u001b[0m     message[\u001b[38;5;124m'\u001b[39m\u001b[38;5;124mimages\u001b[39m\u001b[38;5;124m'\u001b[39m] \u001b[38;5;241m=\u001b[39m [_encode_image(image) \u001b[38;5;28;01mfor\u001b[39;00m image \u001b[38;5;129;01min\u001b[39;00m images]\n\u001b[0;32m--> 235\u001b[0m \u001b[38;5;28;01mreturn\u001b[39;00m \u001b[38;5;28;43mself\u001b[39;49m\u001b[38;5;241;43m.\u001b[39;49m\u001b[43m_request_stream\u001b[49m\u001b[43m(\u001b[49m\n\u001b[1;32m    236\u001b[0m \u001b[43m  \u001b[49m\u001b[38;5;124;43m'\u001b[39;49m\u001b[38;5;124;43mPOST\u001b[39;49m\u001b[38;5;124;43m'\u001b[39;49m\u001b[43m,\u001b[49m\n\u001b[1;32m    237\u001b[0m \u001b[43m  \u001b[49m\u001b[38;5;124;43m'\u001b[39;49m\u001b[38;5;124;43m/api/chat\u001b[39;49m\u001b[38;5;124;43m'\u001b[39;49m\u001b[43m,\u001b[49m\n\u001b[1;32m    238\u001b[0m \u001b[43m  \u001b[49m\u001b[43mjson\u001b[49m\u001b[38;5;241;43m=\u001b[39;49m\u001b[43m{\u001b[49m\n\u001b[1;32m    239\u001b[0m \u001b[43m    \u001b[49m\u001b[38;5;124;43m'\u001b[39;49m\u001b[38;5;124;43mmodel\u001b[39;49m\u001b[38;5;124;43m'\u001b[39;49m\u001b[43m:\u001b[49m\u001b[43m \u001b[49m\u001b[43mmodel\u001b[49m\u001b[43m,\u001b[49m\n\u001b[1;32m    240\u001b[0m \u001b[43m    \u001b[49m\u001b[38;5;124;43m'\u001b[39;49m\u001b[38;5;124;43mmessages\u001b[39;49m\u001b[38;5;124;43m'\u001b[39;49m\u001b[43m:\u001b[49m\u001b[43m \u001b[49m\u001b[43mmessages\u001b[49m\u001b[43m,\u001b[49m\n\u001b[1;32m    241\u001b[0m \u001b[43m    \u001b[49m\u001b[38;5;124;43m'\u001b[39;49m\u001b[38;5;124;43mtools\u001b[39;49m\u001b[38;5;124;43m'\u001b[39;49m\u001b[43m:\u001b[49m\u001b[43m \u001b[49m\u001b[43mtools\u001b[49m\u001b[43m \u001b[49m\u001b[38;5;129;43;01mor\u001b[39;49;00m\u001b[43m \u001b[49m\u001b[43m[\u001b[49m\u001b[43m]\u001b[49m\u001b[43m,\u001b[49m\n\u001b[1;32m    242\u001b[0m \u001b[43m    \u001b[49m\u001b[38;5;124;43m'\u001b[39;49m\u001b[38;5;124;43mstream\u001b[39;49m\u001b[38;5;124;43m'\u001b[39;49m\u001b[43m:\u001b[49m\u001b[43m \u001b[49m\u001b[43mstream\u001b[49m\u001b[43m,\u001b[49m\n\u001b[1;32m    243\u001b[0m \u001b[43m    \u001b[49m\u001b[38;5;124;43m'\u001b[39;49m\u001b[38;5;124;43mformat\u001b[39;49m\u001b[38;5;124;43m'\u001b[39;49m\u001b[43m:\u001b[49m\u001b[43m \u001b[49m\u001b[38;5;28;43mformat\u001b[39;49m\u001b[43m,\u001b[49m\n\u001b[1;32m    244\u001b[0m \u001b[43m    \u001b[49m\u001b[38;5;124;43m'\u001b[39;49m\u001b[38;5;124;43moptions\u001b[39;49m\u001b[38;5;124;43m'\u001b[39;49m\u001b[43m:\u001b[49m\u001b[43m \u001b[49m\u001b[43moptions\u001b[49m\u001b[43m \u001b[49m\u001b[38;5;129;43;01mor\u001b[39;49;00m\u001b[43m \u001b[49m\u001b[43m{\u001b[49m\u001b[43m}\u001b[49m\u001b[43m,\u001b[49m\n\u001b[1;32m    245\u001b[0m \u001b[43m    \u001b[49m\u001b[38;5;124;43m'\u001b[39;49m\u001b[38;5;124;43mkeep_alive\u001b[39;49m\u001b[38;5;124;43m'\u001b[39;49m\u001b[43m:\u001b[49m\u001b[43m \u001b[49m\u001b[43mkeep_alive\u001b[49m\u001b[43m,\u001b[49m\n\u001b[1;32m    246\u001b[0m \u001b[43m  \u001b[49m\u001b[43m}\u001b[49m\u001b[43m,\u001b[49m\n\u001b[1;32m    247\u001b[0m \u001b[43m  \u001b[49m\u001b[43mstream\u001b[49m\u001b[38;5;241;43m=\u001b[39;49m\u001b[43mstream\u001b[49m\u001b[43m,\u001b[49m\n\u001b[1;32m    248\u001b[0m \u001b[43m\u001b[49m\u001b[43m)\u001b[49m\n",
      "File \u001b[0;32m~/anaconda3/envs/ecg_diagnosis_models/lib/python3.9/site-packages/ollama/_client.py:98\u001b[0m, in \u001b[0;36mClient._request_stream\u001b[0;34m(self, stream, *args, **kwargs)\u001b[0m\n\u001b[1;32m     92\u001b[0m \u001b[38;5;28;01mdef\u001b[39;00m \u001b[38;5;21m_request_stream\u001b[39m(\n\u001b[1;32m     93\u001b[0m   \u001b[38;5;28mself\u001b[39m,\n\u001b[1;32m     94\u001b[0m   \u001b[38;5;241m*\u001b[39margs,\n\u001b[1;32m     95\u001b[0m   stream: \u001b[38;5;28mbool\u001b[39m \u001b[38;5;241m=\u001b[39m \u001b[38;5;28;01mFalse\u001b[39;00m,\n\u001b[1;32m     96\u001b[0m   \u001b[38;5;241m*\u001b[39m\u001b[38;5;241m*\u001b[39mkwargs,\n\u001b[1;32m     97\u001b[0m ) \u001b[38;5;241m-\u001b[39m\u001b[38;5;241m>\u001b[39m Union[Mapping[\u001b[38;5;28mstr\u001b[39m, Any], Iterator[Mapping[\u001b[38;5;28mstr\u001b[39m, Any]]]:\n\u001b[0;32m---> 98\u001b[0m   \u001b[38;5;28;01mreturn\u001b[39;00m \u001b[38;5;28mself\u001b[39m\u001b[38;5;241m.\u001b[39m_stream(\u001b[38;5;241m*\u001b[39margs, \u001b[38;5;241m*\u001b[39m\u001b[38;5;241m*\u001b[39mkwargs) \u001b[38;5;28;01mif\u001b[39;00m stream \u001b[38;5;28;01melse\u001b[39;00m \u001b[38;5;28;43mself\u001b[39;49m\u001b[38;5;241;43m.\u001b[39;49m\u001b[43m_request\u001b[49m\u001b[43m(\u001b[49m\u001b[38;5;241;43m*\u001b[39;49m\u001b[43margs\u001b[49m\u001b[43m,\u001b[49m\u001b[43m \u001b[49m\u001b[38;5;241;43m*\u001b[39;49m\u001b[38;5;241;43m*\u001b[39;49m\u001b[43mkwargs\u001b[49m\u001b[43m)\u001b[49m\u001b[38;5;241m.\u001b[39mjson()\n",
      "File \u001b[0;32m~/anaconda3/envs/ecg_diagnosis_models/lib/python3.9/site-packages/ollama/_client.py:69\u001b[0m, in \u001b[0;36mClient._request\u001b[0;34m(self, method, url, **kwargs)\u001b[0m\n\u001b[1;32m     68\u001b[0m \u001b[38;5;28;01mdef\u001b[39;00m \u001b[38;5;21m_request\u001b[39m(\u001b[38;5;28mself\u001b[39m, method: \u001b[38;5;28mstr\u001b[39m, url: \u001b[38;5;28mstr\u001b[39m, \u001b[38;5;241m*\u001b[39m\u001b[38;5;241m*\u001b[39mkwargs) \u001b[38;5;241m-\u001b[39m\u001b[38;5;241m>\u001b[39m httpx\u001b[38;5;241m.\u001b[39mResponse:\n\u001b[0;32m---> 69\u001b[0m   response \u001b[38;5;241m=\u001b[39m \u001b[38;5;28;43mself\u001b[39;49m\u001b[38;5;241;43m.\u001b[39;49m\u001b[43m_client\u001b[49m\u001b[38;5;241;43m.\u001b[39;49m\u001b[43mrequest\u001b[49m\u001b[43m(\u001b[49m\u001b[43mmethod\u001b[49m\u001b[43m,\u001b[49m\u001b[43m \u001b[49m\u001b[43murl\u001b[49m\u001b[43m,\u001b[49m\u001b[43m \u001b[49m\u001b[38;5;241;43m*\u001b[39;49m\u001b[38;5;241;43m*\u001b[39;49m\u001b[43mkwargs\u001b[49m\u001b[43m)\u001b[49m\n\u001b[1;32m     71\u001b[0m   \u001b[38;5;28;01mtry\u001b[39;00m:\n\u001b[1;32m     72\u001b[0m     response\u001b[38;5;241m.\u001b[39mraise_for_status()\n",
      "File \u001b[0;32m~/anaconda3/envs/ecg_diagnosis_models/lib/python3.9/site-packages/httpx/_client.py:827\u001b[0m, in \u001b[0;36mClient.request\u001b[0;34m(self, method, url, content, data, files, json, params, headers, cookies, auth, follow_redirects, timeout, extensions)\u001b[0m\n\u001b[1;32m    812\u001b[0m     warnings\u001b[38;5;241m.\u001b[39mwarn(message, \u001b[38;5;167;01mDeprecationWarning\u001b[39;00m)\n\u001b[1;32m    814\u001b[0m request \u001b[38;5;241m=\u001b[39m \u001b[38;5;28mself\u001b[39m\u001b[38;5;241m.\u001b[39mbuild_request(\n\u001b[1;32m    815\u001b[0m     method\u001b[38;5;241m=\u001b[39mmethod,\n\u001b[1;32m    816\u001b[0m     url\u001b[38;5;241m=\u001b[39murl,\n\u001b[0;32m   (...)\u001b[0m\n\u001b[1;32m    825\u001b[0m     extensions\u001b[38;5;241m=\u001b[39mextensions,\n\u001b[1;32m    826\u001b[0m )\n\u001b[0;32m--> 827\u001b[0m \u001b[38;5;28;01mreturn\u001b[39;00m \u001b[38;5;28;43mself\u001b[39;49m\u001b[38;5;241;43m.\u001b[39;49m\u001b[43msend\u001b[49m\u001b[43m(\u001b[49m\u001b[43mrequest\u001b[49m\u001b[43m,\u001b[49m\u001b[43m \u001b[49m\u001b[43mauth\u001b[49m\u001b[38;5;241;43m=\u001b[39;49m\u001b[43mauth\u001b[49m\u001b[43m,\u001b[49m\u001b[43m \u001b[49m\u001b[43mfollow_redirects\u001b[49m\u001b[38;5;241;43m=\u001b[39;49m\u001b[43mfollow_redirects\u001b[49m\u001b[43m)\u001b[49m\n",
      "File \u001b[0;32m~/anaconda3/envs/ecg_diagnosis_models/lib/python3.9/site-packages/httpx/_client.py:914\u001b[0m, in \u001b[0;36mClient.send\u001b[0;34m(self, request, stream, auth, follow_redirects)\u001b[0m\n\u001b[1;32m    906\u001b[0m follow_redirects \u001b[38;5;241m=\u001b[39m (\n\u001b[1;32m    907\u001b[0m     \u001b[38;5;28mself\u001b[39m\u001b[38;5;241m.\u001b[39mfollow_redirects\n\u001b[1;32m    908\u001b[0m     \u001b[38;5;28;01mif\u001b[39;00m \u001b[38;5;28misinstance\u001b[39m(follow_redirects, UseClientDefault)\n\u001b[1;32m    909\u001b[0m     \u001b[38;5;28;01melse\u001b[39;00m follow_redirects\n\u001b[1;32m    910\u001b[0m )\n\u001b[1;32m    912\u001b[0m auth \u001b[38;5;241m=\u001b[39m \u001b[38;5;28mself\u001b[39m\u001b[38;5;241m.\u001b[39m_build_request_auth(request, auth)\n\u001b[0;32m--> 914\u001b[0m response \u001b[38;5;241m=\u001b[39m \u001b[38;5;28;43mself\u001b[39;49m\u001b[38;5;241;43m.\u001b[39;49m\u001b[43m_send_handling_auth\u001b[49m\u001b[43m(\u001b[49m\n\u001b[1;32m    915\u001b[0m \u001b[43m    \u001b[49m\u001b[43mrequest\u001b[49m\u001b[43m,\u001b[49m\n\u001b[1;32m    916\u001b[0m \u001b[43m    \u001b[49m\u001b[43mauth\u001b[49m\u001b[38;5;241;43m=\u001b[39;49m\u001b[43mauth\u001b[49m\u001b[43m,\u001b[49m\n\u001b[1;32m    917\u001b[0m \u001b[43m    \u001b[49m\u001b[43mfollow_redirects\u001b[49m\u001b[38;5;241;43m=\u001b[39;49m\u001b[43mfollow_redirects\u001b[49m\u001b[43m,\u001b[49m\n\u001b[1;32m    918\u001b[0m \u001b[43m    \u001b[49m\u001b[43mhistory\u001b[49m\u001b[38;5;241;43m=\u001b[39;49m\u001b[43m[\u001b[49m\u001b[43m]\u001b[49m\u001b[43m,\u001b[49m\n\u001b[1;32m    919\u001b[0m \u001b[43m\u001b[49m\u001b[43m)\u001b[49m\n\u001b[1;32m    920\u001b[0m \u001b[38;5;28;01mtry\u001b[39;00m:\n\u001b[1;32m    921\u001b[0m     \u001b[38;5;28;01mif\u001b[39;00m \u001b[38;5;129;01mnot\u001b[39;00m stream:\n",
      "File \u001b[0;32m~/anaconda3/envs/ecg_diagnosis_models/lib/python3.9/site-packages/httpx/_client.py:942\u001b[0m, in \u001b[0;36mClient._send_handling_auth\u001b[0;34m(self, request, auth, follow_redirects, history)\u001b[0m\n\u001b[1;32m    939\u001b[0m request \u001b[38;5;241m=\u001b[39m \u001b[38;5;28mnext\u001b[39m(auth_flow)\n\u001b[1;32m    941\u001b[0m \u001b[38;5;28;01mwhile\u001b[39;00m \u001b[38;5;28;01mTrue\u001b[39;00m:\n\u001b[0;32m--> 942\u001b[0m     response \u001b[38;5;241m=\u001b[39m \u001b[38;5;28;43mself\u001b[39;49m\u001b[38;5;241;43m.\u001b[39;49m\u001b[43m_send_handling_redirects\u001b[49m\u001b[43m(\u001b[49m\n\u001b[1;32m    943\u001b[0m \u001b[43m        \u001b[49m\u001b[43mrequest\u001b[49m\u001b[43m,\u001b[49m\n\u001b[1;32m    944\u001b[0m \u001b[43m        \u001b[49m\u001b[43mfollow_redirects\u001b[49m\u001b[38;5;241;43m=\u001b[39;49m\u001b[43mfollow_redirects\u001b[49m\u001b[43m,\u001b[49m\n\u001b[1;32m    945\u001b[0m \u001b[43m        \u001b[49m\u001b[43mhistory\u001b[49m\u001b[38;5;241;43m=\u001b[39;49m\u001b[43mhistory\u001b[49m\u001b[43m,\u001b[49m\n\u001b[1;32m    946\u001b[0m \u001b[43m    \u001b[49m\u001b[43m)\u001b[49m\n\u001b[1;32m    947\u001b[0m     \u001b[38;5;28;01mtry\u001b[39;00m:\n\u001b[1;32m    948\u001b[0m         \u001b[38;5;28;01mtry\u001b[39;00m:\n",
      "File \u001b[0;32m~/anaconda3/envs/ecg_diagnosis_models/lib/python3.9/site-packages/httpx/_client.py:979\u001b[0m, in \u001b[0;36mClient._send_handling_redirects\u001b[0;34m(self, request, follow_redirects, history)\u001b[0m\n\u001b[1;32m    976\u001b[0m \u001b[38;5;28;01mfor\u001b[39;00m hook \u001b[38;5;129;01min\u001b[39;00m \u001b[38;5;28mself\u001b[39m\u001b[38;5;241m.\u001b[39m_event_hooks[\u001b[38;5;124m\"\u001b[39m\u001b[38;5;124mrequest\u001b[39m\u001b[38;5;124m\"\u001b[39m]:\n\u001b[1;32m    977\u001b[0m     hook(request)\n\u001b[0;32m--> 979\u001b[0m response \u001b[38;5;241m=\u001b[39m \u001b[38;5;28;43mself\u001b[39;49m\u001b[38;5;241;43m.\u001b[39;49m\u001b[43m_send_single_request\u001b[49m\u001b[43m(\u001b[49m\u001b[43mrequest\u001b[49m\u001b[43m)\u001b[49m\n\u001b[1;32m    980\u001b[0m \u001b[38;5;28;01mtry\u001b[39;00m:\n\u001b[1;32m    981\u001b[0m     \u001b[38;5;28;01mfor\u001b[39;00m hook \u001b[38;5;129;01min\u001b[39;00m \u001b[38;5;28mself\u001b[39m\u001b[38;5;241m.\u001b[39m_event_hooks[\u001b[38;5;124m\"\u001b[39m\u001b[38;5;124mresponse\u001b[39m\u001b[38;5;124m\"\u001b[39m]:\n",
      "File \u001b[0;32m~/anaconda3/envs/ecg_diagnosis_models/lib/python3.9/site-packages/httpx/_client.py:1015\u001b[0m, in \u001b[0;36mClient._send_single_request\u001b[0;34m(self, request)\u001b[0m\n\u001b[1;32m   1010\u001b[0m     \u001b[38;5;28;01mraise\u001b[39;00m \u001b[38;5;167;01mRuntimeError\u001b[39;00m(\n\u001b[1;32m   1011\u001b[0m         \u001b[38;5;124m\"\u001b[39m\u001b[38;5;124mAttempted to send an async request with a sync Client instance.\u001b[39m\u001b[38;5;124m\"\u001b[39m\n\u001b[1;32m   1012\u001b[0m     )\n\u001b[1;32m   1014\u001b[0m \u001b[38;5;28;01mwith\u001b[39;00m request_context(request\u001b[38;5;241m=\u001b[39mrequest):\n\u001b[0;32m-> 1015\u001b[0m     response \u001b[38;5;241m=\u001b[39m \u001b[43mtransport\u001b[49m\u001b[38;5;241;43m.\u001b[39;49m\u001b[43mhandle_request\u001b[49m\u001b[43m(\u001b[49m\u001b[43mrequest\u001b[49m\u001b[43m)\u001b[49m\n\u001b[1;32m   1017\u001b[0m \u001b[38;5;28;01massert\u001b[39;00m \u001b[38;5;28misinstance\u001b[39m(response\u001b[38;5;241m.\u001b[39mstream, SyncByteStream)\n\u001b[1;32m   1019\u001b[0m response\u001b[38;5;241m.\u001b[39mrequest \u001b[38;5;241m=\u001b[39m request\n",
      "File \u001b[0;32m~/anaconda3/envs/ecg_diagnosis_models/lib/python3.9/site-packages/httpx/_transports/default.py:233\u001b[0m, in \u001b[0;36mHTTPTransport.handle_request\u001b[0;34m(self, request)\u001b[0m\n\u001b[1;32m    220\u001b[0m req \u001b[38;5;241m=\u001b[39m httpcore\u001b[38;5;241m.\u001b[39mRequest(\n\u001b[1;32m    221\u001b[0m     method\u001b[38;5;241m=\u001b[39mrequest\u001b[38;5;241m.\u001b[39mmethod,\n\u001b[1;32m    222\u001b[0m     url\u001b[38;5;241m=\u001b[39mhttpcore\u001b[38;5;241m.\u001b[39mURL(\n\u001b[0;32m   (...)\u001b[0m\n\u001b[1;32m    230\u001b[0m     extensions\u001b[38;5;241m=\u001b[39mrequest\u001b[38;5;241m.\u001b[39mextensions,\n\u001b[1;32m    231\u001b[0m )\n\u001b[1;32m    232\u001b[0m \u001b[38;5;28;01mwith\u001b[39;00m map_httpcore_exceptions():\n\u001b[0;32m--> 233\u001b[0m     resp \u001b[38;5;241m=\u001b[39m \u001b[38;5;28mself\u001b[39m\u001b[38;5;241m.\u001b[39m_pool\u001b[38;5;241m.\u001b[39mhandle_request(req)\n\u001b[1;32m    235\u001b[0m \u001b[38;5;28;01massert\u001b[39;00m \u001b[38;5;28misinstance\u001b[39m(resp\u001b[38;5;241m.\u001b[39mstream, typing\u001b[38;5;241m.\u001b[39mIterable)\n\u001b[1;32m    237\u001b[0m \u001b[38;5;28;01mreturn\u001b[39;00m Response(\n\u001b[1;32m    238\u001b[0m     status_code\u001b[38;5;241m=\u001b[39mresp\u001b[38;5;241m.\u001b[39mstatus,\n\u001b[1;32m    239\u001b[0m     headers\u001b[38;5;241m=\u001b[39mresp\u001b[38;5;241m.\u001b[39mheaders,\n\u001b[1;32m    240\u001b[0m     stream\u001b[38;5;241m=\u001b[39mResponseStream(resp\u001b[38;5;241m.\u001b[39mstream),\n\u001b[1;32m    241\u001b[0m     extensions\u001b[38;5;241m=\u001b[39mresp\u001b[38;5;241m.\u001b[39mextensions,\n\u001b[1;32m    242\u001b[0m )\n",
      "File \u001b[0;32m~/anaconda3/envs/ecg_diagnosis_models/lib/python3.9/contextlib.py:137\u001b[0m, in \u001b[0;36m_GeneratorContextManager.__exit__\u001b[0;34m(self, typ, value, traceback)\u001b[0m\n\u001b[1;32m    135\u001b[0m     value \u001b[38;5;241m=\u001b[39m typ()\n\u001b[1;32m    136\u001b[0m \u001b[38;5;28;01mtry\u001b[39;00m:\n\u001b[0;32m--> 137\u001b[0m     \u001b[38;5;28;43mself\u001b[39;49m\u001b[38;5;241;43m.\u001b[39;49m\u001b[43mgen\u001b[49m\u001b[38;5;241;43m.\u001b[39;49m\u001b[43mthrow\u001b[49m\u001b[43m(\u001b[49m\u001b[43mtyp\u001b[49m\u001b[43m,\u001b[49m\u001b[43m \u001b[49m\u001b[43mvalue\u001b[49m\u001b[43m,\u001b[49m\u001b[43m \u001b[49m\u001b[43mtraceback\u001b[49m\u001b[43m)\u001b[49m\n\u001b[1;32m    138\u001b[0m \u001b[38;5;28;01mexcept\u001b[39;00m \u001b[38;5;167;01mStopIteration\u001b[39;00m \u001b[38;5;28;01mas\u001b[39;00m exc:\n\u001b[1;32m    139\u001b[0m     \u001b[38;5;66;03m# Suppress StopIteration *unless* it's the same exception that\u001b[39;00m\n\u001b[1;32m    140\u001b[0m     \u001b[38;5;66;03m# was passed to throw().  This prevents a StopIteration\u001b[39;00m\n\u001b[1;32m    141\u001b[0m     \u001b[38;5;66;03m# raised inside the \"with\" statement from being suppressed.\u001b[39;00m\n\u001b[1;32m    142\u001b[0m     \u001b[38;5;28;01mreturn\u001b[39;00m exc \u001b[38;5;129;01mis\u001b[39;00m \u001b[38;5;129;01mnot\u001b[39;00m value\n",
      "File \u001b[0;32m~/anaconda3/envs/ecg_diagnosis_models/lib/python3.9/site-packages/httpx/_transports/default.py:86\u001b[0m, in \u001b[0;36mmap_httpcore_exceptions\u001b[0;34m()\u001b[0m\n\u001b[1;32m     83\u001b[0m     \u001b[38;5;28;01mraise\u001b[39;00m\n\u001b[1;32m     85\u001b[0m message \u001b[38;5;241m=\u001b[39m \u001b[38;5;28mstr\u001b[39m(exc)\n\u001b[0;32m---> 86\u001b[0m \u001b[38;5;28;01mraise\u001b[39;00m mapped_exc(message) \u001b[38;5;28;01mfrom\u001b[39;00m \u001b[38;5;21;01mexc\u001b[39;00m\n",
      "\u001b[0;31mConnectError\u001b[0m: [Errno 111] Connection refused"
     ]
    }
   ],
   "source": [
    "response = ollama.chat(model='medllama2', messages=[\n",
    "  {\n",
    "    'role': 'user',\n",
    "    'content': 'Why is the sky blue?',\n",
    "  },\n",
    "])\n",
    "print(response['message']['content'])"
   ]
  }
 ],
 "metadata": {
  "kernelspec": {
   "display_name": "Python (ecg_diagnosis_models)",
   "language": "python",
   "name": "ecg_diagnosis_models"
  },
  "language_info": {
   "codemirror_mode": {
    "name": "ipython",
    "version": 3
   },
   "file_extension": ".py",
   "mimetype": "text/x-python",
   "name": "python",
   "nbconvert_exporter": "python",
   "pygments_lexer": "ipython3",
   "version": "3.9.19"
  }
 },
 "nbformat": 4,
 "nbformat_minor": 5
}
