{
 "cells": [
  {
   "cell_type": "code",
   "execution_count": 5,
   "id": "a83eaf0c-70b3-4bd7-8b61-cb298c553ad5",
   "metadata": {},
   "outputs": [],
   "source": [
    "import pandas as pd\n",
    "from collections import Counter"
   ]
  },
  {
   "cell_type": "code",
   "execution_count": 3,
   "id": "4a8546c0-313f-4a99-85de-da624e3af231",
   "metadata": {},
   "outputs": [
    {
     "data": {
      "text/html": [
       "<div>\n",
       "<style scoped>\n",
       "    .dataframe tbody tr th:only-of-type {\n",
       "        vertical-align: middle;\n",
       "    }\n",
       "\n",
       "    .dataframe tbody tr th {\n",
       "        vertical-align: top;\n",
       "    }\n",
       "\n",
       "    .dataframe thead th {\n",
       "        text-align: right;\n",
       "    }\n",
       "</style>\n",
       "<table border=\"1\" class=\"dataframe\">\n",
       "  <thead>\n",
       "    <tr style=\"text-align: right;\">\n",
       "      <th></th>\n",
       "      <th>path</th>\n",
       "      <th>diagnostic_superclass</th>\n",
       "      <th>scp_labels</th>\n",
       "      <th>diagnostic_one_hot</th>\n",
       "      <th>scp_one_hot</th>\n",
       "    </tr>\n",
       "  </thead>\n",
       "  <tbody>\n",
       "    <tr>\n",
       "      <th>0</th>\n",
       "      <td>../../../../../data/padmalab_external/special_...</td>\n",
       "      <td>[NORM]</td>\n",
       "      <td>[NORM, SR]</td>\n",
       "      <td>[0, 0, 0, 1, 0]</td>\n",
       "      <td>[0, 0, 0, 0, 0, 0, 0, 0, 0, 0, 0, 0, 0, 0, 0, ...</td>\n",
       "    </tr>\n",
       "    <tr>\n",
       "      <th>1</th>\n",
       "      <td>../../../../../data/padmalab_external/special_...</td>\n",
       "      <td>[CD, HYP]</td>\n",
       "      <td>[RVH, RAO/RAE, IRBBB, ABQRS, SR]</td>\n",
       "      <td>[1, 1, 0, 0, 0]</td>\n",
       "      <td>[0, 0, 0, 1, 0, 0, 0, 0, 0, 0, 0, 0, 0, 0, 0, ...</td>\n",
       "    </tr>\n",
       "    <tr>\n",
       "      <th>2</th>\n",
       "      <td>../../../../../data/padmalab_external/special_...</td>\n",
       "      <td>[MI]</td>\n",
       "      <td>[IMI, SR]</td>\n",
       "      <td>[0, 0, 1, 0, 0]</td>\n",
       "      <td>[0, 0, 0, 0, 0, 0, 0, 0, 0, 0, 0, 0, 0, 0, 0, ...</td>\n",
       "    </tr>\n",
       "    <tr>\n",
       "      <th>3</th>\n",
       "      <td>../../../../../data/padmalab_external/special_...</td>\n",
       "      <td>[NORM]</td>\n",
       "      <td>[NORM, SR]</td>\n",
       "      <td>[0, 0, 0, 1, 0]</td>\n",
       "      <td>[0, 0, 0, 0, 0, 0, 0, 0, 0, 0, 0, 0, 0, 0, 0, ...</td>\n",
       "    </tr>\n",
       "    <tr>\n",
       "      <th>4</th>\n",
       "      <td>../../../../../data/padmalab_external/special_...</td>\n",
       "      <td>[NORM]</td>\n",
       "      <td>[NORM, SR]</td>\n",
       "      <td>[0, 0, 0, 1, 0]</td>\n",
       "      <td>[0, 0, 0, 0, 0, 0, 0, 0, 0, 0, 0, 0, 0, 0, 0, ...</td>\n",
       "    </tr>\n",
       "  </tbody>\n",
       "</table>\n",
       "</div>"
      ],
      "text/plain": [
       "                                                path diagnostic_superclass  \\\n",
       "0  ../../../../../data/padmalab_external/special_...                [NORM]   \n",
       "1  ../../../../../data/padmalab_external/special_...             [CD, HYP]   \n",
       "2  ../../../../../data/padmalab_external/special_...                  [MI]   \n",
       "3  ../../../../../data/padmalab_external/special_...                [NORM]   \n",
       "4  ../../../../../data/padmalab_external/special_...                [NORM]   \n",
       "\n",
       "                         scp_labels diagnostic_one_hot  \\\n",
       "0                        [NORM, SR]    [0, 0, 0, 1, 0]   \n",
       "1  [RVH, RAO/RAE, IRBBB, ABQRS, SR]    [1, 1, 0, 0, 0]   \n",
       "2                         [IMI, SR]    [0, 0, 1, 0, 0]   \n",
       "3                        [NORM, SR]    [0, 0, 0, 1, 0]   \n",
       "4                        [NORM, SR]    [0, 0, 0, 1, 0]   \n",
       "\n",
       "                                         scp_one_hot  \n",
       "0  [0, 0, 0, 0, 0, 0, 0, 0, 0, 0, 0, 0, 0, 0, 0, ...  \n",
       "1  [0, 0, 0, 1, 0, 0, 0, 0, 0, 0, 0, 0, 0, 0, 0, ...  \n",
       "2  [0, 0, 0, 0, 0, 0, 0, 0, 0, 0, 0, 0, 0, 0, 0, ...  \n",
       "3  [0, 0, 0, 0, 0, 0, 0, 0, 0, 0, 0, 0, 0, 0, 0, ...  \n",
       "4  [0, 0, 0, 0, 0, 0, 0, 0, 0, 0, 0, 0, 0, 0, 0, ...  "
      ]
     },
     "execution_count": 3,
     "metadata": {},
     "output_type": "execute_result"
    }
   ],
   "source": [
    "df = pd.read_json('train-100.json')\n",
    "df.head()"
   ]
  },
  {
   "cell_type": "code",
   "execution_count": 11,
   "id": "97ef2d9a-f8c0-40b1-9043-87d742604507",
   "metadata": {},
   "outputs": [
    {
     "data": {
      "text/plain": [
       "14204"
      ]
     },
     "execution_count": 11,
     "metadata": {},
     "output_type": "execute_result"
    }
   ],
   "source": [
    "len(df)"
   ]
  },
  {
   "cell_type": "code",
   "execution_count": 25,
   "id": "8d295ae4-5112-4662-8af2-3593dcfae156",
   "metadata": {},
   "outputs": [],
   "source": [
    "# Initialize empty DataFrames for each diagnostic class\n",
    "df_CD = pd.DataFrame(columns=df.columns)\n",
    "df_HYP = pd.DataFrame(columns=df.columns)\n",
    "df_MI = pd.DataFrame(columns=df.columns)\n",
    "df_NORM = pd.DataFrame(columns=df.columns)\n",
    "df_STTC = pd.DataFrame(columns=df.columns)\n",
    "\n",
    "# Create a mapping of diagnostic classes to corresponding DataFrames\n",
    "diagnostic_df_map = {\n",
    "    'CD': df_CD,\n",
    "    'HYP': df_HYP,\n",
    "    'MI': df_MI,\n",
    "    'NORM': df_NORM,\n",
    "    'STTC': df_STTC\n",
    "}\n",
    "\n",
    "# Iterate over each row in the original DataFrame\n",
    "for index, row in df.iterrows():\n",
    "    # Get the list of diagnostic classes for the current row\n",
    "    diagnostic_classes = row['diagnostic_superclass']\n",
    "    \n",
    "    # Iterate over each diagnostic class and add the row to the respective DataFrame\n",
    "    for diag_class in diagnostic_classes:\n",
    "        if diag_class in diagnostic_df_map:\n",
    "            diagnostic_df_map[diag_class] = pd.concat([diagnostic_df_map[diag_class], pd.DataFrame([row])])\n",
    "\n",
    "# Unpack the DataFrames from the map\n",
    "df_CD = diagnostic_df_map['CD']\n",
    "df_HYP = diagnostic_df_map['HYP']\n",
    "df_MI = diagnostic_df_map['MI']\n",
    "df_NORM = diagnostic_df_map['NORM']\n",
    "df_STTC = diagnostic_df_map['STTC']\n"
   ]
  },
  {
   "cell_type": "code",
   "execution_count": 26,
   "id": "108f0390-c88e-4ddd-ad33-e2329f58b5ef",
   "metadata": {},
   "outputs": [
    {
     "name": "stdout",
     "output_type": "stream",
     "text": [
      "CD DataFrame:\n",
      "3179\n",
      "\n",
      "HYP DataFrame:\n",
      "1759\n",
      "\n",
      "MI DataFrame:\n",
      "3407\n",
      "\n",
      "NORM DataFrame:\n",
      "6592\n",
      "\n",
      "STTC DataFrame:\n",
      "3418\n"
     ]
    }
   ],
   "source": [
    "# Print the DataFrames to see the result\n",
    "print(\"CD DataFrame:\")\n",
    "print(len(df_CD))\n",
    "print(\"\\nHYP DataFrame:\")\n",
    "print(len(df_HYP))\n",
    "print(\"\\nMI DataFrame:\")\n",
    "print(len(df_MI))\n",
    "print(\"\\nNORM DataFrame:\")\n",
    "print(len(df_NORM))\n",
    "print(\"\\nSTTC DataFrame:\")\n",
    "print(len(df_STTC))"
   ]
  }
 ],
 "metadata": {
  "kernelspec": {
   "display_name": "Python (ecg_diagnosis_models)",
   "language": "python",
   "name": "ecg_diagnosis_models"
  },
  "language_info": {
   "codemirror_mode": {
    "name": "ipython",
    "version": 3
   },
   "file_extension": ".py",
   "mimetype": "text/x-python",
   "name": "python",
   "nbconvert_exporter": "python",
   "pygments_lexer": "ipython3",
   "version": "3.9.19"
  }
 },
 "nbformat": 4,
 "nbformat_minor": 5
}
