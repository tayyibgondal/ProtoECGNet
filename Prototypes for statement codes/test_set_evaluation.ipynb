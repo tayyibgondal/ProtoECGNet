{
 "cells": [
  {
   "cell_type": "code",
   "execution_count": 13,
   "id": "1e167ea8-06d1-4d91-9d28-a0ed2933a7b5",
   "metadata": {},
   "outputs": [],
   "source": [
    "import torch\n",
    "import torch.nn as nn\n",
    "from tqdm import tqdm\n",
    "from sklearn.metrics import roc_auc_score\n",
    "import numpy as np\n",
    "from torchvision import transforms\n",
    "\n",
    "# book keeping namings and code\n",
    "from settings import img_size, prototype_shape, num_classes, \\\n",
    "                     prototype_activation_function, \\\n",
    "                     add_on_layers_type, \\\n",
    "                     num_test_examples, img_size, test_batch_size\n",
    "\n",
    "from dataset_class import ECGImageDataset\n",
    "import model_for_superclasses as model\n",
    "\n",
    "# Set device\n",
    "device = torch.device('cuda' if torch.cuda.is_available() else 'cpu')"
   ]
  },
  {
   "cell_type": "code",
   "execution_count": 14,
   "id": "76c47d2f-5e10-43b0-88bc-d0d316e7c2d1",
   "metadata": {},
   "outputs": [],
   "source": [
    "# Define transformations\n",
    "normalize = transforms.Normalize(mean=[0.485, 0.456, 0.406], std=[0.229, 0.224, 0.225])\n",
    "transform = transforms.Compose([\n",
    "    transforms.Resize((img_size, img_size)),\n",
    "    transforms.ToTensor(),\n",
    "    normalize,\n",
    "])\n",
    "# Function to create a subset of the dataset\n",
    "def create_subset(dataset, num_examples):\n",
    "    # Ensure num_examples doesn't exceed the dataset length\n",
    "    num_examples = min(len(dataset), num_examples)\n",
    "    indices = np.random.choice(len(dataset), num_examples, replace=False)\n",
    "    subset = torch.utils.data.Subset(dataset, indices)\n",
    "    return subset\n",
    "\n",
    "# Initialize dataset and dataloader for testing\n",
    "test_dataset = ECGImageDataset('test-100.json', transform=transform)\n",
    "\n",
    "if num_test_examples is not None:\n",
    "    test_subset = create_subset(test_dataset, num_test_examples)\n",
    "else:\n",
    "    test_subset = test_dataset\n",
    "\n",
    "# Create data loader for the subset\n",
    "test_loader = torch.utils.data.DataLoader(test_subset, batch_size=test_batch_size, shuffle=True, num_workers=4, pin_memory=False)"
   ]
  },
  {
   "cell_type": "code",
   "execution_count": 20,
   "id": "e1c51ba3-46a0-4a33-a786-651ac7bfc2c9",
   "metadata": {},
   "outputs": [],
   "source": [
    "# Load the model\n",
    "saved_model_path = 'saved_models/vgg19/14/20_17pushAUROC_0.9127.pth'\n",
    "\n",
    "# construct the model\n",
    "base_architecture = 'vgg19'\n",
    "ppnet = model.construct_PPNet(base_architecture=base_architecture,\n",
    "                              pretrained=True, img_size=img_size,\n",
    "                              prototype_shape=prototype_shape,\n",
    "                              num_classes=num_classes,\n",
    "                              prototype_activation_function=prototype_activation_function,\n",
    "                              add_on_layers_type=add_on_layers_type)\n",
    "ppnet = ppnet.to(device)"
   ]
  },
  {
   "cell_type": "code",
   "execution_count": 21,
   "id": "0612cb58-f303-47d4-80b7-4acc747fde55",
   "metadata": {},
   "outputs": [
    {
     "name": "stderr",
     "output_type": "stream",
     "text": [
      "/tmp/ipykernel_41891/322098558.py:2: FutureWarning: You are using `torch.load` with `weights_only=False` (the current default value), which uses the default pickle module implicitly. It is possible to construct malicious pickle data which will execute arbitrary code during unpickling (See https://github.com/pytorch/pytorch/blob/main/SECURITY.md#untrusted-models for more details). In a future release, the default value for `weights_only` will be flipped to `True`. This limits the functions that could be executed during unpickling. Arbitrary objects will no longer be allowed to be loaded via this mode unless they are explicitly allowlisted by the user via `torch.serialization.add_safe_globals`. We recommend you start setting `weights_only=True` for any use case where you don't have full control of the loaded file. Please open an issue on GitHub for any issues related to this experimental feature.\n",
      "  ppnet.load_state_dict(torch.load(saved_model_path))\n"
     ]
    },
    {
     "data": {
      "text/plain": [
       "PPNet(\n",
       "\tfeatures: VGG19, batch_norm=False,\n",
       "\timg_size: 224,\n",
       "\tprototype_shape: (2272, 128, 1, 1),\n",
       "\tproto_layer_rf_info: [7, 32, 268, 16.0],\n",
       "\tnum_classes: 5,\n",
       "\tepsilon: 0.0001\n",
       ")"
      ]
     },
     "execution_count": 21,
     "metadata": {},
     "output_type": "execute_result"
    }
   ],
   "source": [
    "# Load the model\n",
    "ppnet.load_state_dict(torch.load(saved_model_path))\n",
    "ppnet.eval()"
   ]
  },
  {
   "cell_type": "code",
   "execution_count": 22,
   "id": "3e4f1fdc-7719-47b5-b78c-7f10aaa56ed1",
   "metadata": {},
   "outputs": [
    {
     "name": "stderr",
     "output_type": "stream",
     "text": [
      "                                                                                                                                                                                     "
     ]
    },
    {
     "name": "stdout",
     "output_type": "stream",
     "text": [
      "Overall AUROC: 0.8970\n",
      "AUROC for CD: 0.8651\n",
      "AUROC for HYP: 0.8897\n",
      "AUROC for MI: 0.8710\n",
      "AUROC for NORM: 0.9357\n",
      "AUROC for STTC: 0.9237\n"
     ]
    },
    {
     "name": "stderr",
     "output_type": "stream",
     "text": [
      "\r"
     ]
    }
   ],
   "source": [
    "# List of heart conditions corresponding to the labels\n",
    "heart_conditions = ['CD', 'HYP', 'MI', 'NORM', 'STTC']\n",
    "\n",
    "# Define a function to test the model and calculate AUROC scores\n",
    "def test_model(test_loader, model):\n",
    "    all_labels = []\n",
    "    all_preds = []\n",
    "    \n",
    "    with torch.no_grad():\n",
    "        for images, labels in tqdm(test_loader, desc=\"Testing\", leave=False):\n",
    "            images = images.to(device)\n",
    "            labels = labels[0].to(device)\n",
    "            \n",
    "            # Get model predictions\n",
    "            outputs = model(images)[0]\n",
    "            \n",
    "            # Store predictions and labels\n",
    "            all_preds.append(outputs.cpu())\n",
    "            all_labels.append(labels.cpu())\n",
    "    \n",
    "    all_preds = torch.cat(all_preds)\n",
    "    all_labels = torch.cat(all_labels)\n",
    "    \n",
    "    # Calculate overall AUROC\n",
    "    overall_auroc = roc_auc_score(all_labels, all_preds, average='macro', multi_class='ovr')\n",
    "    print(f\"Overall AUROC: {overall_auroc:.4f}\")\n",
    "    \n",
    "    # Calculate AUROC for each individual class\n",
    "    for i, condition in enumerate(heart_conditions):\n",
    "        class_auroc = roc_auc_score(all_labels[:, i], all_preds[:, i])\n",
    "        print(f\"AUROC for {condition}: {class_auroc:.4f}\")\n",
    "\n",
    "# Test the model\n",
    "test_model(test_loader, ppnet)"
   ]
  },
  {
   "cell_type": "code",
   "execution_count": 23,
   "id": "ad6ade1c-382b-4112-b81e-958a28297d1d",
   "metadata": {},
   "outputs": [
    {
     "name": "stderr",
     "output_type": "stream",
     "text": [
      "                                                                                                                                                                                     \r"
     ]
    },
    {
     "name": "stdout",
     "output_type": "stream",
     "text": [
      "Overall AUROC (Bootstrap Mean): 0.8969\n",
      "95% Confidence Interval: [0.8873, 0.9058]\n",
      "AUROC for CD: 0.8651\n",
      "AUROC for HYP: 0.8897\n",
      "AUROC for MI: 0.8710\n",
      "AUROC for NORM: 0.9357\n",
      "AUROC for STTC: 0.9237\n"
     ]
    }
   ],
   "source": [
    "import torch\n",
    "from tqdm import tqdm\n",
    "from sklearn.metrics import roc_auc_score\n",
    "import numpy as np\n",
    "\n",
    "# List of heart conditions corresponding to the labels\n",
    "heart_conditions = ['CD', 'HYP', 'MI', 'NORM', 'STTC']\n",
    "\n",
    "# Function to perform bootstrap sampling\n",
    "def bootstrap_auroc(all_labels, all_preds, num_samples=1000):\n",
    "    auroc_scores = []\n",
    "    \n",
    "    for _ in range(num_samples):\n",
    "        # Sample with replacement\n",
    "        indices = np.random.choice(range(len(all_labels)), size=len(all_labels), replace=True)\n",
    "        sampled_labels = all_labels[indices]\n",
    "        sampled_preds = all_preds[indices]\n",
    "        \n",
    "        # Compute AUROC for the sampled data\n",
    "        sample_auroc = roc_auc_score(sampled_labels, sampled_preds, average='macro', multi_class='ovr')\n",
    "        auroc_scores.append(sample_auroc)\n",
    "    \n",
    "    # Convert to numpy array for easy statistics\n",
    "    auroc_scores = np.array(auroc_scores)\n",
    "    \n",
    "    # Calculate mean AUROC and confidence intervals\n",
    "    mean_auroc = np.mean(auroc_scores)\n",
    "    ci_lower = np.percentile(auroc_scores, 2.5)\n",
    "    ci_upper = np.percentile(auroc_scores, 97.5)\n",
    "    \n",
    "    return mean_auroc, ci_lower, ci_upper\n",
    "\n",
    "# Define a function to test the model and calculate AUROC scores with bootstrap sampling\n",
    "def test_model_with_bootstrap(test_loader, model, num_samples=1000):\n",
    "    all_labels = []\n",
    "    all_preds = []\n",
    "    \n",
    "    with torch.no_grad():\n",
    "        for images, labels in tqdm(test_loader, desc=\"Testing\", leave=False):\n",
    "            images = images.to(device)\n",
    "            labels = labels[0].to(device)\n",
    "            \n",
    "            # Get model predictions\n",
    "            outputs = model(images)[0]\n",
    "            \n",
    "            # Store predictions and labels\n",
    "            all_preds.append(outputs.cpu())\n",
    "            all_labels.append(labels.cpu())\n",
    "    \n",
    "    all_preds = torch.cat(all_preds)\n",
    "    all_labels = torch.cat(all_labels)\n",
    "    \n",
    "    # Convert to numpy arrays for bootstrap\n",
    "    all_preds_np = all_preds.numpy()\n",
    "    all_labels_np = all_labels.numpy()\n",
    "    \n",
    "    # Calculate overall AUROC using bootstrap sampling\n",
    "    mean_auroc, ci_lower, ci_upper = bootstrap_auroc(all_labels_np, all_preds_np, num_samples)\n",
    "    print(f\"Overall AUROC (Bootstrap Mean): {mean_auroc:.4f}\")\n",
    "    print(f\"95% Confidence Interval: [{ci_lower:.4f}, {ci_upper:.4f}]\")\n",
    "    \n",
    "    # Calculate AUROC for each individual class\n",
    "    for i, condition in enumerate(heart_conditions):\n",
    "        class_auroc = roc_auc_score(all_labels_np[:, i], all_preds_np[:, i])\n",
    "        print(f\"AUROC for {condition}: {class_auroc:.4f}\")\n",
    "\n",
    "# Test the model with bootstrap sampling\n",
    "test_model_with_bootstrap(test_loader, ppnet)\n"
   ]
  }
 ],
 "metadata": {
  "kernelspec": {
   "display_name": "Python (ecg_diagnosis_models)",
   "language": "python",
   "name": "ecg_diagnosis_models"
  },
  "language_info": {
   "codemirror_mode": {
    "name": "ipython",
    "version": 3
   },
   "file_extension": ".py",
   "mimetype": "text/x-python",
   "name": "python",
   "nbconvert_exporter": "python",
   "pygments_lexer": "ipython3",
   "version": "3.9.19"
  }
 },
 "nbformat": 4,
 "nbformat_minor": 5
}
