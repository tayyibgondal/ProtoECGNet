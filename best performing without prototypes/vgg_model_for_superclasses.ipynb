{
 "cells": [
  {
   "cell_type": "code",
   "execution_count": 17,
   "id": "61890b3e-439f-4f9a-9e5a-38f5a5c5b75c",
   "metadata": {},
   "outputs": [
    {
     "name": "stderr",
     "output_type": "stream",
     "text": [
      "/home/tayyibul/anaconda3/envs/ecg_diagnosis_models/lib/python3.9/site-packages/torchvision/models/_utils.py:208: UserWarning: The parameter 'pretrained' is deprecated since 0.13 and may be removed in the future, please use 'weights' instead.\n",
      "  warnings.warn(\n",
      "/home/tayyibul/anaconda3/envs/ecg_diagnosis_models/lib/python3.9/site-packages/torchvision/models/_utils.py:223: UserWarning: Arguments other than a weight enum or `None` for 'weights' are deprecated since 0.13 and may be removed in the future. The current behavior is equivalent to passing `weights=VGG11_Weights.IMAGENET1K_V1`. You can also use `weights=VGG11_Weights.DEFAULT` to get the most up-to-date weights.\n",
      "  warnings.warn(msg)\n",
      "Downloading: \"https://download.pytorch.org/models/vgg11-8a719046.pth\" to /home/tayyibul/.cache/torch/hub/checkpoints/vgg11-8a719046.pth\n",
      "100%|████████████████████████████████████████████████████████████████████████████████| 507M/507M [00:57<00:00, 9.27MB/s]\n"
     ]
    },
    {
     "name": "stdout",
     "output_type": "stream",
     "text": [
      "torch.Size([3, 5])\n"
     ]
    }
   ],
   "source": [
    "import torch\n",
    "import torch.nn as nn\n",
    "from torchvision.models import vgg11\n",
    "\n",
    "class VGG11Classifier(nn.Module):\n",
    "    def __init__(self, num_classes=5, pretrained=True):\n",
    "        super(VGG11Classifier, self).__init__()\n",
    "        # Load the pretrained VGG11 model\n",
    "        self.vgg11_f = vgg11(pretrained=pretrained)\n",
    "        \n",
    "        # Modify the classifier to output the correct number of classes\n",
    "        self.vgg11_f.classifier[-1] = nn.Linear(self.vgg11_f.classifier[-1].in_features, num_classes)\n",
    "\n",
    "    def forward(self, x):\n",
    "        return self.vgg11_f(x)\n",
    "\n",
    "# Example usage:\n",
    "model = VGG11Classifier(num_classes=5, pretrained=True)\n",
    "input = torch.randn(3, 3, 224, 224)\n",
    "output = model(input)\n",
    "print(output.shape)  # Should output torch.Size([3, 5])\n"
   ]
  }
 ],
 "metadata": {
  "kernelspec": {
   "display_name": "Python (ecg_diagnosis_models)",
   "language": "python",
   "name": "ecg_diagnosis_models"
  },
  "language_info": {
   "codemirror_mode": {
    "name": "ipython",
    "version": 3
   },
   "file_extension": ".py",
   "mimetype": "text/x-python",
   "name": "python",
   "nbconvert_exporter": "python",
   "pygments_lexer": "ipython3",
   "version": "3.9.19"
  }
 },
 "nbformat": 4,
 "nbformat_minor": 5
}
