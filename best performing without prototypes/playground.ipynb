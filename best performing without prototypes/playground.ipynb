{
 "cells": [
  {
   "cell_type": "markdown",
   "id": "596e35d8-5b4a-47bb-ac04-3b9312c1b4d5",
   "metadata": {},
   "source": [
    "### Model"
   ]
  },
  {
   "cell_type": "code",
   "execution_count": 1,
   "id": "683a0dae-1b36-4180-9ae4-e34a3bd539e6",
   "metadata": {},
   "outputs": [],
   "source": [
    "from vgg_features import vgg11_features, vgg13_features, vgg16_features, vgg19_features\n",
    "import torch.nn as nn\n",
    "import torch"
   ]
  },
  {
   "cell_type": "code",
   "execution_count": 2,
   "id": "b7b84be4-b3cf-4cb0-93a8-aea07e006942",
   "metadata": {},
   "outputs": [],
   "source": [
    "class VGG_Classifier(nn.Module):\n",
    "    def __init__(self, model_name, num_classes=5):\n",
    "        super(VGG_Classifier, self).__init__()\n",
    "        self.backend_model_bandwidth = 25088  # for vgg family of models\n",
    "        self.model_loader = self.select_model_loader(model_name)\n",
    "        self.model = self.model_loader(True)\n",
    "        self.classifier_head = nn.Linear(self.backend_model_bandwidth, num_classes)\n",
    "\n",
    "    def forward(self, x):\n",
    "        batch_size = x.size(0)\n",
    "        x = self.model(x)\n",
    "        x = x.reshape(batch_size, -1)\n",
    "        x = self.classifier_head(x)\n",
    "        return x      \n",
    "\n",
    "    def select_model_loader(self, model_name):\n",
    "        if model_name == 'vgg11':\n",
    "            model_loader = vgg11_features\n",
    "        elif model_name == 'vgg13':\n",
    "            model_loader = vgg13_features\n",
    "        elif model_name == 'vgg16':\n",
    "            model_loader = vgg16_features\n",
    "        elif model_name == 'vgg19':\n",
    "            model_loader = vgg19_features\n",
    "\n",
    "        return model_loader"
   ]
  },
  {
   "cell_type": "code",
   "execution_count": 3,
   "id": "5a0c1806-5026-4df0-a2a0-1bea50d672ed",
   "metadata": {},
   "outputs": [],
   "source": [
    "v11 = vgg11_features('vgg11')\n",
    "v13 = vgg13_features('vgg13')\n",
    "v16 = vgg16_features('vgg16')\n",
    "v19 = vgg19_features('vgg19')"
   ]
  },
  {
   "cell_type": "code",
   "execution_count": 4,
   "id": "eb89d1b9-61db-4e1d-8715-fa3437a88404",
   "metadata": {},
   "outputs": [],
   "source": [
    "input = torch.randn(3, 3, 224, 224)"
   ]
  },
  {
   "cell_type": "code",
   "execution_count": 5,
   "id": "64455c3d-d95a-45d2-9721-eca0b070a83b",
   "metadata": {},
   "outputs": [
    {
     "data": {
      "text/plain": [
       "torch.Size([3, 25088])"
      ]
     },
     "execution_count": 5,
     "metadata": {},
     "output_type": "execute_result"
    }
   ],
   "source": [
    "v11(input).view(3, -1).shape"
   ]
  },
  {
   "cell_type": "code",
   "execution_count": 6,
   "id": "47f55c5c-8c24-44cf-855a-a9fd35b80ec9",
   "metadata": {},
   "outputs": [
    {
     "data": {
      "text/plain": [
       "torch.Size([3, 25088])"
      ]
     },
     "execution_count": 6,
     "metadata": {},
     "output_type": "execute_result"
    }
   ],
   "source": [
    "v13(input).view(3, -1).shape"
   ]
  },
  {
   "cell_type": "code",
   "execution_count": 7,
   "id": "14f41c9d-3b46-4548-be35-a2e77ea4e7b7",
   "metadata": {},
   "outputs": [
    {
     "data": {
      "text/plain": [
       "torch.Size([3, 25088])"
      ]
     },
     "execution_count": 7,
     "metadata": {},
     "output_type": "execute_result"
    }
   ],
   "source": [
    "v16(input).view(3, -1).shape"
   ]
  },
  {
   "cell_type": "code",
   "execution_count": 8,
   "id": "c644afc7-71a7-4cca-8f50-0d9a2c6011c3",
   "metadata": {},
   "outputs": [
    {
     "data": {
      "text/plain": [
       "torch.Size([3, 25088])"
      ]
     },
     "execution_count": 8,
     "metadata": {},
     "output_type": "execute_result"
    }
   ],
   "source": [
    "v19(input).view(3, -1).shape"
   ]
  },
  {
   "cell_type": "code",
   "execution_count": 9,
   "id": "f9c44561-3163-4fc8-934d-98c783eaa984",
   "metadata": {},
   "outputs": [
    {
     "data": {
      "text/plain": [
       "torch.Size([3, 5])"
      ]
     },
     "execution_count": 9,
     "metadata": {},
     "output_type": "execute_result"
    }
   ],
   "source": [
    "VGG_Classifier(model_name='vgg11', num_classes=5)(input).view(3, -1).shape"
   ]
  },
  {
   "cell_type": "code",
   "execution_count": 10,
   "id": "1697b282-c3c6-40de-9f53-7f416e0fb538",
   "metadata": {},
   "outputs": [],
   "source": [
    "model = VGG_Classifier(model_name='vgg11', num_classes=5)"
   ]
  },
  {
   "cell_type": "markdown",
   "id": "230bbebd-7930-4ce9-ba21-94decf199007",
   "metadata": {},
   "source": [
    "### Dataset Class"
   ]
  },
  {
   "cell_type": "code",
   "execution_count": 11,
   "id": "c7547b4d-72b6-4c35-a5d2-80fadf0e8e14",
   "metadata": {},
   "outputs": [],
   "source": [
    "import os\n",
    "import pandas as pd\n",
    "import numpy as np\n",
    "import ast\n",
    "import torch\n",
    "from torch.utils.data import Dataset, DataLoader\n",
    "from PIL import Image\n",
    "from sklearn.preprocessing import LabelEncoder\n",
    "import torchvision.transforms as transforms\n",
    "\n",
    "class ECGImageDataset(Dataset):\n",
    "    def __init__(self, info_df_path, transform=None):\n",
    "        self.info_df = pd.read_csv(info_df_path)\n",
    "        self.transform = transform\n",
    "\n",
    "    def __len__(self):\n",
    "        return len(self.info_df)\n",
    "\n",
    "    def __getitem__(self, idx):\n",
    "        img_path = self.info_df.iloc[idx]['Image Path']\n",
    "        image = Image.open(img_path).convert('RGB')\n",
    "        label = self.info_df.iloc[idx]['Label']\n",
    "\n",
    "        if self.transform:\n",
    "            image = self.transform(image)\n",
    "\n",
    "        return image, torch.tensor(label).long()"
   ]
  },
  {
   "cell_type": "code",
   "execution_count": 12,
   "id": "b654352d-2eda-4e3d-98a0-accec8d6163e",
   "metadata": {},
   "outputs": [],
   "source": [
    "# Define transformations\n",
    "img_size = 224  # or whatever size you want\n",
    "normalize = transforms.Normalize(mean=[0.485, 0.456, 0.406], std=[0.229, 0.224, 0.225])\n",
    "transform = transforms.Compose([\n",
    "    transforms.Resize((img_size, img_size)),\n",
    "    transforms.ToTensor(),\n",
    "    normalize,\n",
    "])"
   ]
  },
  {
   "cell_type": "code",
   "execution_count": 13,
   "id": "251d3f80-809c-4750-a1e4-f1ecd94cf2e7",
   "metadata": {},
   "outputs": [],
   "source": [
    "num_train_examples = 100\n",
    "num_test_examples = 100\n",
    "train_df = 'train-100HZ-files-and-labels.csv'\n",
    "val_df = 'test-100HZ-files-and-labels.csv'\n",
    "\n",
    "# Function to create a subset of the dataset\n",
    "def create_subset(dataset, num_examples):\n",
    "    # Ensure num_examples doesn't exceed the dataset length\n",
    "    num_examples = min(len(dataset), num_examples)\n",
    "    indices = np.random.choice(len(dataset), num_examples, replace=False)\n",
    "    subset = torch.utils.data.Subset(dataset, indices)\n",
    "    return subset\n",
    "\n",
    "# Create train and test datasets\n",
    "train_dataset = ECGImageDataset(train_df, transform=transform)\n",
    "val_dataset = ECGImageDataset(val_df, transform=transform)\n",
    "\n",
    "if num_train_examples is not None:\n",
    "    train_subset = create_subset(train_dataset, num_train_examples)\n",
    "else: \n",
    "    train_subset = train_dataset\n",
    "\n",
    "if num_test_examples is not None:\n",
    "    val_subset = create_subset(val_dataset, num_test_examples)\n",
    "else:\n",
    "    val_subset = val_dataset\n",
    "\n",
    "# Create data loaders for the subsets\n",
    "train_loader = torch.utils.data.DataLoader(train_subset, batch_size=32, shuffle=True, num_workers=4, pin_memory=False)\n",
    "val_loader = torch.utils.data.DataLoader(val_subset, batch_size=32, shuffle=True, num_workers=4, pin_memory=False)"
   ]
  },
  {
   "cell_type": "code",
   "execution_count": 14,
   "id": "c699aa96-f804-4b55-8a94-f02fccf2256d",
   "metadata": {},
   "outputs": [
    {
     "name": "stdout",
     "output_type": "stream",
     "text": [
      "torch.Size([32, 3, 224, 224]) torch.Size([32])\n",
      "torch.Size([32, 5])\n"
     ]
    }
   ],
   "source": [
    "for ex, lab in train_loader:\n",
    "    print(ex.shape, lab.shape)\n",
    "    output = model(ex)\n",
    "    print(output.shape)\n",
    "    # softmax = F.softmax(output, dim=1)\n",
    "    # auroc = roc_auc_score(lab, softmax.detach().numpy(), multi_class='ovr', average='macro')\n",
    "    # print(auroc)\n",
    "    break"
   ]
  },
  {
   "cell_type": "code",
   "execution_count": 16,
   "id": "e5740e58-9ed8-4c08-b578-1a17582645f5",
   "metadata": {},
   "outputs": [
    {
     "name": "stderr",
     "output_type": "stream",
     "text": [
      "                                                                                \r"
     ]
    },
    {
     "name": "stdout",
     "output_type": "stream",
     "text": [
      "train Loss: 0.0247 Acc: 0.0039 AUROC: 0.6294 F1: 0.1866\n"
     ]
    },
    {
     "name": "stderr",
     "output_type": "stream",
     "text": [
      "                                                                                \r"
     ]
    },
    {
     "name": "stdout",
     "output_type": "stream",
     "text": [
      "val Loss: 0.1030 Acc: 0.0313 AUROC: 0.3851 F1: 0.1250\n"
     ]
    },
    {
     "name": "stderr",
     "output_type": "stream",
     "text": [
      "                                                                                \r"
     ]
    },
    {
     "name": "stdout",
     "output_type": "stream",
     "text": [
      "train Loss: 0.0149 Acc: 0.0035 AUROC: 0.3954 F1: 0.1622\n"
     ]
    },
    {
     "name": "stderr",
     "output_type": "stream",
     "text": [
      "                                                                                \r"
     ]
    },
    {
     "name": "stdout",
     "output_type": "stream",
     "text": [
      "val Loss: 0.0952 Acc: 0.0334 AUROC: 0.4242 F1: 0.1297\n"
     ]
    },
    {
     "name": "stderr",
     "output_type": "stream",
     "text": [
      "                                                                                \r"
     ]
    },
    {
     "name": "stdout",
     "output_type": "stream",
     "text": [
      "train Loss: 0.0130 Acc: 0.0048 AUROC: 0.3857 F1: 0.1468\n"
     ]
    },
    {
     "name": "stderr",
     "output_type": "stream",
     "text": [
      "                                                                                \r"
     ]
    },
    {
     "name": "stdout",
     "output_type": "stream",
     "text": [
      "val Loss: 0.0958 Acc: 0.0334 AUROC: 0.3986 F1: 0.1297\n"
     ]
    },
    {
     "name": "stderr",
     "output_type": "stream",
     "text": [
      "                                                                                \r"
     ]
    },
    {
     "name": "stdout",
     "output_type": "stream",
     "text": [
      "train Loss: 0.0100 Acc: 0.0050 AUROC: 0.5070 F1: 0.1516\n"
     ]
    },
    {
     "name": "stderr",
     "output_type": "stream",
     "text": [
      "                                                                                \r"
     ]
    },
    {
     "name": "stdout",
     "output_type": "stream",
     "text": [
      "val Loss: 0.1808 Acc: 0.0334 AUROC: 0.4541 F1: 0.1297\n"
     ]
    },
    {
     "name": "stderr",
     "output_type": "stream",
     "text": [
      "                                                                                \r"
     ]
    },
    {
     "name": "stdout",
     "output_type": "stream",
     "text": [
      "train Loss: 0.0115 Acc: 0.0050 AUROC: 0.5698 F1: 0.1516\n"
     ]
    },
    {
     "name": "stderr",
     "output_type": "stream",
     "text": [
      "                                                                                \r"
     ]
    },
    {
     "name": "stdout",
     "output_type": "stream",
     "text": [
      "val Loss: 0.0947 Acc: 0.0334 AUROC: 0.4496 F1: 0.1297\n"
     ]
    },
    {
     "name": "stderr",
     "output_type": "stream",
     "text": [
      "                                                                                \r"
     ]
    },
    {
     "name": "stdout",
     "output_type": "stream",
     "text": [
      "train Loss: 0.0098 Acc: 0.0050 AUROC: 0.5364 F1: 0.1516\n"
     ]
    },
    {
     "name": "stderr",
     "output_type": "stream",
     "text": [
      "                                                                                \r"
     ]
    },
    {
     "name": "stdout",
     "output_type": "stream",
     "text": [
      "val Loss: 0.1179 Acc: 0.0334 AUROC: 0.4464 F1: 0.1297\n"
     ]
    },
    {
     "name": "stderr",
     "output_type": "stream",
     "text": [
      "                                                                                \r"
     ]
    },
    {
     "name": "stdout",
     "output_type": "stream",
     "text": [
      "train Loss: 0.0104 Acc: 0.0050 AUROC: 0.5061 F1: 0.1516\n"
     ]
    },
    {
     "name": "stderr",
     "output_type": "stream",
     "text": [
      "                                                                                \r"
     ]
    },
    {
     "name": "stdout",
     "output_type": "stream",
     "text": [
      "val Loss: 0.0951 Acc: 0.0334 AUROC: 0.4761 F1: 0.1297\n"
     ]
    },
    {
     "name": "stderr",
     "output_type": "stream",
     "text": [
      "                                                                                \r"
     ]
    },
    {
     "name": "stdout",
     "output_type": "stream",
     "text": [
      "train Loss: 0.0103 Acc: 0.0050 AUROC: 0.4111 F1: 0.1516\n"
     ]
    },
    {
     "name": "stderr",
     "output_type": "stream",
     "text": [
      "                                                                                \r"
     ]
    },
    {
     "name": "stdout",
     "output_type": "stream",
     "text": [
      "val Loss: 0.0969 Acc: 0.0334 AUROC: 0.4707 F1: 0.1297\n"
     ]
    },
    {
     "name": "stderr",
     "output_type": "stream",
     "text": [
      "                                                                                \r"
     ]
    },
    {
     "name": "stdout",
     "output_type": "stream",
     "text": [
      "train Loss: 0.0102 Acc: 0.0050 AUROC: 0.4078 F1: 0.1516\n"
     ]
    },
    {
     "name": "stderr",
     "output_type": "stream",
     "text": [
      "                                                                                \r"
     ]
    },
    {
     "name": "stdout",
     "output_type": "stream",
     "text": [
      "val Loss: 0.0974 Acc: 0.0334 AUROC: 0.4742 F1: 0.1297\n"
     ]
    },
    {
     "name": "stderr",
     "output_type": "stream",
     "text": [
      "                                                                                \r"
     ]
    },
    {
     "name": "stdout",
     "output_type": "stream",
     "text": [
      "train Loss: 0.0094 Acc: 0.0050 AUROC: 0.5359 F1: 0.1516\n"
     ]
    },
    {
     "name": "stderr",
     "output_type": "stream",
     "text": [
      "                                                                                \r"
     ]
    },
    {
     "name": "stdout",
     "output_type": "stream",
     "text": [
      "val Loss: 0.0967 Acc: 0.0334 AUROC: 0.4856 F1: 0.1297\n"
     ]
    },
    {
     "name": "stderr",
     "output_type": "stream",
     "text": [
      "                                                                                \r"
     ]
    },
    {
     "name": "stdout",
     "output_type": "stream",
     "text": [
      "train Loss: 0.0096 Acc: 0.0050 AUROC: 0.5135 F1: 0.1516\n"
     ]
    },
    {
     "name": "stderr",
     "output_type": "stream",
     "text": [
      "                                                                                \r"
     ]
    },
    {
     "name": "stdout",
     "output_type": "stream",
     "text": [
      "val Loss: 0.0969 Acc: 0.0334 AUROC: 0.4846 F1: 0.1297\n"
     ]
    },
    {
     "name": "stderr",
     "output_type": "stream",
     "text": [
      "                                                                                \r"
     ]
    },
    {
     "name": "stdout",
     "output_type": "stream",
     "text": [
      "train Loss: 0.0095 Acc: 0.0050 AUROC: 0.5757 F1: 0.1516\n"
     ]
    },
    {
     "name": "stderr",
     "output_type": "stream",
     "text": [
      "                                                                                \r"
     ]
    },
    {
     "name": "stdout",
     "output_type": "stream",
     "text": [
      "val Loss: 0.0930 Acc: 0.0334 AUROC: 0.4955 F1: 0.1297\n"
     ]
    },
    {
     "name": "stderr",
     "output_type": "stream",
     "text": [
      "                                                                                \r"
     ]
    },
    {
     "name": "stdout",
     "output_type": "stream",
     "text": [
      "train Loss: 0.0100 Acc: 0.0050 AUROC: 0.6089 F1: 0.1516\n"
     ]
    },
    {
     "name": "stderr",
     "output_type": "stream",
     "text": [
      "                                                                                \r"
     ]
    },
    {
     "name": "stdout",
     "output_type": "stream",
     "text": [
      "val Loss: 0.0954 Acc: 0.0334 AUROC: 0.5107 F1: 0.1297\n"
     ]
    },
    {
     "name": "stderr",
     "output_type": "stream",
     "text": [
      "                                                                                \r"
     ]
    },
    {
     "name": "stdout",
     "output_type": "stream",
     "text": [
      "train Loss: 0.0099 Acc: 0.0050 AUROC: 0.6110 F1: 0.1516\n"
     ]
    },
    {
     "name": "stderr",
     "output_type": "stream",
     "text": [
      "                                                                                \r"
     ]
    },
    {
     "name": "stdout",
     "output_type": "stream",
     "text": [
      "val Loss: 0.1093 Acc: 0.0334 AUROC: 0.4807 F1: 0.1297\n"
     ]
    },
    {
     "name": "stderr",
     "output_type": "stream",
     "text": [
      "                                                                                \r"
     ]
    },
    {
     "name": "stdout",
     "output_type": "stream",
     "text": [
      "train Loss: 0.0102 Acc: 0.0050 AUROC: 0.6179 F1: 0.1516\n"
     ]
    },
    {
     "name": "stderr",
     "output_type": "stream",
     "text": [
      "                                                                                \r"
     ]
    },
    {
     "name": "stdout",
     "output_type": "stream",
     "text": [
      "val Loss: 0.1004 Acc: 0.0334 AUROC: 0.4716 F1: 0.1297\n"
     ]
    },
    {
     "name": "stderr",
     "output_type": "stream",
     "text": [
      "                                                                                \r"
     ]
    },
    {
     "name": "stdout",
     "output_type": "stream",
     "text": [
      "train Loss: 0.0094 Acc: 0.0050 AUROC: 0.5749 F1: 0.1516\n"
     ]
    },
    {
     "name": "stderr",
     "output_type": "stream",
     "text": [
      "                                                                                \r"
     ]
    },
    {
     "name": "stdout",
     "output_type": "stream",
     "text": [
      "val Loss: 0.0943 Acc: 0.0334 AUROC: 0.4797 F1: 0.1297\n"
     ]
    },
    {
     "name": "stderr",
     "output_type": "stream",
     "text": [
      "                                                                                \r"
     ]
    },
    {
     "name": "stdout",
     "output_type": "stream",
     "text": [
      "train Loss: 0.0095 Acc: 0.0050 AUROC: 0.6082 F1: 0.1516\n"
     ]
    },
    {
     "name": "stderr",
     "output_type": "stream",
     "text": [
      "                                                                                \r"
     ]
    },
    {
     "name": "stdout",
     "output_type": "stream",
     "text": [
      "val Loss: 0.1014 Acc: 0.0334 AUROC: 0.4731 F1: 0.1297\n"
     ]
    },
    {
     "name": "stderr",
     "output_type": "stream",
     "text": [
      "                                                                                \r"
     ]
    },
    {
     "name": "stdout",
     "output_type": "stream",
     "text": [
      "train Loss: 0.0095 Acc: 0.0050 AUROC: 0.5969 F1: 0.1516\n"
     ]
    },
    {
     "name": "stderr",
     "output_type": "stream",
     "text": [
      "                                                                                \r"
     ]
    },
    {
     "name": "stdout",
     "output_type": "stream",
     "text": [
      "val Loss: 0.0942 Acc: 0.0334 AUROC: 0.4954 F1: 0.1297\n"
     ]
    },
    {
     "name": "stderr",
     "output_type": "stream",
     "text": [
      "                                                                                \r"
     ]
    },
    {
     "name": "stdout",
     "output_type": "stream",
     "text": [
      "train Loss: 0.0092 Acc: 0.0050 AUROC: 0.6751 F1: 0.1516\n"
     ]
    },
    {
     "name": "stderr",
     "output_type": "stream",
     "text": [
      "                                                                                \r"
     ]
    },
    {
     "name": "stdout",
     "output_type": "stream",
     "text": [
      "val Loss: 0.0939 Acc: 0.0334 AUROC: 0.4812 F1: 0.1297\n"
     ]
    },
    {
     "name": "stderr",
     "output_type": "stream",
     "text": [
      "                                                                                \r"
     ]
    },
    {
     "name": "stdout",
     "output_type": "stream",
     "text": [
      "train Loss: 0.0094 Acc: 0.0050 AUROC: 0.6619 F1: 0.1516\n"
     ]
    },
    {
     "name": "stderr",
     "output_type": "stream",
     "text": [
      "                                                                                \r"
     ]
    },
    {
     "name": "stdout",
     "output_type": "stream",
     "text": [
      "val Loss: 0.0984 Acc: 0.0334 AUROC: 0.4723 F1: 0.1297\n"
     ]
    },
    {
     "name": "stderr",
     "output_type": "stream",
     "text": [
      "                                                                                \r"
     ]
    },
    {
     "name": "stdout",
     "output_type": "stream",
     "text": [
      "train Loss: 0.0089 Acc: 0.0050 AUROC: 0.6686 F1: 0.1516\n"
     ]
    },
    {
     "name": "stderr",
     "output_type": "stream",
     "text": [
      "                                                                                \r"
     ]
    },
    {
     "name": "stdout",
     "output_type": "stream",
     "text": [
      "val Loss: 0.1081 Acc: 0.0334 AUROC: 0.4862 F1: 0.1297\n"
     ]
    },
    {
     "name": "stderr",
     "output_type": "stream",
     "text": [
      "                                                                                \r"
     ]
    },
    {
     "name": "stdout",
     "output_type": "stream",
     "text": [
      "train Loss: 0.0088 Acc: 0.0049 AUROC: 0.6649 F1: 0.1500\n"
     ]
    },
    {
     "name": "stderr",
     "output_type": "stream",
     "text": [
      "                                                                                \r"
     ]
    },
    {
     "name": "stdout",
     "output_type": "stream",
     "text": [
      "val Loss: 0.1054 Acc: 0.0334 AUROC: 0.5040 F1: 0.1297\n"
     ]
    },
    {
     "name": "stderr",
     "output_type": "stream",
     "text": [
      "                                                                                \r"
     ]
    },
    {
     "name": "stdout",
     "output_type": "stream",
     "text": [
      "train Loss: 0.0088 Acc: 0.0050 AUROC: 0.6852 F1: 0.1516\n"
     ]
    },
    {
     "name": "stderr",
     "output_type": "stream",
     "text": [
      "                                                                                \r"
     ]
    },
    {
     "name": "stdout",
     "output_type": "stream",
     "text": [
      "val Loss: 0.0946 Acc: 0.0334 AUROC: 0.5038 F1: 0.1297\n"
     ]
    },
    {
     "name": "stderr",
     "output_type": "stream",
     "text": [
      "                                                                                \r"
     ]
    },
    {
     "name": "stdout",
     "output_type": "stream",
     "text": [
      "train Loss: 0.0088 Acc: 0.0050 AUROC: 0.7104 F1: 0.1516\n"
     ]
    },
    {
     "name": "stderr",
     "output_type": "stream",
     "text": [
      "                                                                                \r"
     ]
    },
    {
     "name": "stdout",
     "output_type": "stream",
     "text": [
      "val Loss: 0.1040 Acc: 0.0334 AUROC: 0.5042 F1: 0.1297\n"
     ]
    },
    {
     "name": "stderr",
     "output_type": "stream",
     "text": [
      "                                                                                \r"
     ]
    },
    {
     "name": "stdout",
     "output_type": "stream",
     "text": [
      "train Loss: 0.0084 Acc: 0.0052 AUROC: 0.7070 F1: 0.2165\n"
     ]
    },
    {
     "name": "stderr",
     "output_type": "stream",
     "text": [
      "                                                                                "
     ]
    },
    {
     "name": "stdout",
     "output_type": "stream",
     "text": [
      "val Loss: 0.1370 Acc: 0.0347 AUROC: 0.4952 F1: 0.1848\n"
     ]
    },
    {
     "name": "stderr",
     "output_type": "stream",
     "text": [
      "\r"
     ]
    }
   ],
   "source": [
    "import copy\n",
    "import torch\n",
    "import torch.nn as nn\n",
    "import torch.optim as optim\n",
    "import torch.nn.functional as F\n",
    "from torch.utils.data import DataLoader\n",
    "from sklearn.metrics import roc_auc_score, f1_score, accuracy_score\n",
    "from tqdm import tqdm\n",
    "\n",
    "def train_model(model, criterion, optimizer, dataloaders, dataset_sizes, num_epochs=25):\n",
    "    best_model_wts = copy.deepcopy(model.state_dict())\n",
    "    best_acc = 0.0\n",
    "\n",
    "    for epoch in range(num_epochs):\n",
    "        for phase in ['train', 'val']:\n",
    "            if phase == 'train':\n",
    "                model.train()  # Set model to training mode\n",
    "            else:\n",
    "                model.eval()   # Set model to evaluate mode\n",
    "\n",
    "            running_loss = 0.0\n",
    "            running_corrects = 0\n",
    "\n",
    "            all_labels = []\n",
    "            all_preds = []\n",
    "            all_scores = []\n",
    "\n",
    "            for inputs, labels in tqdm(dataloaders[phase], desc=f'{phase} phase', leave=False):\n",
    "                inputs = inputs.to(device)\n",
    "                labels = labels.to(device)\n",
    "\n",
    "                optimizer.zero_grad()\n",
    "\n",
    "                with torch.set_grad_enabled(phase == 'train'):\n",
    "                    outputs = model(inputs)\n",
    "                    _, preds = torch.max(outputs, 1)\n",
    "                    loss = criterion(outputs, labels)\n",
    "\n",
    "                    if phase == 'train':\n",
    "                        loss.backward()\n",
    "                        optimizer.step()\n",
    "\n",
    "                running_loss += loss.item() * inputs.size(0)\n",
    "                running_corrects += torch.sum(preds == labels.data)\n",
    "\n",
    "                all_labels.extend(labels.cpu().numpy())\n",
    "                all_preds.extend(preds.cpu().numpy())\n",
    "                all_scores.extend(F.softmax(outputs, dim=1).cpu().detach().numpy())\n",
    "\n",
    "            epoch_loss = running_loss / dataset_sizes[phase]\n",
    "            epoch_acc = running_corrects.double() / dataset_sizes[phase]\n",
    "\n",
    "            if phase == 'val' and epoch_acc > best_acc:\n",
    "                best_acc = epoch_acc\n",
    "                best_model_wts = copy.deepcopy(model.state_dict())\n",
    "\n",
    "            auroc = roc_auc_score(all_labels, all_scores, multi_class='ovr', average='macro')\n",
    "            f1 = f1_score(all_labels, all_preds, average='macro')\n",
    "            accuracy = accuracy_score(all_labels, all_preds)\n",
    "\n",
    "            print(f'{phase} Loss: {epoch_loss:.4f} Acc: {epoch_acc:.4f} AUROC: {auroc:.4f} F1: {f1:.4f}')\n",
    "\n",
    "    model.load_state_dict(best_model_wts)\n",
    "    return model\n",
    "\n",
    "dataloaders = {\n",
    "    'train': train_loader,\n",
    "    'val': val_loader\n",
    "}\n",
    "\n",
    "# Initialize model, criterion, optimizer\n",
    "device = torch.device(\"cuda:0\" if torch.cuda.is_available() else \"cpu\")\n",
    "model = VGG_Classifier('vgg11', num_classes=5).to(device)  # Adjust num_classes as per your dataset\n",
    "\n",
    "criterion = nn.CrossEntropyLoss()\n",
    "optimizer = torch.optim.Adam(model.parameters(), lr=0.001)\n",
    "\n",
    "# Define dataset sizes\n",
    "dataset_sizes = {\n",
    "    'train': len(train_dataset),\n",
    "    'val': len(val_dataset)\n",
    "}\n",
    "\n",
    "# Train the model\n",
    "model = train_model(model, criterion, optimizer, dataloaders, dataset_sizes, num_epochs=25)"
   ]
  }
 ],
 "metadata": {
  "kernelspec": {
   "display_name": "Python (ecg_diagnosis_models)",
   "language": "python",
   "name": "ecg_diagnosis_models"
  },
  "language_info": {
   "codemirror_mode": {
    "name": "ipython",
    "version": 3
   },
   "file_extension": ".py",
   "mimetype": "text/x-python",
   "name": "python",
   "nbconvert_exporter": "python",
   "pygments_lexer": "ipython3",
   "version": "3.9.19"
  }
 },
 "nbformat": 4,
 "nbformat_minor": 5
}
