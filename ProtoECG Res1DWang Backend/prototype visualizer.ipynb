{
 "cells": [
  {
   "cell_type": "code",
   "execution_count": 1,
   "id": "7226294b-492a-4dee-882f-5e65cd967f80",
   "metadata": {},
   "outputs": [],
   "source": [
    "import numpy as np\n",
    "import matplotlib.pyplot as plt"
   ]
  },
  {
   "cell_type": "code",
   "execution_count": 2,
   "id": "ecd973e5-6c4a-4f6b-be22-b952c0185add",
   "metadata": {},
   "outputs": [],
   "source": [
    "# Load the .dat.npy file\n",
    "file_path = 'saved_models/1/img/epoch-2/prototype-img0.dat.npy'"
   ]
  },
  {
   "cell_type": "code",
   "execution_count": 4,
   "id": "524d5fd9-f9d1-4094-a44d-096eea77bc80",
   "metadata": {},
   "outputs": [],
   "source": [
    "ecg_data = np.load(file_path)\n",
    "\n",
    "# Print the shape and type of the loaded data\n",
    "print(\"Loaded data shape:\", ecg_data.shape)\n",
    "print(\"Data type:\", ecg_data.dtype)\n",
    "\n",
    "# Transpose if needed (depending on your data's orientation)\n",
    "ecg_data = ecg_data.T  # Uncomment if your data needs transposing\n",
    "\n",
    "# Check the dimensions\n",
    "if ecg_data.ndim == 2:\n",
    "    num_samples, num_channels = ecg_data.shape\n",
    "\n",
    "    # Create a figure for the ECG leads\n",
    "    plt.figure(figsize=(10,6))  # Adjust height based on number of leads\n",
    "\n",
    "    # Plot each lead in a separate horizontal section\n",
    "    for i in range(num_channels):\n",
    "        plt.plot(ecg_data[:, i] + i * 3.7, label=f'Lead {i+1}')  # Offset each lead to avoid overlap\n",
    "\n",
    "    plt.title('ECG Waveforms')\n",
    "    plt.xlabel('Sample Index')\n",
    "    plt.ylabel('Amplitude')\n",
    "    plt.legend(loc='upper right')\n",
    "    plt.grid(False)  # Turn off gridlines\n",
    "    plt.show()\n",
    "\n",
    "elif ecg_data.ndim == 1:\n",
    "    plt.figure(figsize=(12, 6))\n",
    "    plt.plot(ecg_data)\n",
    "    plt.title('ECG Waveform')\n",
    "    plt.xlabel('Sample Index')\n",
    "    plt.ylabel('Amplitude')\n",
    "    plt.grid(False)  # Turn off gridlines\n",
    "    plt.show()\n",
    "\n",
    "else:\n",
    "    print(\"Unsupported data shape.\")\n"
   ]
  }
 ],
 "metadata": {
  "kernelspec": {
   "display_name": "Python (ecg_diagnosis_models)",
   "language": "python",
   "name": "ecg_diagnosis_models"
  },
  "language_info": {
   "codemirror_mode": {
    "name": "ipython",
    "version": 3
   },
   "file_extension": ".py",
   "mimetype": "text/x-python",
   "name": "python",
   "nbconvert_exporter": "python",
   "pygments_lexer": "ipython3",
   "version": "3.9.19"
  }
 },
 "nbformat": 4,
 "nbformat_minor": 5
}
