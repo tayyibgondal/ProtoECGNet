{
 "cells": [
  {
   "cell_type": "markdown",
   "id": "2a3f6ce1-517d-4b23-8e82-b1f737004947",
   "metadata": {},
   "source": [
    "This notebook contains 5 model classes:\n",
    "1. Resnet18\n",
    "2. Resnet34\n",
    "3. Resnet50\n",
    "4. Resnet101\n",
    "5. Resnet152"
   ]
  },
  {
   "cell_type": "markdown",
   "id": "a2b47fe1-4322-4e47-975f-f1c51d8ab574",
   "metadata": {},
   "source": [
    "## Resnet18"
   ]
  },
  {
   "cell_type": "code",
   "execution_count": 19,
   "id": "acc506aa-9703-416f-80b9-0f180983d7d4",
   "metadata": {},
   "outputs": [
    {
     "name": "stdout",
     "output_type": "stream",
     "text": [
      "torch.Size([32, 11])\n"
     ]
    }
   ],
   "source": [
    "import torch\n",
    "import torch.nn as nn\n",
    "import torch.nn.functional as F\n",
    "from resnet_features import resnet18_features\n",
    "\n",
    "class ECGClassifier(nn.Module):\n",
    "    def __init__(self, num_classes=11):\n",
    "        super(ECGClassifier, self).__init__()\n",
    "        # Load the pretrained resnet18 model\n",
    "        self.resnet18 = resnet18_features(pretrained=True)\n",
    "        \n",
    "        # Define the additional layers for classification\n",
    "        self.avgpool = nn.AdaptiveAvgPool2d((1, 1))\n",
    "        self.fc1 = nn.Linear(512, 128)  # First fully connected layer\n",
    "        self.dropout1 = nn.Dropout(p=0.5)\n",
    "        self.fc2 = nn.Linear(128, 64)  # Second fully connected layer\n",
    "        self.dropout2 = nn.Dropout(p=0.5)\n",
    "        self.fc3 = nn.Linear(64, num_classes)  # Final layer for classification\n",
    "        \n",
    "    def forward(self, x):\n",
    "        # Forward pass through the resnet18 feature extractor\n",
    "        x = self.resnet18(x)\n",
    "        # Adaptive average pooling to maintain the same output size\n",
    "        x = self.avgpool(x)\n",
    "        # Flatten the tensor for the fully connected layers\n",
    "        x = torch.flatten(x, 1)\n",
    "        # Pass through the first fully connected layer\n",
    "        x = F.relu(self.fc1(x))\n",
    "        x = self.dropout1(x)\n",
    "        # Pass through the second fully connected layer\n",
    "        x = F.relu(self.fc2(x))\n",
    "        x = self.dropout2(x)\n",
    "        # Pass through the final classification layer\n",
    "        x = self.fc3(x)\n",
    "        \n",
    "        return x\n",
    "\n",
    "# Example usage\n",
    "model = ECGClassifier(num_classes=11)\n",
    "inp = torch.randn(32, 3, 224, 224)  # Example input tensor with batch size 32\n",
    "output = model(inp)\n",
    "print(output.shape)  # Should print torch.Size([32, 11])"
   ]
  },
  {
   "cell_type": "markdown",
   "id": "579615b0-5c93-4e0d-9605-4d26984719a0",
   "metadata": {},
   "source": [
    "## Resnet34"
   ]
  },
  {
   "cell_type": "code",
   "execution_count": 20,
   "id": "e5ab02ad-cd48-4264-9ea9-153cccc1f5fa",
   "metadata": {},
   "outputs": [
    {
     "name": "stdout",
     "output_type": "stream",
     "text": [
      "torch.Size([32, 11])\n"
     ]
    }
   ],
   "source": [
    "import torch\n",
    "import torch.nn as nn\n",
    "import torch.nn.functional as F\n",
    "from resnet_features import resnet34_features\n",
    "\n",
    "class ECGClassifier(nn.Module):\n",
    "    def __init__(self, num_classes=11):\n",
    "        super(ECGClassifier, self).__init__()\n",
    "        # Load the pretrained resnet34 model\n",
    "        self.resnet34 = resnet34_features(pretrained=True)\n",
    "        \n",
    "        # Define the additional layers for classification\n",
    "        self.avgpool = nn.AdaptiveAvgPool2d((1, 1))\n",
    "        self.fc1 = nn.Linear(512, 128)  # First fully connected layer\n",
    "        self.dropout1 = nn.Dropout(p=0.5)\n",
    "        self.fc2 = nn.Linear(128, 64)  # Second fully connected layer\n",
    "        self.dropout2 = nn.Dropout(p=0.5)\n",
    "        self.fc3 = nn.Linear(64, num_classes)  # Final layer for classification\n",
    "        \n",
    "    def forward(self, x):\n",
    "        # Forward pass through the resnet34 feature extractor\n",
    "        x = self.resnet34(x)\n",
    "        # Adaptive average pooling to maintain the same output size\n",
    "        x = self.avgpool(x)\n",
    "        # Flatten the tensor for the fully connected layers\n",
    "        x = torch.flatten(x, 1)\n",
    "        # Pass through the first fully connected layer\n",
    "        x = F.relu(self.fc1(x))\n",
    "        x = self.dropout1(x)\n",
    "        # Pass through the second fully connected layer\n",
    "        x = F.relu(self.fc2(x))\n",
    "        x = self.dropout2(x)\n",
    "        # Pass through the final classification layer\n",
    "        x = self.fc3(x)\n",
    "        \n",
    "        return x\n",
    "\n",
    "# Example usage\n",
    "model = ECGClassifier(num_classes=11)\n",
    "inp = torch.randn(32, 3, 224, 224)  # Example input tensor with batch size 32\n",
    "output = model(inp)\n",
    "print(output.shape)  # Should print torch.Size([32, 11])"
   ]
  },
  {
   "cell_type": "markdown",
   "id": "e6dce697-9231-4264-b030-fbce7323fdc1",
   "metadata": {},
   "source": [
    "## Resnet50"
   ]
  },
  {
   "cell_type": "code",
   "execution_count": null,
   "id": "a33ff1c5-6693-4e03-a38a-e6b7bdf79fd4",
   "metadata": {},
   "outputs": [],
   "source": [
    "import torch\n",
    "import torch.nn as nn\n",
    "import torch.nn.functional as F\n",
    "from resnet_features import resnet50_features\n",
    "\n",
    "class ECGClassifier(nn.Module):\n",
    "    def __init__(self, num_classes=11):\n",
    "        super(ECGClassifier, self).__init__()\n",
    "        # Load the pretrained ResNet-50 model\n",
    "        self.resnet50 = resnet50_features(pretrained=True)\n",
    "        \n",
    "        # Define the additional layers for classification\n",
    "        self.avgpool = nn.AdaptiveAvgPool2d((1, 1))\n",
    "        self.fc1 = nn.Linear(2048, 1024)  # First fully connected layer\n",
    "        self.dropout1 = nn.Dropout(p=0.5)\n",
    "        self.fc2 = nn.Linear(1024, num_classes)  # Final classification layer\n",
    "        \n",
    "    def forward(self, x):\n",
    "        # Forward pass through the ResNet-50 feature extractor\n",
    "        x = self.resnet50(x)\n",
    "        # Adaptive average pooling to reduce the spatial dimensions\n",
    "        x = self.avgpool(x)\n",
    "        # Flatten the tensor for the fully connected layers\n",
    "        x = torch.flatten(x, 1)\n",
    "        # Pass through the first fully connected layer\n",
    "        x = F.relu(self.fc1(x))\n",
    "        x = self.dropout1(x)\n",
    "        # Pass through the final classification layer\n",
    "        x = self.fc2(x)\n",
    "        \n",
    "        return x\n",
    "\n",
    "# Example usage\n",
    "model = ECGClassifier(num_classes=11)\n",
    "inp = torch.randn(32, 3, 224, 224)  # Example input tensor with batch size 32\n",
    "output = model(inp)\n",
    "print(output.shape)  # Should print torch.Size([32, 11])\n"
   ]
  },
  {
   "cell_type": "markdown",
   "id": "9b1c0647-3c11-4e4f-8e83-045dda368f2b",
   "metadata": {},
   "source": [
    "## Resnet101"
   ]
  },
  {
   "cell_type": "code",
   "execution_count": 25,
   "id": "e964f475-7fe2-46c3-a886-665706fd6cfc",
   "metadata": {},
   "outputs": [
    {
     "name": "stdout",
     "output_type": "stream",
     "text": [
      "torch.Size([32, 11])\n"
     ]
    }
   ],
   "source": [
    "import torch\n",
    "import torch.nn as nn\n",
    "import torch.nn.functional as F\n",
    "from resnet_features import resnet101_features\n",
    "\n",
    "class ECGClassifier(nn.Module):\n",
    "    def __init__(self, num_classes=11):\n",
    "        super(ECGClassifier, self).__init__()\n",
    "        # Load the pretrained ResNet-101 model\n",
    "        self.resnet101 = resnet101_features(pretrained=True)\n",
    "        \n",
    "        # Define the additional layers for classification\n",
    "        self.avgpool = nn.AdaptiveAvgPool2d((1, 1))\n",
    "        self.fc1 = nn.Linear(2048, 1024)  # First fully connected layer\n",
    "        self.dropout1 = nn.Dropout(p=0.5)\n",
    "        self.fc2 = nn.Linear(1024, num_classes)  # Final classification layer\n",
    "        \n",
    "    def forward(self, x):\n",
    "        # Forward pass through the ResNet-101 feature extractor\n",
    "        x = self.resnet101(x)\n",
    "        # Adaptive average pooling to reduce the spatial dimensions\n",
    "        x = self.avgpool(x)\n",
    "        # Flatten the tensor for the fully connected layers\n",
    "        x = torch.flatten(x, 1)\n",
    "        # Pass through the first fully connected layer\n",
    "        x = F.relu(self.fc1(x))\n",
    "        x = self.dropout1(x)\n",
    "        # Pass through the final classification layer\n",
    "        x = self.fc2(x)\n",
    "        \n",
    "        return x\n",
    "\n",
    "# Example usage\n",
    "model = ECGClassifier(num_classes=11)\n",
    "inp = torch.randn(32, 3, 224, 224)  # Example input tensor with batch size 32\n",
    "output = model(inp)\n",
    "print(output.shape)  # Should print torch.Size([32, 11])\n"
   ]
  },
  {
   "cell_type": "markdown",
   "id": "8d9a3dff-39c3-4d31-8b26-5d00a81302f4",
   "metadata": {},
   "source": [
    "## Resnet152"
   ]
  },
  {
   "cell_type": "code",
   "execution_count": 12,
   "id": "60214e47-1761-44f9-a104-6b100dcfed25",
   "metadata": {},
   "outputs": [
    {
     "name": "stdout",
     "output_type": "stream",
     "text": [
      "torch.Size([32, 11])\n"
     ]
    }
   ],
   "source": [
    "import torch\n",
    "import torch.nn as nn\n",
    "import torch.nn.functional as F\n",
    "from resnet_features import resnet152_features\n",
    "\n",
    "class ECGClassifier(nn.Module):\n",
    "    def __init__(self, num_classes=11):\n",
    "        super(ECGClassifier, self).__init__()\n",
    "        # Load the pretrained ResNet-152 model\n",
    "        self.resnet152 = resnet152_features(pretrained=True)\n",
    "        \n",
    "        # Define the additional layers for classification\n",
    "        self.avgpool = nn.AdaptiveAvgPool2d((1, 1))\n",
    "        self.fc1 = nn.Linear(2048, 1024)  # First fully connected layer\n",
    "        self.dropout1 = nn.Dropout(p=0.5)\n",
    "        self.fc2 = nn.Linear(1024, num_classes)  # Final classification layer\n",
    "        \n",
    "    def forward(self, x):\n",
    "        # Forward pass through the ResNet-152 feature extractor\n",
    "        x = self.resnet152(x)\n",
    "        # Adaptive average pooling to reduce the spatial dimensions\n",
    "        x = self.avgpool(x)\n",
    "        # Flatten the tensor for the fully connected layers\n",
    "        x = torch.flatten(x, 1)\n",
    "        # Pass through the first fully connected layer\n",
    "        x = F.relu(self.fc1(x))\n",
    "        x = self.dropout1(x)\n",
    "        # Pass through the final classification layer\n",
    "        x = self.fc2(x)\n",
    "        \n",
    "        return x\n",
    "\n",
    "# Example usage\n",
    "model = ECGClassifier(num_classes=11)\n",
    "inp = torch.randn(32, 3, 224, 224)  # Example input tensor with batch size 32\n",
    "output = model(inp)\n",
    "print(output.shape)  # Should print torch.Size([32, 11])\n"
   ]
  }
 ],
 "metadata": {
  "kernelspec": {
   "display_name": "Python (ecg_diagnosis_models)",
   "language": "python",
   "name": "ecg_diagnosis_models"
  },
  "language_info": {
   "codemirror_mode": {
    "name": "ipython",
    "version": 3
   },
   "file_extension": ".py",
   "mimetype": "text/x-python",
   "name": "python",
   "nbconvert_exporter": "python",
   "pygments_lexer": "ipython3",
   "version": "3.9.19"
  }
 },
 "nbformat": 4,
 "nbformat_minor": 5
}
