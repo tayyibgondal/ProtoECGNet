{
 "cells": [
  {
   "cell_type": "markdown",
   "id": "9ce43686-bfe0-422b-87cb-cbe713a1cee4",
   "metadata": {},
   "source": [
    "This notebook contains model class for one model. Namely:\n",
    "1. Densenet201"
   ]
  },
  {
   "cell_type": "markdown",
   "id": "8b5f31e4-1744-433d-91b8-3d02aa8d713b",
   "metadata": {},
   "source": [
    "## Densenet201"
   ]
  },
  {
   "cell_type": "code",
   "execution_count": 7,
   "id": "d3ecdd27-4eb1-4a2f-be03-704a1b5c94af",
   "metadata": {},
   "outputs": [
    {
     "name": "stderr",
     "output_type": "stream",
     "text": [
      "Downloading: \"https://download.pytorch.org/models/densenet121-a639ec97.pth\" to ./pretrained_models/densenet121-a639ec97.pth\n",
      "100%|███████████████████████████████████████████████████████████████████████████████████████████████████████████████████████████████████████████| 30.8M/30.8M [00:03<00:00, 9.19MB/s]\n"
     ]
    },
    {
     "name": "stdout",
     "output_type": "stream",
     "text": [
      "torch.Size([32, 11])\n"
     ]
    }
   ],
   "source": [
    "import torch\n",
    "import torch.nn as nn\n",
    "import torch.nn.functional as F\n",
    "from densenet_features import densenet121_features\n",
    "\n",
    "class ECGClassifier(nn.Module):\n",
    "    def __init__(self, num_classes=11):\n",
    "        super(ECGClassifier, self).__init__()\n",
    "        # Load the pretrained densenet121 model\n",
    "        self.densenet121 = densenet121_features(pretrained=True)\n",
    "        \n",
    "        # Define the additional layers for classification\n",
    "        self.avgpool = nn.AdaptiveAvgPool2d((1, 1))\n",
    "        self.fc1 = nn.Linear(1024, 128)  # First fully connected layer\n",
    "        self.dropout1 = nn.Dropout(p=0.5)\n",
    "        self.fc2 = nn.Linear(128, 64)  # Second fully connected layer\n",
    "        self.dropout2 = nn.Dropout(p=0.5)\n",
    "        self.fc3 = nn.Linear(64, num_classes)  # Final layer for classification\n",
    "        \n",
    "    def forward(self, x):\n",
    "        # Forward pass through the densenet121 feature extractor\n",
    "        x = self.densenet121(x)\n",
    "        # Adaptive average pooling to maintain the same output size\n",
    "        x = self.avgpool(x)\n",
    "        # Flatten the tensor for the fully connected layers\n",
    "        x = torch.flatten(x, 1)\n",
    "        # Pass through the first fully connected layer\n",
    "        x = F.relu(self.fc1(x))\n",
    "        x = self.dropout1(x)\n",
    "        # Pass through the second fully connected layer\n",
    "        x = F.relu(self.fc2(x))\n",
    "        x = self.dropout2(x)\n",
    "        # Pass through the final classification layer\n",
    "        x = self.fc3(x)\n",
    "        \n",
    "        return x\n",
    "\n",
    "# Example usage\n",
    "model = ECGClassifier(num_classes=11)\n",
    "inp = torch.randn(32, 3, 224, 224)  # Example input tensor with batch size 32\n",
    "output = model(inp)\n",
    "print(output.shape)  # Should print torch.Size([32, 11])"
   ]
  }
 ],
 "metadata": {
  "kernelspec": {
   "display_name": "Python (ecg_diagnosis_models)",
   "language": "python",
   "name": "ecg_diagnosis_models"
  },
  "language_info": {
   "codemirror_mode": {
    "name": "ipython",
    "version": 3
   },
   "file_extension": ".py",
   "mimetype": "text/x-python",
   "name": "python",
   "nbconvert_exporter": "python",
   "pygments_lexer": "ipython3",
   "version": "3.9.19"
  }
 },
 "nbformat": 4,
 "nbformat_minor": 5
}
