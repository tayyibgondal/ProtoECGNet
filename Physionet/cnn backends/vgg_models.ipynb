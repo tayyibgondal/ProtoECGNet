{
 "cells": [
  {
   "cell_type": "markdown",
   "id": "472cfa6e-94fb-4f2f-b554-780c5bd4f8f0",
   "metadata": {},
   "source": [
    "This notebook contains 4 model classes:\n",
    "1. VGG19\n",
    "2. VGG16\n",
    "3. VGG13\n",
    "4. VGG11"
   ]
  },
  {
   "cell_type": "markdown",
   "id": "6e48e17f-7d56-4516-8fc3-7be9edc7736f",
   "metadata": {},
   "source": [
    "# VGG19 Model for 11 class classification"
   ]
  },
  {
   "cell_type": "code",
   "execution_count": 5,
   "id": "c9cf3af4-a773-4cad-85ad-ecf99e1fceab",
   "metadata": {},
   "outputs": [
    {
     "name": "stdout",
     "output_type": "stream",
     "text": [
      "torch.Size([32, 11])\n"
     ]
    }
   ],
   "source": [
    "import torch\n",
    "import torch.nn as nn\n",
    "import torch.nn.functional as F\n",
    "from vgg_features import vgg19_features\n",
    "\n",
    "class ECGClassifier(nn.Module):\n",
    "    def __init__(self, num_classes=11):\n",
    "        super(ECGClassifier, self).__init__()\n",
    "        # Load the pretrained VGG19 model\n",
    "        self.vgg19 = vgg19_features(pretrained=True)\n",
    "        \n",
    "        # Define the additional layers for classification\n",
    "        self.avgpool = nn.AdaptiveAvgPool2d((1, 1))\n",
    "        self.fc1 = nn.Linear(512, 128)  # First fully connected layer\n",
    "        self.dropout1 = nn.Dropout(p=0.5)\n",
    "        self.fc2 = nn.Linear(128, 64)  # Second fully connected layer\n",
    "        self.dropout2 = nn.Dropout(p=0.5)\n",
    "        self.fc3 = nn.Linear(64, num_classes)  # Final layer for classification\n",
    "        \n",
    "    def forward(self, x):\n",
    "        # Forward pass through the VGG19 feature extractor\n",
    "        x = self.vgg19(x)\n",
    "        # Adaptive average pooling to maintain the same output size\n",
    "        x = self.avgpool(x)\n",
    "        # Flatten the tensor for the fully connected layers\n",
    "        x = torch.flatten(x, 1)\n",
    "        # Pass through the first fully connected layer\n",
    "        x = F.relu(self.fc1(x))\n",
    "        x = self.dropout1(x)\n",
    "        # Pass through the second fully connected layer\n",
    "        x = F.relu(self.fc2(x))\n",
    "        x = self.dropout2(x)\n",
    "        # Pass through the final classification layer\n",
    "        x = self.fc3(x)\n",
    "        \n",
    "        return x\n",
    "\n",
    "# Example usage\n",
    "model = ECGClassifier(num_classes=11)\n",
    "inp = torch.randn(32, 3, 224, 224)  # Example input tensor with batch size 32\n",
    "output = model(inp)\n",
    "print(output.shape)  # Should print torch.Size([32, 11])"
   ]
  },
  {
   "cell_type": "markdown",
   "id": "f7779ebb-9178-4b5c-8b90-aba04b992090",
   "metadata": {},
   "source": [
    "# VGG16 Model for 11 class classification"
   ]
  },
  {
   "cell_type": "code",
   "execution_count": 6,
   "id": "26611563-790e-4cb9-b623-a63ddc0c982f",
   "metadata": {},
   "outputs": [
    {
     "name": "stdout",
     "output_type": "stream",
     "text": [
      "torch.Size([32, 11])\n"
     ]
    }
   ],
   "source": [
    "import torch\n",
    "import torch.nn as nn\n",
    "import torch.nn.functional as F\n",
    "from vgg_features import vgg16_features\n",
    "\n",
    "class ECGClassifier(nn.Module):\n",
    "    def __init__(self, num_classes=11):\n",
    "        super(ECGClassifier, self).__init__()\n",
    "        # Load the pretrained VGG16 model\n",
    "        self.vgg16 = vgg16_features(pretrained=True)\n",
    "        \n",
    "        # Define the additional layers for classification\n",
    "        self.avgpool = nn.AdaptiveAvgPool2d((1, 1))\n",
    "        self.fc1 = nn.Linear(512, 128)  # First fully connected layer\n",
    "        self.dropout1 = nn.Dropout(p=0.5)\n",
    "        self.fc2 = nn.Linear(128, 64)  # Second fully connected layer\n",
    "        self.dropout2 = nn.Dropout(p=0.5)\n",
    "        self.fc3 = nn.Linear(64, num_classes)  # Final layer for classification\n",
    "        \n",
    "    def forward(self, x):\n",
    "        # Forward pass through the VGG16 feature extractor\n",
    "        x = self.vgg16(x)\n",
    "        # Adaptive average pooling to maintain the same output size\n",
    "        x = self.avgpool(x)\n",
    "        # Flatten the tensor for the fully connected layers\n",
    "        x = torch.flatten(x, 1)\n",
    "        # Pass through the first fully connected layer\n",
    "        x = F.relu(self.fc1(x))\n",
    "        x = self.dropout1(x)\n",
    "        # Pass through the second fully connected layer\n",
    "        x = F.relu(self.fc2(x))\n",
    "        x = self.dropout2(x)\n",
    "        # Pass through the final classification layer\n",
    "        x = self.fc3(x)\n",
    "        \n",
    "        return x\n",
    "\n",
    "# Example usage\n",
    "model = ECGClassifier(num_classes=11)\n",
    "inp = torch.randn(32, 3, 224, 224)  # Example input tensor with batch size 32\n",
    "output = model(inp)\n",
    "print(output.shape)  # Should print torch.Size([32, 11])"
   ]
  },
  {
   "cell_type": "markdown",
   "id": "6a1c87ec-7a02-407c-9222-3e8d1ee08ca3",
   "metadata": {},
   "source": [
    "# VGG13 Model for 11 class classification"
   ]
  },
  {
   "cell_type": "code",
   "execution_count": 7,
   "id": "7d75ff60-7bc3-4b8c-95d1-f7480fd3d0b4",
   "metadata": {},
   "outputs": [
    {
     "name": "stdout",
     "output_type": "stream",
     "text": [
      "torch.Size([32, 11])\n"
     ]
    }
   ],
   "source": [
    "import torch\n",
    "import torch.nn as nn\n",
    "import torch.nn.functional as F\n",
    "from vgg_features import vgg13_features\n",
    "\n",
    "class ECGClassifier(nn.Module):\n",
    "    def __init__(self, num_classes=11):\n",
    "        super(ECGClassifier, self).__init__()\n",
    "        # Load the pretrained VGG13 model\n",
    "        self.vgg13 = vgg13_features(pretrained=True)\n",
    "        \n",
    "        # Define the additional layers for classification\n",
    "        self.avgpool = nn.AdaptiveAvgPool2d((1, 1))\n",
    "        self.fc1 = nn.Linear(512, 128)  # First fully connected layer\n",
    "        self.dropout1 = nn.Dropout(p=0.5)\n",
    "        self.fc2 = nn.Linear(128, 64)  # Second fully connected layer\n",
    "        self.dropout2 = nn.Dropout(p=0.5)\n",
    "        self.fc3 = nn.Linear(64, num_classes)  # Final layer for classification\n",
    "        \n",
    "    def forward(self, x):\n",
    "        # Forward pass through the VGG13 feature extractor\n",
    "        x = self.vgg13(x)\n",
    "        # Adaptive average pooling to maintain the same output size\n",
    "        x = self.avgpool(x)\n",
    "        # Flatten the tensor for the fully connected layers\n",
    "        x = torch.flatten(x, 1)\n",
    "        # Pass through the first fully connected layer\n",
    "        x = F.relu(self.fc1(x))\n",
    "        x = self.dropout1(x)\n",
    "        # Pass through the second fully connected layer\n",
    "        x = F.relu(self.fc2(x))\n",
    "        x = self.dropout2(x)\n",
    "        # Pass through the final classification layer\n",
    "        x = self.fc3(x)\n",
    "        \n",
    "        return x\n",
    "\n",
    "# Example usage\n",
    "model = ECGClassifier(num_classes=11)\n",
    "inp = torch.randn(32, 3, 224, 224)  # Example input tensor with batch size 32\n",
    "output = model(inp)\n",
    "print(output.shape)  # Should print torch.Size([32, 11])"
   ]
  },
  {
   "cell_type": "markdown",
   "id": "4455840d-0016-41ad-b3f3-4343135a4ac1",
   "metadata": {},
   "source": [
    "# VGG11 Model for 11 class classification"
   ]
  },
  {
   "cell_type": "code",
   "execution_count": 9,
   "id": "7da75428-0953-4439-b84b-5e22b3566bf2",
   "metadata": {},
   "outputs": [
    {
     "name": "stdout",
     "output_type": "stream",
     "text": [
      "torch.Size([32, 11])\n"
     ]
    }
   ],
   "source": [
    "import torch\n",
    "import torch.nn as nn\n",
    "import torch.nn.functional as F\n",
    "from vgg_features import vgg11_features\n",
    "\n",
    "class ECGClassifier(nn.Module):\n",
    "    def __init__(self, num_classes=11):\n",
    "        super(ECGClassifier, self).__init__()\n",
    "        # Load the pretrained VGG11 model\n",
    "        self.vgg11 = vgg11_features(pretrained=True)\n",
    "        \n",
    "        # Define the additional layers for classification\n",
    "        self.avgpool = nn.AdaptiveAvgPool2d((1, 1))\n",
    "        self.fc1 = nn.Linear(512, 128)  # First fully connected layer\n",
    "        self.dropout1 = nn.Dropout(p=0.5)\n",
    "        self.fc2 = nn.Linear(128, 64)  # Second fully connected layer\n",
    "        self.dropout2 = nn.Dropout(p=0.5)\n",
    "        self.fc3 = nn.Linear(64, num_classes)  # Final layer for classification\n",
    "        \n",
    "    def forward(self, x):\n",
    "        # Forward pass through the VGG11 feature extractor\n",
    "        x = self.vgg11(x)\n",
    "        # Adaptive average pooling to maintain the same output size\n",
    "        x = self.avgpool(x)\n",
    "        # Flatten the tensor for the fully connected layers\n",
    "        x = torch.flatten(x, 1)\n",
    "        # Pass through the first fully connected layer\n",
    "        x = F.relu(self.fc1(x))\n",
    "        x = self.dropout1(x)\n",
    "        # Pass through the second fully connected layer\n",
    "        x = F.relu(self.fc2(x))\n",
    "        x = self.dropout2(x)\n",
    "        # Pass through the final classification layer\n",
    "        x = self.fc3(x)\n",
    "        \n",
    "        return x\n",
    "\n",
    "# Example usage\n",
    "model = ECGClassifier(num_classes=11)\n",
    "inp = torch.randn(32, 3, 224, 224)  # Example input tensor with batch size 32\n",
    "output = model(inp)\n",
    "print(output.shape)  # Should print torch.Size([32, 11])"
   ]
  }
 ],
 "metadata": {
  "kernelspec": {
   "display_name": "Python (ecg_diagnosis_models)",
   "language": "python",
   "name": "ecg_diagnosis_models"
  },
  "language_info": {
   "codemirror_mode": {
    "name": "ipython",
    "version": 3
   },
   "file_extension": ".py",
   "mimetype": "text/x-python",
   "name": "python",
   "nbconvert_exporter": "python",
   "pygments_lexer": "ipython3",
   "version": "3.9.19"
  }
 },
 "nbformat": 4,
 "nbformat_minor": 5
}
