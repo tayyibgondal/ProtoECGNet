{
 "cells": [
  {
   "cell_type": "markdown",
   "id": "1b4f14e2-cd16-4ced-a29c-72635b0701f4",
   "metadata": {},
   "source": [
    "## Imports"
   ]
  },
  {
   "cell_type": "code",
   "execution_count": 48,
   "id": "cb17799c-aedc-4fd8-9e38-8ef9c55e97d7",
   "metadata": {},
   "outputs": [],
   "source": [
    "import torch\n",
    "import torch.nn as nn\n",
    "from tqdm import tqdm\n",
    "from sklearn.metrics import roc_auc_score\n",
    "import numpy as np\n",
    "from torchvision import transforms\n",
    "\n",
    "# # book keeping namings and code\n",
    "# from settings import img_size, prototype_shape, num_classes, \\\n",
    "#                      prototype_activation_function, \\\n",
    "#                      add_on_layers_type, test_information, \\\n",
    "#                      num_test_examples, img_size, test_batch_size\n",
    "\n",
    "from dataset_class import ECGImageDataset\n",
    "import model_for_superclasses as model\n",
    "\n",
    "# Set device\n",
    "device = torch.device('cuda' if torch.cuda.is_available() else 'cpu')"
   ]
  },
  {
   "cell_type": "markdown",
   "id": "eae10942-4f4f-475a-820c-a372ab1124fa",
   "metadata": {},
   "source": [
    "## Add paths"
   ]
  },
  {
   "cell_type": "code",
   "execution_count": 52,
   "id": "07ace5e6-4590-4d1b-a1c3-54492c7f3568",
   "metadata": {},
   "outputs": [],
   "source": [
    "saved_model_path = 'saved_models/vgg19/5/19nopushAUROC_0.8465.pth'\n",
    "test_json_path = 'test-100.json'"
   ]
  },
  {
   "cell_type": "markdown",
   "id": "dfd0b7e5-38d3-48e6-b857-ad3ae0a844d8",
   "metadata": {},
   "source": [
    "## Create data loader for test set"
   ]
  },
  {
   "cell_type": "code",
   "execution_count": 45,
   "id": "93a9237f-a6e9-4d8e-859f-9f6ba27a2784",
   "metadata": {},
   "outputs": [],
   "source": [
    "# Define transformations\n",
    "normalize = transforms.Normalize(mean=[0.485, 0.456, 0.406], std=[0.229, 0.224, 0.225])\n",
    "transform = transforms.Compose([\n",
    "    transforms.Resize((img_size, img_size)),\n",
    "    transforms.ToTensor(),\n",
    "    normalize,\n",
    "])\n",
    "# Function to create a subset of the dataset\n",
    "def create_subset(dataset, num_examples):\n",
    "    # Ensure num_examples doesn't exceed the dataset length\n",
    "    num_examples = min(len(dataset), num_examples)\n",
    "    indices = np.random.choice(len(dataset), num_examples, replace=False)\n",
    "    subset = torch.utils.data.Subset(dataset, indices)\n",
    "    return subset\n",
    "\n",
    "# Initialize dataset and dataloader for testing\n",
    "test_dataset = ECGImageDataset(test_information, transform=transform)\n",
    "\n",
    "if num_test_examples is not None:\n",
    "    test_subset = create_subset(test_dataset, num_test_examples)\n",
    "else:\n",
    "    test_subset = test_dataset\n",
    "\n",
    "# Create data loader for the subset\n",
    "test_loader = torch.utils.data.DataLoader(test_subset, batch_size=test_batch_size, shuffle=True, num_workers=4, pin_memory=False)"
   ]
  },
  {
   "cell_type": "markdown",
   "id": "abb67988-a06a-4df4-9c31-d3f1615a832f",
   "metadata": {},
   "source": [
    "## Load the saved model"
   ]
  },
  {
   "cell_type": "code",
   "execution_count": 56,
   "id": "0a2fd184-fe37-4ed1-9770-6d1f5ea8f6fe",
   "metadata": {},
   "outputs": [],
   "source": [
    "# construct the model\n",
    "base_architecture = 'vgg19'\n",
    "img_size = 224\n",
    "num_classes = 11\n",
    "num_prototypes_for_each_class = 32 \n",
    "num_prototypes = num_classes * num_prototypes_for_each_class\n",
    "prototype_shape = (num_prototypes, 128, 1, 1)\n",
    "prototype_activation_function = 'log'\n",
    "add_on_layers_type = 'regular'\n",
    "\n",
    "ppnet = model.construct_PPNet(base_architecture=base_architecture,\n",
    "                              pretrained=True, img_size=img_size,\n",
    "                              prototype_shape=prototype_shape,\n",
    "                              num_classes=num_classes,\n",
    "                              prototype_activation_function=prototype_activation_function,\n",
    "                              add_on_layers_type=add_on_layers_type)\n",
    "ppnet = ppnet.to('cuda')"
   ]
  },
  {
   "cell_type": "code",
   "execution_count": 55,
   "id": "71e246e6-7243-4fa2-bb8c-d32c945c6086",
   "metadata": {},
   "outputs": [
    {
     "name": "stderr",
     "output_type": "stream",
     "text": [
      "/tmp/ipykernel_822178/322098558.py:2: FutureWarning: You are using `torch.load` with `weights_only=False` (the current default value), which uses the default pickle module implicitly. It is possible to construct malicious pickle data which will execute arbitrary code during unpickling (See https://github.com/pytorch/pytorch/blob/main/SECURITY.md#untrusted-models for more details). In a future release, the default value for `weights_only` will be flipped to `True`. This limits the functions that could be executed during unpickling. Arbitrary objects will no longer be allowed to be loaded via this mode unless they are explicitly allowlisted by the user via `torch.serialization.add_safe_globals`. We recommend you start setting `weights_only=True` for any use case where you don't have full control of the loaded file. Please open an issue on GitHub for any issues related to this experimental feature.\n",
      "  ppnet.load_state_dict(torch.load(saved_model_path))\n"
     ]
    },
    {
     "data": {
      "text/plain": [
       "PPNet(\n",
       "\tfeatures: VGG19, batch_norm=False,\n",
       "\timg_size: 224,\n",
       "\tprototype_shape: (352, 128, 1, 1),\n",
       "\tproto_layer_rf_info: [7, 32, 268, 16.0],\n",
       "\tnum_classes: 11,\n",
       "\tepsilon: 0.0001\n",
       ")"
      ]
     },
     "execution_count": 55,
     "metadata": {},
     "output_type": "execute_result"
    }
   ],
   "source": [
    "# Load the model\n",
    "ppnet.load_state_dict(torch.load(saved_model_path))\n",
    "ppnet.eval()"
   ]
  },
  {
   "cell_type": "code",
   "execution_count": 36,
   "id": "a3c881f2-6cf3-4046-93dc-ccb51b3ab24b",
   "metadata": {},
   "outputs": [],
   "source": [
    "# torch.save(ppnet, 'vgg19-proto-auroc@0.8465.pth')"
   ]
  },
  {
   "cell_type": "code",
   "execution_count": 38,
   "id": "447b6dfc-23ed-40ab-89d8-c707d2a15422",
   "metadata": {},
   "outputs": [],
   "source": [
    "# ppnet = torch.load('vgg19-proto-auroc@0.8465.pth')\n",
    "# ppnet.eval()"
   ]
  },
  {
   "cell_type": "markdown",
   "id": "1d7a0d3a-1727-4c5c-97bf-5bd31f555977",
   "metadata": {},
   "source": [
    "## Test the best model on test set again"
   ]
  },
  {
   "cell_type": "code",
   "execution_count": 32,
   "id": "4358c02a-ae5e-4314-8256-3f03220951f3",
   "metadata": {},
   "outputs": [
    {
     "name": "stderr",
     "output_type": "stream",
     "text": [
      "                                                                                                                                                                                     \r"
     ]
    },
    {
     "name": "stdout",
     "output_type": "stream",
     "text": [
      "Overall AUROC: 0.8452\n",
      "AUROC for NORM: 0.9426\n",
      "AUROC for Acute MI: 0.6974\n",
      "AUROC for Old MI: 0.9044\n",
      "AUROC for STTC: 0.9119\n",
      "AUROC for CD: 0.8932\n",
      "AUROC for HYP: 0.8973\n",
      "AUROC for PAC: 0.4952\n",
      "AUROC for PVC: 0.8288\n",
      "AUROC for AFIB/AFL: 0.9212\n",
      "AUROC for TACHY: 0.9328\n",
      "AUROC for BRADY: 0.8725\n"
     ]
    }
   ],
   "source": [
    "# List of heart conditions corresponding to the labels\n",
    "heart_conditions = ['NORM', 'Acute MI', 'Old MI', 'STTC', 'CD', 'HYP', \n",
    "                    'PAC', 'PVC', 'AFIB/AFL', 'TACHY', 'BRADY']\n",
    "\n",
    "# Define a function to test the model and calculate AUROC scores\n",
    "def test_model(test_loader, model):\n",
    "    all_labels = []\n",
    "    all_preds = []\n",
    "    \n",
    "    with torch.no_grad():\n",
    "        for images, labels in tqdm(test_loader, desc=\"Testing\", leave=False):\n",
    "            images = images.to(device)\n",
    "            labels = labels.to(device)\n",
    "            \n",
    "            # Get model predictions\n",
    "            outputs = model(images)[0]\n",
    "            \n",
    "            # Store predictions and labels\n",
    "            all_preds.append(outputs.cpu())\n",
    "            all_labels.append(labels.cpu())\n",
    "    \n",
    "    all_preds = torch.cat(all_preds)\n",
    "    all_labels = torch.cat(all_labels)\n",
    "    \n",
    "    # Calculate overall AUROC\n",
    "    overall_auroc = roc_auc_score(all_labels, all_preds, average='macro', multi_class='ovr')\n",
    "    print(f\"Overall AUROC: {overall_auroc:.4f}\")\n",
    "    \n",
    "    # Calculate AUROC for each individual class\n",
    "    for i, condition in enumerate(heart_conditions):\n",
    "        class_auroc = roc_auc_score(all_labels[:, i], all_preds[:, i])\n",
    "        print(f\"AUROC for {condition}: {class_auroc:.4f}\")\n",
    "\n",
    "# Test the model\n",
    "test_model(test_loader, ppnet)"
   ]
  }
 ],
 "metadata": {
  "kernelspec": {
   "display_name": "Python (ecg_diagnosis_models)",
   "language": "python",
   "name": "ecg_diagnosis_models"
  },
  "language_info": {
   "codemirror_mode": {
    "name": "ipython",
    "version": 3
   },
   "file_extension": ".py",
   "mimetype": "text/x-python",
   "name": "python",
   "nbconvert_exporter": "python",
   "pygments_lexer": "ipython3",
   "version": "3.9.19"
  }
 },
 "nbformat": 4,
 "nbformat_minor": 5
}
