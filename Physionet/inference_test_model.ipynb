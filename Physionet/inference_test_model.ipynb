{
 "cells": [
  {
   "cell_type": "markdown",
   "id": "45b51b77-f4d3-4f96-86c3-17502fd0bcdf",
   "metadata": {},
   "source": [
    "## Imports"
   ]
  },
  {
   "cell_type": "code",
   "execution_count": 1,
   "id": "fcfc5640-ef56-404c-a97c-e2d64c9a5a01",
   "metadata": {},
   "outputs": [],
   "source": [
    "import torch\n",
    "import torch.nn as nn\n",
    "from tqdm import tqdm\n",
    "from sklearn.metrics import roc_auc_score\n",
    "import numpy as np\n",
    "from torchvision import transforms\n",
    "\n",
    "from dataset_class import ECGImageDataset\n",
    "\n",
    "# Set device\n",
    "device = torch.device('cuda:3' if torch.cuda.is_available() else 'cpu')"
   ]
  },
  {
   "cell_type": "markdown",
   "id": "294b1357-ae82-444f-9060-a6a084024af1",
   "metadata": {},
   "source": [
    "## Add path"
   ]
  },
  {
   "cell_type": "code",
   "execution_count": 2,
   "id": "a55b1c94-20da-4b95-96df-d63efc731631",
   "metadata": {},
   "outputs": [],
   "source": [
    "saved_model_path = 'vgg19-proto-auroc@0.8465.pth'\n",
    "test_json_path = 'test-100.json'"
   ]
  },
  {
   "cell_type": "markdown",
   "id": "95556367-5887-4e59-9c08-a1b3dbbc5d3c",
   "metadata": {},
   "source": [
    "## Load the saved model"
   ]
  },
  {
   "cell_type": "code",
   "execution_count": 3,
   "id": "8d5b4680-9ef2-4a44-8027-a8b28ebbd06e",
   "metadata": {},
   "outputs": [
    {
     "name": "stderr",
     "output_type": "stream",
     "text": [
      "/tmp/ipykernel_2105678/4212275841.py:1: FutureWarning: You are using `torch.load` with `weights_only=False` (the current default value), which uses the default pickle module implicitly. It is possible to construct malicious pickle data which will execute arbitrary code during unpickling (See https://github.com/pytorch/pytorch/blob/main/SECURITY.md#untrusted-models for more details). In a future release, the default value for `weights_only` will be flipped to `True`. This limits the functions that could be executed during unpickling. Arbitrary objects will no longer be allowed to be loaded via this mode unless they are explicitly allowlisted by the user via `torch.serialization.add_safe_globals`. We recommend you start setting `weights_only=True` for any use case where you don't have full control of the loaded file. Please open an issue on GitHub for any issues related to this experimental feature.\n",
      "  ppnet = torch.load('vgg19-proto-auroc@0.8465.pth')\n"
     ]
    },
    {
     "data": {
      "text/plain": [
       "PPNet(\n",
       "\tfeatures: VGG19, batch_norm=False,\n",
       "\timg_size: 224,\n",
       "\tprototype_shape: (352, 128, 1, 1),\n",
       "\tproto_layer_rf_info: [7, 32, 268, 16.0],\n",
       "\tnum_classes: 11,\n",
       "\tepsilon: 0.0001\n",
       ")"
      ]
     },
     "execution_count": 3,
     "metadata": {},
     "output_type": "execute_result"
    }
   ],
   "source": [
    "ppnet = torch.load('vgg19-proto-auroc@0.8465.pth')\n",
    "ppnet = ppnet.to(device)\n",
    "ppnet.eval()"
   ]
  },
  {
   "cell_type": "markdown",
   "id": "1a7dc5bc-edf1-47c3-835e-4bc193cbd34c",
   "metadata": {},
   "source": [
    "## Test loader"
   ]
  },
  {
   "cell_type": "code",
   "execution_count": 21,
   "id": "3f70afa5-1fb5-4ebf-a614-c81530106a77",
   "metadata": {},
   "outputs": [],
   "source": [
    "# book keeping namings and code\n",
    "from settings import test_information, \\\n",
    "                     num_test_examples, \\\n",
    "                     img_size, test_batch_size\n",
    "\n",
    "# Define transformations\n",
    "normalize = transforms.Normalize(mean=[0.485, 0.456, 0.406], std=[0.229, 0.224, 0.225])\n",
    "transform = transforms.Compose([\n",
    "    transforms.Resize((img_size, img_size)),\n",
    "    transforms.ToTensor(),\n",
    "    normalize,\n",
    "])\n",
    "# Function to create a subset of the dataset\n",
    "def create_subset(dataset, num_examples):\n",
    "    # Ensure num_examples doesn't exceed the dataset length\n",
    "    num_examples = min(len(dataset), num_examples)\n",
    "    indices = np.random.choice(len(dataset), num_examples, replace=False)\n",
    "    subset = torch.utils.data.Subset(dataset, indices)\n",
    "    return subset\n",
    "\n",
    "# Initialize dataset and dataloader for testing\n",
    "test_dataset = ECGImageDataset(test_information, transform=transform)\n",
    "\n",
    "if num_test_examples is not None:\n",
    "    test_subset = create_subset(test_dataset, num_test_examples)\n",
    "else:\n",
    "    test_subset = test_dataset\n",
    "\n",
    "# Create data loader for the subset\n",
    "test_loader = torch.utils.data.DataLoader(test_subset, batch_size=test_batch_size, shuffle=True, num_workers=4, pin_memory=False)"
   ]
  },
  {
   "cell_type": "markdown",
   "id": "bbbd4e1d-11dd-4dc6-82e1-6547f73837ab",
   "metadata": {},
   "source": [
    "## Testing the model (overall auroc + auroc on individual labels)"
   ]
  },
  {
   "cell_type": "code",
   "execution_count": 22,
   "id": "61d4a967-f85e-472b-9619-7b46875a05c5",
   "metadata": {},
   "outputs": [
    {
     "name": "stderr",
     "output_type": "stream",
     "text": [
      "                                                                                                                                                                                     \r"
     ]
    },
    {
     "name": "stdout",
     "output_type": "stream",
     "text": [
      "Overall AUROC: 0.8465\n",
      "AUROC for NORM: 0.9444\n",
      "AUROC for Acute MI: 0.7029\n",
      "AUROC for Old MI: 0.9045\n",
      "AUROC for STTC: 0.9119\n",
      "AUROC for CD: 0.8931\n",
      "AUROC for HYP: 0.8978\n",
      "AUROC for PAC: 0.4981\n",
      "AUROC for PVC: 0.8300\n",
      "AUROC for AFIB/AFL: 0.9210\n",
      "AUROC for TACHY: 0.9332\n",
      "AUROC for BRADY: 0.8742\n"
     ]
    }
   ],
   "source": [
    "# List of heart conditions corresponding to the labels\n",
    "heart_conditions = ['NORM', 'Acute MI', 'Old MI', 'STTC', 'CD', 'HYP', \n",
    "                    'PAC', 'PVC', 'AFIB/AFL', 'TACHY', 'BRADY']\n",
    "\n",
    "# Define a function to test the model and calculate AUROC scores\n",
    "def test_model(test_loader, model):\n",
    "    all_labels = []\n",
    "    all_preds = []\n",
    "    \n",
    "    with torch.no_grad():\n",
    "        for images, labels in tqdm(test_loader, desc=\"Testing\", leave=False):\n",
    "            images = images.to(device)\n",
    "            labels = labels.to(device)\n",
    "            \n",
    "            # Get model predictions\n",
    "            outputs = model(images)[0]\n",
    "            \n",
    "            # Store predictions and labels\n",
    "            all_preds.append(outputs.cpu())\n",
    "            all_labels.append(labels.cpu())\n",
    "    \n",
    "    all_preds = torch.cat(all_preds)\n",
    "    all_labels = torch.cat(all_labels)\n",
    "    \n",
    "    # Calculate overall AUROC\n",
    "    overall_auroc = roc_auc_score(all_labels, all_preds, average='macro', multi_class='ovr')\n",
    "    print(f\"Overall AUROC: {overall_auroc:.4f}\")\n",
    "    \n",
    "    # Calculate AUROC for each individual class\n",
    "    for i, condition in enumerate(heart_conditions):\n",
    "        class_auroc = roc_auc_score(all_labels[:, i], all_preds[:, i])\n",
    "        print(f\"AUROC for {condition}: {class_auroc:.4f}\")\n",
    "\n",
    "# Test the model\n",
    "test_model(test_loader, ppnet)"
   ]
  }
 ],
 "metadata": {
  "kernelspec": {
   "display_name": "Python (ecg_diagnosis_models)",
   "language": "python",
   "name": "ecg_diagnosis_models"
  },
  "language_info": {
   "codemirror_mode": {
    "name": "ipython",
    "version": 3
   },
   "file_extension": ".py",
   "mimetype": "text/x-python",
   "name": "python",
   "nbconvert_exporter": "python",
   "pygments_lexer": "ipython3",
   "version": "3.9.19"
  }
 },
 "nbformat": 4,
 "nbformat_minor": 5
}
