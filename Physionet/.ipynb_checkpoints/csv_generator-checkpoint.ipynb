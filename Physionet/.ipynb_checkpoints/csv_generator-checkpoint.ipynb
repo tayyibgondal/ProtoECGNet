{
 "cells": [
  {
   "cell_type": "markdown",
   "id": "b2ffb292-6a58-46d2-9c9c-7ed0c578f4a3",
   "metadata": {},
   "source": [
    "## Creating train and test information files"
   ]
  },
  {
   "cell_type": "code",
   "execution_count": 1,
   "id": "b60eed3e-d618-4a46-8070-dac69a77ab6e",
   "metadata": {},
   "outputs": [],
   "source": [
    "import pandas as pd\n",
    "import numpy as np\n",
    "import torch \n",
    "import torch.nn as nn"
   ]
  },
  {
   "cell_type": "code",
   "execution_count": 50,
   "id": "e63ff358-cf16-41e6-af0a-136f96437e06",
   "metadata": {},
   "outputs": [],
   "source": [
    "df_path = \"../../../../data/padmalab_external/special_project/physionet.org/files/ptb-xl/1.0.3/ptbxl_label_10_dx.csv\""
   ]
  },
  {
   "cell_type": "code",
   "execution_count": 51,
   "id": "c5d363d7-fa9e-4717-aa52-4e62d65682e9",
   "metadata": {},
   "outputs": [
    {
     "data": {
      "text/html": [
       "<div>\n",
       "<style scoped>\n",
       "    .dataframe tbody tr th:only-of-type {\n",
       "        vertical-align: middle;\n",
       "    }\n",
       "\n",
       "    .dataframe tbody tr th {\n",
       "        vertical-align: top;\n",
       "    }\n",
       "\n",
       "    .dataframe thead th {\n",
       "        text-align: right;\n",
       "    }\n",
       "</style>\n",
       "<table border=\"1\" class=\"dataframe\">\n",
       "  <thead>\n",
       "    <tr style=\"text-align: right;\">\n",
       "      <th></th>\n",
       "      <th>Unnamed: 0</th>\n",
       "      <th>filename_lr</th>\n",
       "      <th>filename_hr</th>\n",
       "      <th>NORM</th>\n",
       "      <th>Acute MI</th>\n",
       "      <th>Old MI</th>\n",
       "      <th>STTC</th>\n",
       "      <th>CD</th>\n",
       "      <th>HYP</th>\n",
       "      <th>PAC</th>\n",
       "      <th>PVC</th>\n",
       "      <th>AFIB/AFL</th>\n",
       "      <th>TACHY</th>\n",
       "      <th>BRADY</th>\n",
       "    </tr>\n",
       "  </thead>\n",
       "  <tbody>\n",
       "    <tr>\n",
       "      <th>0</th>\n",
       "      <td>0</td>\n",
       "      <td>records100/00000/00001_lr</td>\n",
       "      <td>records500/00000/00001_hr</td>\n",
       "      <td>1</td>\n",
       "      <td>0</td>\n",
       "      <td>0</td>\n",
       "      <td>0</td>\n",
       "      <td>0</td>\n",
       "      <td>0</td>\n",
       "      <td>0</td>\n",
       "      <td>0</td>\n",
       "      <td>0</td>\n",
       "      <td>0</td>\n",
       "      <td>0</td>\n",
       "    </tr>\n",
       "    <tr>\n",
       "      <th>1</th>\n",
       "      <td>1</td>\n",
       "      <td>records100/00000/00002_lr</td>\n",
       "      <td>records500/00000/00002_hr</td>\n",
       "      <td>1</td>\n",
       "      <td>0</td>\n",
       "      <td>0</td>\n",
       "      <td>0</td>\n",
       "      <td>0</td>\n",
       "      <td>0</td>\n",
       "      <td>0</td>\n",
       "      <td>0</td>\n",
       "      <td>0</td>\n",
       "      <td>0</td>\n",
       "      <td>1</td>\n",
       "    </tr>\n",
       "    <tr>\n",
       "      <th>2</th>\n",
       "      <td>2</td>\n",
       "      <td>records100/00000/00003_lr</td>\n",
       "      <td>records500/00000/00003_hr</td>\n",
       "      <td>1</td>\n",
       "      <td>0</td>\n",
       "      <td>0</td>\n",
       "      <td>0</td>\n",
       "      <td>0</td>\n",
       "      <td>0</td>\n",
       "      <td>0</td>\n",
       "      <td>0</td>\n",
       "      <td>0</td>\n",
       "      <td>0</td>\n",
       "      <td>0</td>\n",
       "    </tr>\n",
       "    <tr>\n",
       "      <th>3</th>\n",
       "      <td>3</td>\n",
       "      <td>records100/00000/00004_lr</td>\n",
       "      <td>records500/00000/00004_hr</td>\n",
       "      <td>1</td>\n",
       "      <td>0</td>\n",
       "      <td>0</td>\n",
       "      <td>0</td>\n",
       "      <td>0</td>\n",
       "      <td>0</td>\n",
       "      <td>0</td>\n",
       "      <td>0</td>\n",
       "      <td>0</td>\n",
       "      <td>0</td>\n",
       "      <td>0</td>\n",
       "    </tr>\n",
       "    <tr>\n",
       "      <th>4</th>\n",
       "      <td>4</td>\n",
       "      <td>records100/00000/00005_lr</td>\n",
       "      <td>records500/00000/00005_hr</td>\n",
       "      <td>1</td>\n",
       "      <td>0</td>\n",
       "      <td>0</td>\n",
       "      <td>0</td>\n",
       "      <td>0</td>\n",
       "      <td>0</td>\n",
       "      <td>0</td>\n",
       "      <td>0</td>\n",
       "      <td>0</td>\n",
       "      <td>0</td>\n",
       "      <td>0</td>\n",
       "    </tr>\n",
       "    <tr>\n",
       "      <th>...</th>\n",
       "      <td>...</td>\n",
       "      <td>...</td>\n",
       "      <td>...</td>\n",
       "      <td>...</td>\n",
       "      <td>...</td>\n",
       "      <td>...</td>\n",
       "      <td>...</td>\n",
       "      <td>...</td>\n",
       "      <td>...</td>\n",
       "      <td>...</td>\n",
       "      <td>...</td>\n",
       "      <td>...</td>\n",
       "      <td>...</td>\n",
       "      <td>...</td>\n",
       "    </tr>\n",
       "    <tr>\n",
       "      <th>21784</th>\n",
       "      <td>21784</td>\n",
       "      <td>records100/21000/21823_lr</td>\n",
       "      <td>records500/21000/21823_hr</td>\n",
       "      <td>1</td>\n",
       "      <td>0</td>\n",
       "      <td>0</td>\n",
       "      <td>0</td>\n",
       "      <td>0</td>\n",
       "      <td>0</td>\n",
       "      <td>0</td>\n",
       "      <td>0</td>\n",
       "      <td>0</td>\n",
       "      <td>0</td>\n",
       "      <td>0</td>\n",
       "    </tr>\n",
       "    <tr>\n",
       "      <th>21785</th>\n",
       "      <td>21785</td>\n",
       "      <td>records100/21000/21824_lr</td>\n",
       "      <td>records500/21000/21824_hr</td>\n",
       "      <td>0</td>\n",
       "      <td>0</td>\n",
       "      <td>1</td>\n",
       "      <td>0</td>\n",
       "      <td>0</td>\n",
       "      <td>0</td>\n",
       "      <td>0</td>\n",
       "      <td>0</td>\n",
       "      <td>0</td>\n",
       "      <td>0</td>\n",
       "      <td>0</td>\n",
       "    </tr>\n",
       "    <tr>\n",
       "      <th>21786</th>\n",
       "      <td>21786</td>\n",
       "      <td>records100/21000/21825_lr</td>\n",
       "      <td>records500/21000/21825_hr</td>\n",
       "      <td>1</td>\n",
       "      <td>0</td>\n",
       "      <td>0</td>\n",
       "      <td>0</td>\n",
       "      <td>0</td>\n",
       "      <td>0</td>\n",
       "      <td>0</td>\n",
       "      <td>0</td>\n",
       "      <td>0</td>\n",
       "      <td>0</td>\n",
       "      <td>0</td>\n",
       "    </tr>\n",
       "    <tr>\n",
       "      <th>21787</th>\n",
       "      <td>21787</td>\n",
       "      <td>records100/21000/21826_lr</td>\n",
       "      <td>records500/21000/21826_hr</td>\n",
       "      <td>0</td>\n",
       "      <td>0</td>\n",
       "      <td>1</td>\n",
       "      <td>0</td>\n",
       "      <td>0</td>\n",
       "      <td>0</td>\n",
       "      <td>0</td>\n",
       "      <td>0</td>\n",
       "      <td>0</td>\n",
       "      <td>0</td>\n",
       "      <td>0</td>\n",
       "    </tr>\n",
       "    <tr>\n",
       "      <th>21788</th>\n",
       "      <td>21788</td>\n",
       "      <td>records100/21000/21827_lr</td>\n",
       "      <td>records500/21000/21827_hr</td>\n",
       "      <td>0</td>\n",
       "      <td>0</td>\n",
       "      <td>1</td>\n",
       "      <td>1</td>\n",
       "      <td>0</td>\n",
       "      <td>0</td>\n",
       "      <td>0</td>\n",
       "      <td>0</td>\n",
       "      <td>0</td>\n",
       "      <td>0</td>\n",
       "      <td>0</td>\n",
       "    </tr>\n",
       "  </tbody>\n",
       "</table>\n",
       "<p>21789 rows × 14 columns</p>\n",
       "</div>"
      ],
      "text/plain": [
       "       Unnamed: 0                filename_lr                filename_hr  NORM  \\\n",
       "0               0  records100/00000/00001_lr  records500/00000/00001_hr     1   \n",
       "1               1  records100/00000/00002_lr  records500/00000/00002_hr     1   \n",
       "2               2  records100/00000/00003_lr  records500/00000/00003_hr     1   \n",
       "3               3  records100/00000/00004_lr  records500/00000/00004_hr     1   \n",
       "4               4  records100/00000/00005_lr  records500/00000/00005_hr     1   \n",
       "...           ...                        ...                        ...   ...   \n",
       "21784       21784  records100/21000/21823_lr  records500/21000/21823_hr     1   \n",
       "21785       21785  records100/21000/21824_lr  records500/21000/21824_hr     0   \n",
       "21786       21786  records100/21000/21825_lr  records500/21000/21825_hr     1   \n",
       "21787       21787  records100/21000/21826_lr  records500/21000/21826_hr     0   \n",
       "21788       21788  records100/21000/21827_lr  records500/21000/21827_hr     0   \n",
       "\n",
       "       Acute MI  Old MI  STTC  CD  HYP  PAC  PVC  AFIB/AFL  TACHY  BRADY  \n",
       "0             0       0     0   0    0    0    0         0      0      0  \n",
       "1             0       0     0   0    0    0    0         0      0      1  \n",
       "2             0       0     0   0    0    0    0         0      0      0  \n",
       "3             0       0     0   0    0    0    0         0      0      0  \n",
       "4             0       0     0   0    0    0    0         0      0      0  \n",
       "...         ...     ...   ...  ..  ...  ...  ...       ...    ...    ...  \n",
       "21784         0       0     0   0    0    0    0         0      0      0  \n",
       "21785         0       1     0   0    0    0    0         0      0      0  \n",
       "21786         0       0     0   0    0    0    0         0      0      0  \n",
       "21787         0       1     0   0    0    0    0         0      0      0  \n",
       "21788         0       1     1   0    0    0    0         0      0      0  \n",
       "\n",
       "[21789 rows x 14 columns]"
      ]
     },
     "execution_count": 51,
     "metadata": {},
     "output_type": "execute_result"
    }
   ],
   "source": [
    "df = pd.read_csv(df_path)\n",
    "df.head(-10)"
   ]
  },
  {
   "cell_type": "code",
   "execution_count": 52,
   "id": "bfa1bfa0-242d-42ee-bac2-2b9a9b4ea5e1",
   "metadata": {},
   "outputs": [],
   "source": [
    "prefix = '../../../../../home/saifulislam/work/physionet/physionet2024/python-example-2024-main/physionet.org/files/ptb-xl/1.0.3/records100/gen_full_clean_h/'\n",
    "df['path'] = df['filename_lr'].apply(lambda x: prefix + x.split('/')[-1] + '-0.png')"
   ]
  },
  {
   "cell_type": "code",
   "execution_count": 53,
   "id": "41e45c12-f651-413e-b7bc-a220cdf386e3",
   "metadata": {},
   "outputs": [
    {
     "data": {
      "text/plain": [
       "'../../../../../home/saifulislam/work/physionet/physionet2024/python-example-2024-main/physionet.org/files/ptb-xl/1.0.3/records100/gen_full_clean_h/00001_lr-0.png'"
      ]
     },
     "execution_count": 53,
     "metadata": {},
     "output_type": "execute_result"
    }
   ],
   "source": [
    "df['path'][0]"
   ]
  },
  {
   "cell_type": "code",
   "execution_count": 54,
   "id": "2e232547-71d2-4f2c-95ea-fafa91344583",
   "metadata": {},
   "outputs": [
    {
     "name": "stdout",
     "output_type": "stream",
     "text": [
      "                               label\n",
      "0  [1, 0, 0, 0, 0, 0, 0, 0, 0, 0, 0]\n",
      "1  [1, 0, 0, 0, 0, 0, 0, 0, 0, 0, 1]\n",
      "2  [1, 0, 0, 0, 0, 0, 0, 0, 0, 0, 0]\n",
      "3  [1, 0, 0, 0, 0, 0, 0, 0, 0, 0, 0]\n",
      "4  [1, 0, 0, 0, 0, 0, 0, 0, 0, 0, 0]\n"
     ]
    }
   ],
   "source": [
    "one_hot_columns = ['NORM', 'Acute MI', 'Old MI', 'STTC', 'CD', 'HYP', 'PAC', 'PVC', 'AFIB/AFL', 'TACHY', 'BRADY']\n",
    "\n",
    "# Combine the columns into a list and store it in a new column called 'label'\n",
    "df['label'] = df[one_hot_columns].values.tolist()\n",
    "\n",
    "# Display the updated DataFrame\n",
    "print(df[['label']].head())\n"
   ]
  },
  {
   "cell_type": "code",
   "execution_count": 55,
   "id": "f71ea19f-9080-4d87-934f-c05f227bbe9d",
   "metadata": {},
   "outputs": [
    {
     "data": {
      "text/html": [
       "<div>\n",
       "<style scoped>\n",
       "    .dataframe tbody tr th:only-of-type {\n",
       "        vertical-align: middle;\n",
       "    }\n",
       "\n",
       "    .dataframe tbody tr th {\n",
       "        vertical-align: top;\n",
       "    }\n",
       "\n",
       "    .dataframe thead th {\n",
       "        text-align: right;\n",
       "    }\n",
       "</style>\n",
       "<table border=\"1\" class=\"dataframe\">\n",
       "  <thead>\n",
       "    <tr style=\"text-align: right;\">\n",
       "      <th></th>\n",
       "      <th>path</th>\n",
       "      <th>label</th>\n",
       "    </tr>\n",
       "  </thead>\n",
       "  <tbody>\n",
       "    <tr>\n",
       "      <th>0</th>\n",
       "      <td>../../../../../home/saifulislam/work/physionet...</td>\n",
       "      <td>[1, 0, 0, 0, 0, 0, 0, 0, 0, 0, 0]</td>\n",
       "    </tr>\n",
       "    <tr>\n",
       "      <th>1</th>\n",
       "      <td>../../../../../home/saifulislam/work/physionet...</td>\n",
       "      <td>[1, 0, 0, 0, 0, 0, 0, 0, 0, 0, 1]</td>\n",
       "    </tr>\n",
       "    <tr>\n",
       "      <th>2</th>\n",
       "      <td>../../../../../home/saifulislam/work/physionet...</td>\n",
       "      <td>[1, 0, 0, 0, 0, 0, 0, 0, 0, 0, 0]</td>\n",
       "    </tr>\n",
       "    <tr>\n",
       "      <th>3</th>\n",
       "      <td>../../../../../home/saifulislam/work/physionet...</td>\n",
       "      <td>[1, 0, 0, 0, 0, 0, 0, 0, 0, 0, 0]</td>\n",
       "    </tr>\n",
       "    <tr>\n",
       "      <th>4</th>\n",
       "      <td>../../../../../home/saifulislam/work/physionet...</td>\n",
       "      <td>[1, 0, 0, 0, 0, 0, 0, 0, 0, 0, 0]</td>\n",
       "    </tr>\n",
       "  </tbody>\n",
       "</table>\n",
       "</div>"
      ],
      "text/plain": [
       "                                                path  \\\n",
       "0  ../../../../../home/saifulislam/work/physionet...   \n",
       "1  ../../../../../home/saifulislam/work/physionet...   \n",
       "2  ../../../../../home/saifulislam/work/physionet...   \n",
       "3  ../../../../../home/saifulislam/work/physionet...   \n",
       "4  ../../../../../home/saifulislam/work/physionet...   \n",
       "\n",
       "                               label  \n",
       "0  [1, 0, 0, 0, 0, 0, 0, 0, 0, 0, 0]  \n",
       "1  [1, 0, 0, 0, 0, 0, 0, 0, 0, 0, 1]  \n",
       "2  [1, 0, 0, 0, 0, 0, 0, 0, 0, 0, 0]  \n",
       "3  [1, 0, 0, 0, 0, 0, 0, 0, 0, 0, 0]  \n",
       "4  [1, 0, 0, 0, 0, 0, 0, 0, 0, 0, 0]  "
      ]
     },
     "execution_count": 55,
     "metadata": {},
     "output_type": "execute_result"
    }
   ],
   "source": [
    "df = df[['path', 'label']]\n",
    "# Reset the index\n",
    "df = df.reset_index(drop=True)\n",
    "df.head()"
   ]
  },
  {
   "cell_type": "code",
   "execution_count": 56,
   "id": "104db877-d40b-4ba5-b3c0-4f134b3fba08",
   "metadata": {},
   "outputs": [
    {
     "data": {
      "text/plain": [
       "21799"
      ]
     },
     "execution_count": 56,
     "metadata": {},
     "output_type": "execute_result"
    }
   ],
   "source": [
    "len(df)"
   ]
  },
  {
   "cell_type": "code",
   "execution_count": 57,
   "id": "8e1d1ba4-2173-4399-8ce6-b6505413a7be",
   "metadata": {},
   "outputs": [
    {
     "name": "stdout",
     "output_type": "stream",
     "text": [
      "284\n",
      "Indices of rows where all elements in 'label' are zero: [137, 182, 374, 377, 485, 1386, 1448, 1583, 1628, 1661, 2077, 2192, 2205, 2473, 2572, 2577, 2649, 2813, 2870, 3657, 3708, 3778, 3780, 3781, 3873, 3970, 4034, 4161, 4472, 4668, 4826, 4902, 4955, 5048, 5101, 5115, 5116, 5425, 5513, 5520, 5524, 5527, 5581, 5638, 5699, 5736, 5767, 6012, 6365, 6470, 6540, 6575, 6808, 7099, 7183, 7424, 7489, 7496, 7609, 7756, 7759, 7804, 7842, 8036, 8239, 8295, 8343, 8455, 8506, 8519, 8610, 8724, 8728, 8940, 8943, 8946, 8965, 9008, 9022, 9105, 9134, 9158, 9304, 9527, 9533, 9658, 9799, 10529, 10578, 10679, 10709, 10841, 10849, 11053, 11209, 11344, 11441, 11452, 11460, 11528, 11599, 11613, 11663, 11673, 11750, 11833, 11847, 11879, 11882, 11883, 11950, 11968, 11995, 12051, 12123, 12154, 12260, 12432, 12484, 12493, 12500, 12549, 12655, 12837, 12921, 12992, 13099, 13145, 13152, 13161, 13164, 13410, 13423, 13475, 13507, 13516, 13556, 13597, 13732, 13766, 14336, 14481, 14572, 14683, 14769, 14802, 14817, 14919, 14926, 14957, 14989, 15005, 15008, 15009, 15180, 15197, 15203, 15204, 15235, 15286, 15299, 15310, 15407, 15420, 15439, 15449, 15545, 15548, 15561, 15635, 15803, 15819, 15829, 16012, 16018, 16038, 16207, 16274, 16338, 16393, 16407, 16450, 16465, 16480, 16544, 16567, 16648, 16708, 16836, 16841, 16957, 17027, 17028, 17055, 17060, 17246, 17346, 17353, 17468, 17563, 17970, 18179, 18208, 18286, 18391, 18400, 18404, 18426, 18437, 18449, 18560, 18567, 18575, 18675, 18864, 18870, 19007, 19054, 19057, 19079, 19310, 19319, 19379, 19432, 19474, 19570, 19677, 19700, 19702, 19730, 19732, 19823, 19888, 19974, 19997, 20004, 20012, 20033, 20056, 20142, 20148, 20171, 20270, 20324, 20428, 20466, 20473, 20474, 20565, 20646, 20654, 20655, 20694, 20729, 20738, 20742, 20768, 20778, 20847, 20888, 20913, 20964, 21032, 21121, 21129, 21130, 21131, 21132, 21133, 21154, 21271, 21369, 21380, 21439, 21459, 21478, 21480, 21483, 21533, 21539, 21555, 21563, 21650, 21778]\n"
     ]
    }
   ],
   "source": [
    "# Function to check if all elements in the label list are zeros\n",
    "def is_all_zeros(label_list):\n",
    "    return all(value == 0 for value in label_list)\n",
    "\n",
    "# Apply the function to each row and get the indices where the condition is True\n",
    "zero_label_indices = df.index[df['label'].apply(is_all_zeros)].tolist()\n",
    "\n",
    "print(len(zero_label_indices))\n",
    "print(\"Indices of rows where all elements in 'label' are zero:\", zero_label_indices)"
   ]
  },
  {
   "cell_type": "code",
   "execution_count": 58,
   "id": "d86ff960-a873-4472-b89d-1c3ecf71aa7e",
   "metadata": {},
   "outputs": [
    {
     "name": "stdout",
     "output_type": "stream",
     "text": [
      "21515\n"
     ]
    },
    {
     "data": {
      "text/html": [
       "<div>\n",
       "<style scoped>\n",
       "    .dataframe tbody tr th:only-of-type {\n",
       "        vertical-align: middle;\n",
       "    }\n",
       "\n",
       "    .dataframe tbody tr th {\n",
       "        vertical-align: top;\n",
       "    }\n",
       "\n",
       "    .dataframe thead th {\n",
       "        text-align: right;\n",
       "    }\n",
       "</style>\n",
       "<table border=\"1\" class=\"dataframe\">\n",
       "  <thead>\n",
       "    <tr style=\"text-align: right;\">\n",
       "      <th></th>\n",
       "      <th>path</th>\n",
       "      <th>label</th>\n",
       "    </tr>\n",
       "  </thead>\n",
       "  <tbody>\n",
       "    <tr>\n",
       "      <th>0</th>\n",
       "      <td>../../../../../home/saifulislam/work/physionet...</td>\n",
       "      <td>[1, 0, 0, 0, 0, 0, 0, 0, 0, 0, 0]</td>\n",
       "    </tr>\n",
       "    <tr>\n",
       "      <th>1</th>\n",
       "      <td>../../../../../home/saifulislam/work/physionet...</td>\n",
       "      <td>[1, 0, 0, 0, 0, 0, 0, 0, 0, 0, 1]</td>\n",
       "    </tr>\n",
       "    <tr>\n",
       "      <th>2</th>\n",
       "      <td>../../../../../home/saifulislam/work/physionet...</td>\n",
       "      <td>[1, 0, 0, 0, 0, 0, 0, 0, 0, 0, 0]</td>\n",
       "    </tr>\n",
       "    <tr>\n",
       "      <th>3</th>\n",
       "      <td>../../../../../home/saifulislam/work/physionet...</td>\n",
       "      <td>[1, 0, 0, 0, 0, 0, 0, 0, 0, 0, 0]</td>\n",
       "    </tr>\n",
       "    <tr>\n",
       "      <th>4</th>\n",
       "      <td>../../../../../home/saifulislam/work/physionet...</td>\n",
       "      <td>[1, 0, 0, 0, 0, 0, 0, 0, 0, 0, 0]</td>\n",
       "    </tr>\n",
       "  </tbody>\n",
       "</table>\n",
       "</div>"
      ],
      "text/plain": [
       "                                                path  \\\n",
       "0  ../../../../../home/saifulislam/work/physionet...   \n",
       "1  ../../../../../home/saifulislam/work/physionet...   \n",
       "2  ../../../../../home/saifulislam/work/physionet...   \n",
       "3  ../../../../../home/saifulislam/work/physionet...   \n",
       "4  ../../../../../home/saifulislam/work/physionet...   \n",
       "\n",
       "                               label  \n",
       "0  [1, 0, 0, 0, 0, 0, 0, 0, 0, 0, 0]  \n",
       "1  [1, 0, 0, 0, 0, 0, 0, 0, 0, 0, 1]  \n",
       "2  [1, 0, 0, 0, 0, 0, 0, 0, 0, 0, 0]  \n",
       "3  [1, 0, 0, 0, 0, 0, 0, 0, 0, 0, 0]  \n",
       "4  [1, 0, 0, 0, 0, 0, 0, 0, 0, 0, 0]  "
      ]
     },
     "execution_count": 58,
     "metadata": {},
     "output_type": "execute_result"
    }
   ],
   "source": [
    "df = df.drop(zero_label_indices)\n",
    "print(len(df))\n",
    "df.head()"
   ]
  },
  {
   "cell_type": "code",
   "execution_count": 60,
   "id": "86d1b5b0-1650-41a8-9a0e-41bddfc2c8d0",
   "metadata": {},
   "outputs": [
    {
     "name": "stdout",
     "output_type": "stream",
     "text": [
      "0\n",
      "Indices of rows where all elements in 'label' are zero: []\n"
     ]
    }
   ],
   "source": [
    "# Function to check if all elements in the label list are zeros\n",
    "def is_all_zeros(label_list):\n",
    "    return all(value == 0 for value in label_list)\n",
    "\n",
    "# Apply the function to each row and get the indices where the condition is True\n",
    "zero_label_indices = df.index[df['label'].apply(is_all_zeros)].tolist()\n",
    "\n",
    "print(len(zero_label_indices))\n",
    "print(\"Indices of rows where all elements in 'label' are zero:\", zero_label_indices)"
   ]
  },
  {
   "cell_type": "code",
   "execution_count": 61,
   "id": "087a6a92-db08-4a90-9cfe-68ed244d4d89",
   "metadata": {},
   "outputs": [
    {
     "name": "stdout",
     "output_type": "stream",
     "text": [
      "Training set size: 17212\n",
      "Test set size: 4303\n"
     ]
    }
   ],
   "source": [
    "from sklearn.model_selection import train_test_split\n",
    "\n",
    "# Assuming df is your DataFrame\n",
    "train_df, test_df = train_test_split(df, test_size=0.2, random_state=42)\n",
    "\n",
    "# Optionally, reset the index for both DataFrames\n",
    "train_df = train_df.reset_index(drop=True)\n",
    "test_df = test_df.reset_index(drop=True)\n",
    "\n",
    "# Display the number of rows in each set\n",
    "print(f\"Training set size: {len(train_df)}\")\n",
    "print(f\"Test set size: {len(test_df)}\")\n"
   ]
  },
  {
   "cell_type": "code",
   "execution_count": 62,
   "id": "4c8e66eb-ee92-425f-8e8b-40d480af89ed",
   "metadata": {},
   "outputs": [
    {
     "name": "stdout",
     "output_type": "stream",
     "text": [
      "Training set saved as 'train_records.json'\n",
      "Test set saved as 'test_records.json'\n"
     ]
    }
   ],
   "source": [
    "# Save the training set as JSON records\n",
    "train_df.to_json('train-100.json', orient='records')\n",
    "\n",
    "# Save the test set as JSON records\n",
    "test_df.to_json('test-100.json', orient='records')\n",
    "\n",
    "# Verify the files have been saved\n",
    "print(\"Training set saved as 'train_records.json'\")\n",
    "print(\"Test set saved as 'test_records.json'\")\n"
   ]
  },
  {
   "cell_type": "code",
   "execution_count": 63,
   "id": "7cdaf9d5-a3c2-4931-b1aa-eaa2f27d7bec",
   "metadata": {},
   "outputs": [
    {
     "data": {
      "text/html": [
       "<div>\n",
       "<style scoped>\n",
       "    .dataframe tbody tr th:only-of-type {\n",
       "        vertical-align: middle;\n",
       "    }\n",
       "\n",
       "    .dataframe tbody tr th {\n",
       "        vertical-align: top;\n",
       "    }\n",
       "\n",
       "    .dataframe thead th {\n",
       "        text-align: right;\n",
       "    }\n",
       "</style>\n",
       "<table border=\"1\" class=\"dataframe\">\n",
       "  <thead>\n",
       "    <tr style=\"text-align: right;\">\n",
       "      <th></th>\n",
       "      <th>path</th>\n",
       "      <th>label</th>\n",
       "    </tr>\n",
       "  </thead>\n",
       "  <tbody>\n",
       "    <tr>\n",
       "      <th>0</th>\n",
       "      <td>../../../../../home/saifulislam/work/physionet...</td>\n",
       "      <td>[1, 0, 0, 0, 0, 0, 0, 0, 0, 0, 0]</td>\n",
       "    </tr>\n",
       "    <tr>\n",
       "      <th>1</th>\n",
       "      <td>../../../../../home/saifulislam/work/physionet...</td>\n",
       "      <td>[0, 0, 0, 1, 1, 1, 0, 0, 0, 0, 0]</td>\n",
       "    </tr>\n",
       "    <tr>\n",
       "      <th>2</th>\n",
       "      <td>../../../../../home/saifulislam/work/physionet...</td>\n",
       "      <td>[0, 0, 0, 1, 0, 0, 0, 0, 0, 0, 0]</td>\n",
       "    </tr>\n",
       "    <tr>\n",
       "      <th>3</th>\n",
       "      <td>../../../../../home/saifulislam/work/physionet...</td>\n",
       "      <td>[0, 0, 0, 0, 1, 0, 0, 0, 1, 0, 0]</td>\n",
       "    </tr>\n",
       "    <tr>\n",
       "      <th>4</th>\n",
       "      <td>../../../../../home/saifulislam/work/physionet...</td>\n",
       "      <td>[0, 0, 1, 1, 0, 0, 0, 0, 0, 0, 0]</td>\n",
       "    </tr>\n",
       "  </tbody>\n",
       "</table>\n",
       "</div>"
      ],
      "text/plain": [
       "                                                path  \\\n",
       "0  ../../../../../home/saifulislam/work/physionet...   \n",
       "1  ../../../../../home/saifulislam/work/physionet...   \n",
       "2  ../../../../../home/saifulislam/work/physionet...   \n",
       "3  ../../../../../home/saifulislam/work/physionet...   \n",
       "4  ../../../../../home/saifulislam/work/physionet...   \n",
       "\n",
       "                               label  \n",
       "0  [1, 0, 0, 0, 0, 0, 0, 0, 0, 0, 0]  \n",
       "1  [0, 0, 0, 1, 1, 1, 0, 0, 0, 0, 0]  \n",
       "2  [0, 0, 0, 1, 0, 0, 0, 0, 0, 0, 0]  \n",
       "3  [0, 0, 0, 0, 1, 0, 0, 0, 1, 0, 0]  \n",
       "4  [0, 0, 1, 1, 0, 0, 0, 0, 0, 0, 0]  "
      ]
     },
     "execution_count": 63,
     "metadata": {},
     "output_type": "execute_result"
    }
   ],
   "source": [
    "test_df = pd.read_json('test-100.json')\n",
    "test_df.head()"
   ]
  },
  {
   "cell_type": "code",
   "execution_count": 64,
   "id": "b6190c64-72a9-4b12-bfa6-339463e8ffd4",
   "metadata": {},
   "outputs": [
    {
     "data": {
      "text/plain": [
       "list"
      ]
     },
     "execution_count": 64,
     "metadata": {},
     "output_type": "execute_result"
    }
   ],
   "source": [
    "type(test_df['label'][0])"
   ]
  },
  {
   "cell_type": "markdown",
   "id": "31842bb5-e4d2-444a-966d-2845f2ccd4bb",
   "metadata": {},
   "source": [
    "## Dataset class"
   ]
  },
  {
   "cell_type": "code",
   "execution_count": 65,
   "id": "d9209ad5-1e2a-4e67-8022-b62caaa5d217",
   "metadata": {},
   "outputs": [],
   "source": [
    "import json\n",
    "import pandas as pd\n",
    "from PIL import Image\n",
    "from torch.utils.data import Dataset\n",
    "\n",
    "class ECGDataset(Dataset):\n",
    "    def __init__(self, json_file, transform=None):\n",
    "        # Load records from JSON file\n",
    "        with open(json_file, 'r') as f:\n",
    "            records = json.load(f)\n",
    "        \n",
    "        # Convert to DataFrame and reset index\n",
    "        self.records = pd.DataFrame(records).reset_index(drop=True)\n",
    "        self.transform = transform\n",
    "\n",
    "    def __len__(self):\n",
    "        return len(self.records)\n",
    "\n",
    "    def __getitem__(self, idx):\n",
    "        # Ensure idx is an integer\n",
    "        if isinstance(idx, torch.Tensor):\n",
    "            idx = idx.item()\n",
    "        \n",
    "        # Get the record corresponding to the idx\n",
    "        record = self.records.iloc[idx]\n",
    "        \n",
    "        # Load the image\n",
    "        image_path = record['path']\n",
    "        image = Image.open(image_path).convert('RGB')\n",
    "        \n",
    "        # Apply transformations if provided\n",
    "        if self.transform:\n",
    "            image = self.transform(image)\n",
    "        \n",
    "        # Get the label\n",
    "        label = record['label']\n",
    "        \n",
    "        return image, torch.tensor(label, dtype=torch.float)\n"
   ]
  },
  {
   "cell_type": "code",
   "execution_count": 66,
   "id": "b844d5cf-9e24-4175-9ddd-95560a390a77",
   "metadata": {},
   "outputs": [
    {
     "name": "stdout",
     "output_type": "stream",
     "text": [
      "torch.Size([32, 3, 224, 224]) torch.Size([32, 11])\n",
      "torch.Size([32, 3, 224, 224]) torch.Size([32, 11])\n"
     ]
    }
   ],
   "source": [
    "from torch.utils.data import DataLoader\n",
    "import torchvision.transforms as transforms\n",
    "\n",
    "# Define a transform for the images\n",
    "transform = transforms.Compose([\n",
    "    transforms.Resize((224, 224)),  # Resize images to 224x224 pixels\n",
    "    transforms.ToTensor(),          # Convert images to tensors\n",
    "    transforms.Normalize(mean=[0.485, 0.456, 0.406], std=[0.229, 0.224, 0.225])\n",
    "])\n",
    "\n",
    "# Create the dataset\n",
    "train_dataset = ECGDataset(json_file='train-100.json', transform=transform)\n",
    "# Create the DataLoader\n",
    "train_loader = DataLoader(train_dataset, batch_size=32, shuffle=False, num_workers=4)\n",
    "\n",
    "# Create the dataset\n",
    "test_dataset = ECGDataset(json_file='test-100.json', transform=transform)\n",
    "# Create the DataLoader\n",
    "test_loader = DataLoader(test_dataset, batch_size=32, shuffle=False, num_workers=4)\n",
    "\n",
    "for img, lab in train_loader:\n",
    "    print(img.shape, lab.shape)\n",
    "    break\n",
    "\n",
    "for img, lab in test_loader:\n",
    "    print(img.shape, lab.shape)\n",
    "    break"
   ]
  },
  {
   "cell_type": "code",
   "execution_count": 43,
   "id": "0de22bfd-a4c2-44e0-bbcd-87978d6c2f8c",
   "metadata": {},
   "outputs": [],
   "source": [
    "for batch_idx, (img, lab) in enumerate(train_loader):    \n",
    "    # Check if any label in the batch is all zeros\n",
    "    all_zero_labels = (lab.sum(dim=1) == 0).nonzero(as_tuple=True)[0]\n",
    "    if len(all_zero_labels) > 0:\n",
    "        print(\"Examples with all-zero labels:\")\n",
    "        for idx in all_zero_labels:\n",
    "            dataset_index = batch_idx * train_loader.batch_size + idx.item()\n",
    "            print(f\"Dataset Index {dataset_index}: All-zero labels detected\")"
   ]
  },
  {
   "cell_type": "code",
   "execution_count": 69,
   "id": "c2fc5169-eef5-491f-ab42-44d30ccd1ff3",
   "metadata": {},
   "outputs": [],
   "source": [
    "for batch_idx, (img, lab) in enumerate(test_loader):\n",
    "    # Move tensors to CPU if they are on GPU\n",
    "    img = img.cpu()\n",
    "    lab = lab.cpu()\n",
    "    \n",
    "    # Check for rows where all elements are zero\n",
    "    for idx, row in enumerate(lab):\n",
    "        if row.sum() == 0:\n",
    "            print(f'Row index with all zeros: {idx}')\n"
   ]
  },
  {
   "cell_type": "markdown",
   "id": "45673e3c-6fe1-4245-971e-6a84515c07cd",
   "metadata": {},
   "source": [
    "## Create csv for weijie"
   ]
  },
  {
   "cell_type": "code",
   "execution_count": 4,
   "id": "f9a2145a-d952-4fd2-954a-065554b79603",
   "metadata": {},
   "outputs": [
    {
     "data": {
      "text/html": [
       "<div>\n",
       "<style scoped>\n",
       "    .dataframe tbody tr th:only-of-type {\n",
       "        vertical-align: middle;\n",
       "    }\n",
       "\n",
       "    .dataframe tbody tr th {\n",
       "        vertical-align: top;\n",
       "    }\n",
       "\n",
       "    .dataframe thead th {\n",
       "        text-align: right;\n",
       "    }\n",
       "</style>\n",
       "<table border=\"1\" class=\"dataframe\">\n",
       "  <thead>\n",
       "    <tr style=\"text-align: right;\">\n",
       "      <th></th>\n",
       "      <th>path</th>\n",
       "      <th>label</th>\n",
       "    </tr>\n",
       "  </thead>\n",
       "  <tbody>\n",
       "    <tr>\n",
       "      <th>0</th>\n",
       "      <td>../../../../../home/saifulislam/work/physionet...</td>\n",
       "      <td>[1, 0, 0, 0, 0, 0, 0, 0, 0, 0, 0]</td>\n",
       "    </tr>\n",
       "    <tr>\n",
       "      <th>1</th>\n",
       "      <td>../../../../../home/saifulislam/work/physionet...</td>\n",
       "      <td>[0, 0, 0, 1, 1, 1, 0, 0, 0, 0, 0]</td>\n",
       "    </tr>\n",
       "    <tr>\n",
       "      <th>2</th>\n",
       "      <td>../../../../../home/saifulislam/work/physionet...</td>\n",
       "      <td>[0, 0, 0, 1, 0, 0, 0, 0, 0, 0, 0]</td>\n",
       "    </tr>\n",
       "    <tr>\n",
       "      <th>3</th>\n",
       "      <td>../../../../../home/saifulislam/work/physionet...</td>\n",
       "      <td>[0, 0, 0, 0, 1, 0, 0, 0, 1, 0, 0]</td>\n",
       "    </tr>\n",
       "    <tr>\n",
       "      <th>4</th>\n",
       "      <td>../../../../../home/saifulislam/work/physionet...</td>\n",
       "      <td>[0, 0, 1, 1, 0, 0, 0, 0, 0, 0, 0]</td>\n",
       "    </tr>\n",
       "  </tbody>\n",
       "</table>\n",
       "</div>"
      ],
      "text/plain": [
       "                                                path  \\\n",
       "0  ../../../../../home/saifulislam/work/physionet...   \n",
       "1  ../../../../../home/saifulislam/work/physionet...   \n",
       "2  ../../../../../home/saifulislam/work/physionet...   \n",
       "3  ../../../../../home/saifulislam/work/physionet...   \n",
       "4  ../../../../../home/saifulislam/work/physionet...   \n",
       "\n",
       "                               label  \n",
       "0  [1, 0, 0, 0, 0, 0, 0, 0, 0, 0, 0]  \n",
       "1  [0, 0, 0, 1, 1, 1, 0, 0, 0, 0, 0]  \n",
       "2  [0, 0, 0, 1, 0, 0, 0, 0, 0, 0, 0]  \n",
       "3  [0, 0, 0, 0, 1, 0, 0, 0, 1, 0, 0]  \n",
       "4  [0, 0, 1, 1, 0, 0, 0, 0, 0, 0, 0]  "
      ]
     },
     "execution_count": 4,
     "metadata": {},
     "output_type": "execute_result"
    }
   ],
   "source": [
    "test_df = pd.read_json('test-100.json')\n",
    "test_df.head()"
   ]
  },
  {
   "cell_type": "code",
   "execution_count": 9,
   "id": "13a878cb-6968-4ff6-bae2-2c1399678354",
   "metadata": {},
   "outputs": [
    {
     "name": "stdout",
     "output_type": "stream",
     "text": [
      "                                                path  \\\n",
      "0  home/saifulislam/work/physionet/physionet2024/...   \n",
      "1  home/saifulislam/work/physionet/physionet2024/...   \n",
      "2  home/saifulislam/work/physionet/physionet2024/...   \n",
      "3  home/saifulislam/work/physionet/physionet2024/...   \n",
      "4  home/saifulislam/work/physionet/physionet2024/...   \n",
      "\n",
      "                               label  \n",
      "0  [1, 0, 0, 0, 0, 0, 0, 0, 0, 0, 0]  \n",
      "1  [0, 0, 0, 1, 1, 1, 0, 0, 0, 0, 0]  \n",
      "2  [0, 0, 0, 1, 0, 0, 0, 0, 0, 0, 0]  \n",
      "3  [0, 0, 0, 0, 1, 0, 0, 0, 1, 0, 0]  \n",
      "4  [0, 0, 1, 1, 0, 0, 0, 0, 0, 0, 0]  \n"
     ]
    }
   ],
   "source": [
    "# Remove '../../../../../' from the start of each path in the 'path' column\n",
    "test_df['path'] = test_df['path'].str.replace('../../../../../', '', regex=False)\n",
    "test_df['path'] = test_df['path'].str.replace('gen_full_clean_h', 'gen_full', regex=False)\n",
    "\n",
    "# Print the updated DataFrame to verify\n",
    "print(test_df.head())"
   ]
  },
  {
   "cell_type": "code",
   "execution_count": 10,
   "id": "9fb58baa-41c7-4c7f-be87-655e88047ee3",
   "metadata": {},
   "outputs": [
    {
     "data": {
      "text/plain": [
       "'home/saifulislam/work/physionet/physionet2024/python-example-2024-main/physionet.org/files/ptb-xl/1.0.3/records100/gen_full/00435_lr-0.png'"
      ]
     },
     "execution_count": 10,
     "metadata": {},
     "output_type": "execute_result"
    }
   ],
   "source": [
    "test_df['path'][0]"
   ]
  }
 ],
 "metadata": {
  "kernelspec": {
   "display_name": "Python (ecg_diagnosis_models)",
   "language": "python",
   "name": "ecg_diagnosis_models"
  },
  "language_info": {
   "codemirror_mode": {
    "name": "ipython",
    "version": 3
   },
   "file_extension": ".py",
   "mimetype": "text/x-python",
   "name": "python",
   "nbconvert_exporter": "python",
   "pygments_lexer": "ipython3",
   "version": "3.9.19"
  }
 },
 "nbformat": 4,
 "nbformat_minor": 5
}
