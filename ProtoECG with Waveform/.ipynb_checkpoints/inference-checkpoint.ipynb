{
 "cells": [
  {
   "cell_type": "markdown",
   "metadata": {},
   "source": [
    "### Import libraries"
   ]
  },
  {
   "cell_type": "code",
   "execution_count": 2,
   "metadata": {},
   "outputs": [],
   "source": [
    "import torch\n",
    "import torch.utils.data\n",
    "import torchvision.transforms as transforms\n",
    "import torchvision.datasets as datasets\n",
    "import model\n",
    "from dataset_class import PTBXL_Dataset"
   ]
  },
  {
   "cell_type": "markdown",
   "metadata": {},
   "source": [
    "### Import some settings"
   ]
  },
  {
   "cell_type": "code",
   "execution_count": 4,
   "metadata": {},
   "outputs": [],
   "source": [
    "# book keeping namings and code\n",
    "from settings import base_architecture, img_size, prototype_shape, num_classes, \\\n",
    "                     prototype_activation_function, add_on_layers_type, experiment_run, \\\n",
    "                     train_batch_size, test_batch_size, train_push_batch_size, \\\n",
    "                     train_information, test_information, num_train_examples, num_test_examples"
   ]
  },
  {
   "cell_type": "markdown",
   "metadata": {},
   "source": [
    "### Create the model"
   ]
  },
  {
   "cell_type": "code",
   "execution_count": 5,
   "metadata": {},
   "outputs": [],
   "source": [
    "# construct the model\n",
    "base_architecture = 'resnet18'\n",
    "ppnet = model.construct_PPNet(base_architecture=base_architecture,\n",
    "                              pretrained=True, img_size=img_size,\n",
    "                              prototype_shape=prototype_shape,\n",
    "                              num_classes=num_classes,\n",
    "                              prototype_activation_function=prototype_activation_function,\n",
    "                              add_on_layers_type=add_on_layers_type)\n",
    "ppnet = ppnet.to('cuda')"
   ]
  },
  {
   "cell_type": "code",
   "execution_count": 6,
   "metadata": {},
   "outputs": [
    {
     "data": {
      "text/plain": [
       "PPNet(\n",
       "\tfeatures: resnet18_features,\n",
       "\timg_size: 224,\n",
       "\tprototype_shape: (160, 128, 1, 1),\n",
       "\tproto_layer_rf_info: [7, 32, 435, 0.5],\n",
       "\tnum_classes: 5,\n",
       "\tepsilon: 0.0001\n",
       ")"
      ]
     },
     "execution_count": 6,
     "metadata": {},
     "output_type": "execute_result"
    }
   ],
   "source": [
    "# # Load the model\n",
    "# ppnet.load_state_dict(torch.load(model_path))\n",
    "ppnet.eval()"
   ]
  },
  {
   "cell_type": "markdown",
   "metadata": {},
   "source": [
    "### Data loader (see the dataset_class to understand dataloader)"
   ]
  },
  {
   "cell_type": "code",
   "execution_count": 7,
   "metadata": {},
   "outputs": [],
   "source": [
    "# Initialize dataset and dataloader for training\n",
    "train_dataset = PTBXL_Dataset(train_information, reshape=True)\n",
    "# Initialize dataset and dataloader for testing\n",
    "test_dataset = PTBXL_Dataset(test_information, reshape=True)\n",
    "\n",
    "# Create data loaders for the subsets\n",
    "train_loader = torch.utils.data.DataLoader(train_dataset, batch_size=train_batch_size, shuffle=True, num_workers=4, pin_memory=False)\n",
    "test_loader = torch.utils.data.DataLoader(test_dataset, batch_size=test_batch_size, shuffle=True, num_workers=4, pin_memory=False)\n"
   ]
  },
  {
   "cell_type": "code",
   "execution_count": 8,
   "metadata": {},
   "outputs": [
    {
     "name": "stdout",
     "output_type": "stream",
     "text": [
      "torch.Size([80, 3, 100, 40]) torch.Size([80])\n"
     ]
    }
   ],
   "source": [
    "for waveforms, labels in train_loader:\n",
    "    waveforms = waveforms.cuda()\n",
    "    labels = labels.cuda()\n",
    "    print(waveforms.shape, labels.shape)\n",
    "    break"
   ]
  },
  {
   "cell_type": "markdown",
   "metadata": {},
   "source": [
    "### Inference\n",
    "#### Note:\n",
    "I loaded waveforms, reshaped each waveform to shape (3, x, x). This is because the backend i am using are still the conv. backends that expect images with 3 channels."
   ]
  },
  {
   "cell_type": "code",
   "execution_count": 9,
   "metadata": {},
   "outputs": [
    {
     "name": "stdout",
     "output_type": "stream",
     "text": [
      "Shape of logits is: torch.Size([80, 5])\n",
      "Shape of prototype layer activations is: torch.Size([80, 160])\n"
     ]
    }
   ],
   "source": [
    "logits, min_distances = ppnet(waveforms)\n",
    "\n",
    "print(f\"Shape of logits is: {logits.shape}\")\n",
    "print(f\"Shape of prototype layer activations is: {min_distances.shape}\")"
   ]
  },
  {
   "cell_type": "markdown",
   "metadata": {},
   "source": [
    "## Note:\n",
    "In this model, prototypes are for diagnostic labels. And for each of the 5 labels, there are 32 prototypes. Hence the shape of min_distances for each example is 32 * 5 = 160."
   ]
  }
 ],
 "metadata": {
  "kernelspec": {
   "display_name": "Python (ecg_diagnosis_models)",
   "language": "python",
   "name": "ecg_diagnosis_models"
  },
  "language_info": {
   "codemirror_mode": {
    "name": "ipython",
    "version": 3
   },
   "file_extension": ".py",
   "mimetype": "text/x-python",
   "name": "python",
   "nbconvert_exporter": "python",
   "pygments_lexer": "ipython3",
   "version": "3.9.19"
  }
 },
 "nbformat": 4,
 "nbformat_minor": 4
}
